{
 "cells": [
  {
   "cell_type": "code",
   "execution_count": 1,
   "metadata": {},
   "outputs": [],
   "source": [
    "import pandas as pd\n",
    "import numpy as np\n",
    "\n",
    "from timeit import default_timer as timer\n",
    "\n",
    "import matplotlib.pyplot as plt\n",
    "import matplotlib\n",
    "%matplotlib inline"
   ]
  },
  {
   "cell_type": "code",
   "execution_count": 21,
   "metadata": {},
   "outputs": [],
   "source": [
    "import re"
   ]
  },
  {
   "cell_type": "code",
   "execution_count": 2,
   "metadata": {},
   "outputs": [
    {
     "name": "stdout",
     "output_type": "stream",
     "text": [
      "/Users/arina/projects/FAERS_graph\r\n"
     ]
    }
   ],
   "source": [
    "!pwd"
   ]
  },
  {
   "cell_type": "code",
   "execution_count": 3,
   "metadata": {},
   "outputs": [],
   "source": [
    "raw_data_path = \"data/raw/\""
   ]
  },
  {
   "cell_type": "code",
   "execution_count": 4,
   "metadata": {},
   "outputs": [
    {
     "name": "stdout",
     "output_type": "stream",
     "text": [
      "\u001b[1m\u001b[36mascii_2018q4\u001b[m\u001b[m \u001b[1m\u001b[36mxml_2018q4\u001b[m\u001b[m\r\n"
     ]
    }
   ],
   "source": [
    "!ls data/raw/"
   ]
  },
  {
   "cell_type": "code",
   "execution_count": 5,
   "metadata": {},
   "outputs": [
    {
     "name": "stdout",
     "output_type": "stream",
     "text": [
      "1_ADR18Q4.xml 2_ADR18Q4.xml 3_ADR18Q4.xml XML_NTS.pdf   xml18q4.pdf\r\n"
     ]
    }
   ],
   "source": [
    "!ls data/raw/xml_2018q4/xml"
   ]
  },
  {
   "cell_type": "code",
   "execution_count": 6,
   "metadata": {},
   "outputs": [
    {
     "name": "stdout",
     "output_type": "stream",
     "text": [
      "<?xml version=\"1.0\"?>\r\n",
      "<ichicsr lang=\"en\">\r\n",
      "  <ichicsrmessageheader>\r\n",
      "    <messagetype>ICSR</messagetype>\r\n",
      "    <messageformatversion>2.1</messageformatversion>\r\n",
      "    <messageformatrelease>1.0</messageformatrelease>\r\n",
      "    <messagenumb>2019-02</messagenumb>\r\n",
      "    <messagesenderidentifier>FDA CDER</messagesenderidentifier>\r\n",
      "    <messagereceiveridentifier>Public Use</messagereceiveridentifier>\r\n",
      "    <messagedateformat>204</messagedateformat>\r\n",
      "    <messagedate>20190207040220</messagedate>\r\n",
      "  </ichicsrmessageheader>\r\n",
      "  <safetyreport>\r\n",
      "    <safetyreportversion>1</safetyreportversion>\r\n",
      "    <safetyreportid>15529521</safetyreportid>\r\n",
      "    <primarysourcecountry>US</primarysourcecountry>\r\n",
      "    <occurcountry>US</occurcountry>\r\n",
      "    <transmissiondateformat>102</transmissiondateformat>\r\n",
      "    <transmissiondate>20190205</transmissiondate>\r\n",
      "    <reporttype>1</reporttype>\r\n",
      "    <serious>2</serious>\r\n",
      "    <receivedateformat>102</receivedateformat>\r\n",
      "    <receivedate>20181018</receivedate>\r\n",
      "    <receiptdateformat>102</receiptdateformat>\r\n",
      "    <receiptdate>20181018</receiptdate>\r\n",
      "    <fulfillexpeditecriteria>2</fulfillexpeditecriteria>\r\n",
      "    <companynumb>US-AMGEN-USASP2018109973</companynumb>\r\n",
      "    <duplicate>1</duplicate>\r\n",
      "    <reportduplicate>\r\n",
      "      <duplicatesource>AMGEN</duplicatesource>\r\n",
      "      <duplicatenumb>US-AMGEN-USASP2018109973</duplicatenumb>\r\n",
      "    </reportduplicate>\r\n",
      "    <primarysource>\r\n",
      "      <reportercountry>US</reportercountry>\r\n",
      "      <qualification>1</qualification>\r\n",
      "    </primarysource>\r\n",
      "    <sender>\r\n",
      "      <sendertype>2</sendertype>\r\n",
      "      <senderorganization>FDA-Public Use </senderorganization>\r\n",
      "    </sender>\r\n",
      "    <receiver>\r\n",
      "      <receivertype>6</receivertype>\r\n",
      "      <receiverorganization>FDA</receiverorganization>\r\n",
      "    </receiver>\r\n",
      "    <patient>\r\n",
      "      <patientonsetage>70</patientonsetage>\r\n",
      "      <patientonsetageunit>801</patientonsetageunit>\r\n",
      "      <patientagegroup>6</patientagegroup>\r\n",
      "      <patientsex>1</patientsex>\r\n",
      "      <reaction>\r\n"
     ]
    }
   ],
   "source": [
    "! head -50 data/raw/xml_2018q4/xml/1_ADR18Q4.xml"
   ]
  },
  {
   "cell_type": "code",
   "execution_count": 12,
   "metadata": {},
   "outputs": [],
   "source": [
    "import xml.etree.ElementTree as ET"
   ]
  },
  {
   "cell_type": "code",
   "execution_count": 13,
   "metadata": {},
   "outputs": [],
   "source": [
    "raw_xml_path = \"data/raw/xml_2018q4/xml/\""
   ]
  },
  {
   "cell_type": "code",
   "execution_count": 14,
   "metadata": {},
   "outputs": [],
   "source": [
    "xml_file_1 = raw_xml_path + \"1_ADR18Q4.xml\""
   ]
  },
  {
   "cell_type": "code",
   "execution_count": 15,
   "metadata": {},
   "outputs": [],
   "source": [
    "tree = ET.parse(xml_file_1)\n",
    "root = tree.getroot()"
   ]
  },
  {
   "cell_type": "code",
   "execution_count": 16,
   "metadata": {},
   "outputs": [
    {
     "data": {
      "text/plain": [
       "'ichicsr'"
      ]
     },
     "execution_count": 16,
     "metadata": {},
     "output_type": "execute_result"
    }
   ],
   "source": [
    "root.tag"
   ]
  },
  {
   "cell_type": "code",
   "execution_count": 18,
   "metadata": {},
   "outputs": [
    {
     "data": {
      "text/plain": [
       "{'lang': 'en'}"
      ]
     },
     "execution_count": 18,
     "metadata": {},
     "output_type": "execute_result"
    }
   ],
   "source": [
    "root.attrib"
   ]
  },
  {
   "cell_type": "code",
   "execution_count": 19,
   "metadata": {},
   "outputs": [
    {
     "name": "stdout",
     "output_type": "stream",
     "text": [
      "ichicsrmessageheader {}\n",
      "safetyreport {}\n",
      "safetyreport {}\n",
      "safetyreport {}\n",
      "safetyreport {}\n",
      "safetyreport {}\n",
      "safetyreport {}\n",
      "safetyreport {}\n",
      "safetyreport {}\n",
      "safetyreport {}\n",
      "safetyreport {}\n"
     ]
    }
   ],
   "source": [
    "i=0\n",
    "for child in root:\n",
    "    print(child.tag, child.attrib)\n",
    "    i+=1\n",
    "    if i>10:\n",
    "        break"
   ]
  },
  {
   "cell_type": "code",
   "execution_count": 20,
   "metadata": {},
   "outputs": [
    {
     "data": {
      "text/plain": [
       "'2.1'"
      ]
     },
     "execution_count": 20,
     "metadata": {},
     "output_type": "execute_result"
    }
   ],
   "source": [
    "root[0][1].text"
   ]
  },
  {
   "cell_type": "code",
   "execution_count": null,
   "metadata": {},
   "outputs": [],
   "source": [
    "# NOTE: Try using BeautifulSoup instead, b/c I've used it before, it works with xml, and has better support for xpath\n",
    "# -- No, sticking with ET. I tried BeautifulSoup, and its XML parser took way too long (didn't finish after 15 min)."
   ]
  },
  {
   "cell_type": "code",
   "execution_count": null,
   "metadata": {},
   "outputs": [],
   "source": []
  },
  {
   "cell_type": "code",
   "execution_count": 27,
   "metadata": {},
   "outputs": [],
   "source": [
    "all_tags = list(set([elem.tag for elem in root.iter()]))"
   ]
  },
  {
   "cell_type": "code",
   "execution_count": 28,
   "metadata": {},
   "outputs": [
    {
     "data": {
      "text/plain": [
       "87"
      ]
     },
     "execution_count": 28,
     "metadata": {},
     "output_type": "execute_result"
    }
   ],
   "source": [
    "len(all_tags)"
   ]
  },
  {
   "cell_type": "code",
   "execution_count": 30,
   "metadata": {},
   "outputs": [],
   "source": [
    "all_tags.sort()"
   ]
  },
  {
   "cell_type": "code",
   "execution_count": 31,
   "metadata": {},
   "outputs": [
    {
     "data": {
      "text/plain": [
       "['actiondrug',\n",
       " 'activesubstance',\n",
       " 'activesubstancename',\n",
       " 'authoritynumb',\n",
       " 'companynumb',\n",
       " 'drug',\n",
       " 'drugadditional',\n",
       " 'drugadministrationroute',\n",
       " 'drugauthorizationnumb',\n",
       " 'drugbatchnumb',\n",
       " 'drugcharacterization',\n",
       " 'drugcumulativedosagenumb',\n",
       " 'drugcumulativedosageunit',\n",
       " 'drugdosageform',\n",
       " 'drugdosagetext',\n",
       " 'drugenddate',\n",
       " 'drugenddateformat',\n",
       " 'drugindication',\n",
       " 'drugintervaldosagedefinition',\n",
       " 'drugintervaldosageunitnumb',\n",
       " 'drugrecuraction',\n",
       " 'drugrecurreadministration',\n",
       " 'drugrecurrence',\n",
       " 'drugseparatedosagenumb',\n",
       " 'drugstartdate',\n",
       " 'drugstartdateformat',\n",
       " 'drugstructuredosagenumb',\n",
       " 'drugstructuredosageunit',\n",
       " 'drugtreatmentduration',\n",
       " 'drugtreatmentdurationunit',\n",
       " 'duplicate',\n",
       " 'duplicatenumb',\n",
       " 'duplicatesource',\n",
       " 'fulfillexpeditecriteria',\n",
       " 'ichicsr',\n",
       " 'ichicsrmessageheader',\n",
       " 'literaturereference',\n",
       " 'medicinalproduct',\n",
       " 'messagedate',\n",
       " 'messagedateformat',\n",
       " 'messageformatrelease',\n",
       " 'messageformatversion',\n",
       " 'messagenumb',\n",
       " 'messagereceiveridentifier',\n",
       " 'messagesenderidentifier',\n",
       " 'messagetype',\n",
       " 'narrativeincludeclinical',\n",
       " 'occurcountry',\n",
       " 'patient',\n",
       " 'patientagegroup',\n",
       " 'patientonsetage',\n",
       " 'patientonsetageunit',\n",
       " 'patientsex',\n",
       " 'patientweight',\n",
       " 'primarysource',\n",
       " 'primarysourcecountry',\n",
       " 'qualification',\n",
       " 'reaction',\n",
       " 'reactionmeddrapt',\n",
       " 'reactionmeddraversionpt',\n",
       " 'reactionoutcome',\n",
       " 'receiptdate',\n",
       " 'receiptdateformat',\n",
       " 'receivedate',\n",
       " 'receivedateformat',\n",
       " 'receiver',\n",
       " 'receiverorganization',\n",
       " 'receivertype',\n",
       " 'reportduplicate',\n",
       " 'reportercountry',\n",
       " 'reporttype',\n",
       " 'safetyreport',\n",
       " 'safetyreportid',\n",
       " 'safetyreportversion',\n",
       " 'sender',\n",
       " 'senderorganization',\n",
       " 'sendertype',\n",
       " 'serious',\n",
       " 'seriousnesscongenitalanomali',\n",
       " 'seriousnessdeath',\n",
       " 'seriousnessdisabling',\n",
       " 'seriousnesshospitalization',\n",
       " 'seriousnesslifethreatening',\n",
       " 'seriousnessother',\n",
       " 'summary',\n",
       " 'transmissiondate',\n",
       " 'transmissiondateformat']"
      ]
     },
     "execution_count": 31,
     "metadata": {},
     "output_type": "execute_result"
    }
   ],
   "source": [
    "all_tags"
   ]
  },
  {
   "cell_type": "code",
   "execution_count": null,
   "metadata": {},
   "outputs": [],
   "source": []
  },
  {
   "cell_type": "code",
   "execution_count": 32,
   "metadata": {},
   "outputs": [
    {
     "name": "stdout",
     "output_type": "stream",
     "text": [
      "15529521\n",
      "15529522\n",
      "15529524\n",
      "15529856\n",
      "15529858\n",
      "15529861\n",
      "15530134\n",
      "15529556\n",
      "15529558\n",
      "15529559\n",
      "15529564\n"
     ]
    }
   ],
   "source": [
    "i=0\n",
    "        \n",
    "for report_id in root.iter('safetyreportid'):\n",
    "    print(report_id.text)\n",
    "    i+=1\n",
    "    if i>10:\n",
    "        break"
   ]
  },
  {
   "cell_type": "code",
   "execution_count": null,
   "metadata": {},
   "outputs": [],
   "source": []
  },
  {
   "cell_type": "markdown",
   "metadata": {},
   "source": [
    "The ASCIIs look better, let's start with them instead."
   ]
  },
  {
   "cell_type": "code",
   "execution_count": 34,
   "metadata": {},
   "outputs": [
    {
     "name": "stdout",
     "output_type": "stream",
     "text": [
      "ASC_NTS.pdf  INDI18Q4.txt RPSR18Q4.txt drug18q4.pdf reac18q4.pdf\r\n",
      "DEMO18Q4.txt OUTC18Q4.txt THER18Q4.txt indi18q4.pdf rpsr18q4.pdf\r\n",
      "DRUG18Q4.txt REAC18Q4.txt demo18q4.pdf outc18q4.pdf ther18q4.pdf\r\n"
     ]
    }
   ],
   "source": [
    "!ls data/raw/ascii_2018q4/ascii"
   ]
  },
  {
   "cell_type": "code",
   "execution_count": 35,
   "metadata": {
    "scrolled": true
   },
   "outputs": [
    {
     "name": "stdout",
     "output_type": "stream",
     "text": [
      "primaryid$caseid$caseversion$i_f_code$event_dt$mfr_dt$init_fda_dt$fda_dt$rept_cod$auth_num$mfr_num$mfr_sndr$lit_ref$age$age_cod$age_grp$sex$e_sub$wt$wt_cod$rept_dt$to_mfr$occp_cod$reporter_country$occr_country\r\n",
      "100035916$10003591$6$F$20130718$20181203$20140312$20181211$EXP$$PHHY2013GB101660$NOVARTIS$$47$YR$$F$Y$$$20181211$$OT$GB$GB\r\n",
      "100050413$10005041$3$F$20140306$20141118$20140312$20181213$EXP$$US-TEVA-468475USA$TEVA$$25$YR$$F$Y$68.1$KG$20181213$$CN$US$US\r\n",
      "1000551312$10005513$12$F$20120209$20181107$20140313$20181115$EXP$$BR-AMGEN-BRASP2012013548$AMGEN$$55$YR$A$F$Y$67$KG$20181115$$CN$BR$BR\r\n",
      "100058832$10005883$2$F$$20180928$20140313$20181012$EXP$$FR-RANBAXY-2014RR-78735$RANBAXY$$31$YR$$F$Y$$$20181012$$OT$GB$FR\r\n",
      "100065479$10006547$9$F$201203$20181211$20140313$20181228$EXP$$US-BAYER-2014-035909$BAYER$$36$YR$A$F$Y$90.7$KG$20181228$$CN$US$US\r\n",
      "100066188$10006618$8$F$$20181004$20140313$20181017$PER$$US-PFIZER INC-2014069077$PFIZER$$58$YR$$F$Y$$$20181017$$CN$US$US\r\n",
      "1000808588$10008085$88$F$20131213$20181218$20140313$20181225$EXP$$PHHY2013CA071340$NOVARTIS$$73$YR$$F$Y$50.34$KG$20181225$$MD$CA$CA\r\n",
      "100088883$10008888$3$F$2012$20181219$20140312$20181221$EXP$$US-INCYTE CORPORATION-2012IN000360$INCYTE$$$$$$Y$$$20181221$$CN$US$US\r\n",
      "100098293$10009829$3$F$20130107$20181203$20140312$20181211$PER$$US-INCYTE CORPORATION-2013IN000064$INCYTE$$$$$$Y$$$20181211$$MD$US$US\r\n"
     ]
    }
   ],
   "source": [
    "!head data/raw/ascii_2018q4/ascii/DEMO18Q4.txt"
   ]
  },
  {
   "cell_type": "code",
   "execution_count": 37,
   "metadata": {},
   "outputs": [],
   "source": [
    "raw_ascii_path = \"data/raw/ascii_2018q4/ascii/\""
   ]
  },
  {
   "cell_type": "code",
   "execution_count": 38,
   "metadata": {},
   "outputs": [],
   "source": [
    "ascii_file_demo = raw_ascii_path + \"DEMO18Q4.txt\""
   ]
  },
  {
   "cell_type": "code",
   "execution_count": 53,
   "metadata": {},
   "outputs": [],
   "source": [
    "datatypes = {\n",
    "    'primaryid': 'object', \n",
    "    'caseid': 'object', \n",
    "    'caseversion': np.int32, \n",
    "    'i_f_code': 'object', \n",
    "    'event_dt': 'object', \n",
    "    'mfr_dt': 'object',\n",
    "    'init_fda_dt': 'object', \n",
    "    'fda_dt': 'object', \n",
    "    'rept_cod': 'object', \n",
    "    'auth_num': 'object', \n",
    "    'mfr_num': 'object', \n",
    "    'mfr_sndr': 'object',\n",
    "    'lit_ref': 'object', \n",
    "    'age': np.int32, \n",
    "    'age_cod': 'object', \n",
    "    'age_grp': 'object', \n",
    "    'sex': 'object', \n",
    "    'e_sub': 'object', \n",
    "    'wt': np.float64, \n",
    "    'wt_cod': 'object',\n",
    "    'rept_dt': 'object', \n",
    "    'to_mfr': 'object', \n",
    "    'occp_cod': 'object', \n",
    "    'reporter_country': 'object', \n",
    "    'occr_country': 'object'\n",
    "}\n",
    "\n",
    "# {‘a’: np.float64, ‘b’: np.int32, ‘c’: ‘Int64’}"
   ]
  },
  {
   "cell_type": "code",
   "execution_count": 55,
   "metadata": {},
   "outputs": [],
   "source": [
    "demo = pd.read_csv(ascii_file_demo, sep='$', dtype='object')"
   ]
  },
  {
   "cell_type": "code",
   "execution_count": 56,
   "metadata": {},
   "outputs": [
    {
     "data": {
      "text/plain": [
       "Index(['primaryid', 'caseid', 'caseversion', 'i_f_code', 'event_dt', 'mfr_dt',\n",
       "       'init_fda_dt', 'fda_dt', 'rept_cod', 'auth_num', 'mfr_num', 'mfr_sndr',\n",
       "       'lit_ref', 'age', 'age_cod', 'age_grp', 'sex', 'e_sub', 'wt', 'wt_cod',\n",
       "       'rept_dt', 'to_mfr', 'occp_cod', 'reporter_country', 'occr_country'],\n",
       "      dtype='object')"
      ]
     },
     "execution_count": 56,
     "metadata": {},
     "output_type": "execute_result"
    }
   ],
   "source": [
    "demo.columns"
   ]
  },
  {
   "cell_type": "code",
   "execution_count": 57,
   "metadata": {},
   "outputs": [
    {
     "data": {
      "text/plain": [
       "0       NaN\n",
       "1      68.1\n",
       "2        67\n",
       "3       NaN\n",
       "4      90.7\n",
       "5       NaN\n",
       "6     50.34\n",
       "7       NaN\n",
       "8       NaN\n",
       "9       NaN\n",
       "10      NaN\n",
       "11      NaN\n",
       "12      NaN\n",
       "13       72\n",
       "14      NaN\n",
       "15       79\n",
       "16      NaN\n",
       "17      NaN\n",
       "18      NaN\n",
       "19      NaN\n",
       "Name: wt, dtype: object"
      ]
     },
     "execution_count": 57,
     "metadata": {},
     "output_type": "execute_result"
    }
   ],
   "source": [
    "demo.wt.head(20)"
   ]
  },
  {
   "cell_type": "code",
   "execution_count": 58,
   "metadata": {},
   "outputs": [
    {
     "data": {
      "text/html": [
       "<div>\n",
       "<style scoped>\n",
       "    .dataframe tbody tr th:only-of-type {\n",
       "        vertical-align: middle;\n",
       "    }\n",
       "\n",
       "    .dataframe tbody tr th {\n",
       "        vertical-align: top;\n",
       "    }\n",
       "\n",
       "    .dataframe thead th {\n",
       "        text-align: right;\n",
       "    }\n",
       "</style>\n",
       "<table border=\"1\" class=\"dataframe\">\n",
       "  <thead>\n",
       "    <tr style=\"text-align: right;\">\n",
       "      <th></th>\n",
       "      <th>primaryid</th>\n",
       "      <th>caseid</th>\n",
       "      <th>caseversion</th>\n",
       "      <th>i_f_code</th>\n",
       "      <th>event_dt</th>\n",
       "      <th>mfr_dt</th>\n",
       "      <th>init_fda_dt</th>\n",
       "      <th>fda_dt</th>\n",
       "      <th>rept_cod</th>\n",
       "      <th>auth_num</th>\n",
       "      <th>...</th>\n",
       "      <th>age_grp</th>\n",
       "      <th>sex</th>\n",
       "      <th>e_sub</th>\n",
       "      <th>wt</th>\n",
       "      <th>wt_cod</th>\n",
       "      <th>rept_dt</th>\n",
       "      <th>to_mfr</th>\n",
       "      <th>occp_cod</th>\n",
       "      <th>reporter_country</th>\n",
       "      <th>occr_country</th>\n",
       "    </tr>\n",
       "  </thead>\n",
       "  <tbody>\n",
       "    <tr>\n",
       "      <th>0</th>\n",
       "      <td>100035916</td>\n",
       "      <td>10003591</td>\n",
       "      <td>6</td>\n",
       "      <td>F</td>\n",
       "      <td>20130718</td>\n",
       "      <td>20181203</td>\n",
       "      <td>20140312</td>\n",
       "      <td>20181211</td>\n",
       "      <td>EXP</td>\n",
       "      <td>NaN</td>\n",
       "      <td>...</td>\n",
       "      <td>NaN</td>\n",
       "      <td>F</td>\n",
       "      <td>Y</td>\n",
       "      <td>NaN</td>\n",
       "      <td>NaN</td>\n",
       "      <td>20181211</td>\n",
       "      <td>NaN</td>\n",
       "      <td>OT</td>\n",
       "      <td>GB</td>\n",
       "      <td>GB</td>\n",
       "    </tr>\n",
       "    <tr>\n",
       "      <th>1</th>\n",
       "      <td>100050413</td>\n",
       "      <td>10005041</td>\n",
       "      <td>3</td>\n",
       "      <td>F</td>\n",
       "      <td>20140306</td>\n",
       "      <td>20141118</td>\n",
       "      <td>20140312</td>\n",
       "      <td>20181213</td>\n",
       "      <td>EXP</td>\n",
       "      <td>NaN</td>\n",
       "      <td>...</td>\n",
       "      <td>NaN</td>\n",
       "      <td>F</td>\n",
       "      <td>Y</td>\n",
       "      <td>68.1</td>\n",
       "      <td>KG</td>\n",
       "      <td>20181213</td>\n",
       "      <td>NaN</td>\n",
       "      <td>CN</td>\n",
       "      <td>US</td>\n",
       "      <td>US</td>\n",
       "    </tr>\n",
       "    <tr>\n",
       "      <th>2</th>\n",
       "      <td>1000551312</td>\n",
       "      <td>10005513</td>\n",
       "      <td>12</td>\n",
       "      <td>F</td>\n",
       "      <td>20120209</td>\n",
       "      <td>20181107</td>\n",
       "      <td>20140313</td>\n",
       "      <td>20181115</td>\n",
       "      <td>EXP</td>\n",
       "      <td>NaN</td>\n",
       "      <td>...</td>\n",
       "      <td>A</td>\n",
       "      <td>F</td>\n",
       "      <td>Y</td>\n",
       "      <td>67</td>\n",
       "      <td>KG</td>\n",
       "      <td>20181115</td>\n",
       "      <td>NaN</td>\n",
       "      <td>CN</td>\n",
       "      <td>BR</td>\n",
       "      <td>BR</td>\n",
       "    </tr>\n",
       "    <tr>\n",
       "      <th>3</th>\n",
       "      <td>100058832</td>\n",
       "      <td>10005883</td>\n",
       "      <td>2</td>\n",
       "      <td>F</td>\n",
       "      <td>NaN</td>\n",
       "      <td>20180928</td>\n",
       "      <td>20140313</td>\n",
       "      <td>20181012</td>\n",
       "      <td>EXP</td>\n",
       "      <td>NaN</td>\n",
       "      <td>...</td>\n",
       "      <td>NaN</td>\n",
       "      <td>F</td>\n",
       "      <td>Y</td>\n",
       "      <td>NaN</td>\n",
       "      <td>NaN</td>\n",
       "      <td>20181012</td>\n",
       "      <td>NaN</td>\n",
       "      <td>OT</td>\n",
       "      <td>GB</td>\n",
       "      <td>FR</td>\n",
       "    </tr>\n",
       "    <tr>\n",
       "      <th>4</th>\n",
       "      <td>100065479</td>\n",
       "      <td>10006547</td>\n",
       "      <td>9</td>\n",
       "      <td>F</td>\n",
       "      <td>201203</td>\n",
       "      <td>20181211</td>\n",
       "      <td>20140313</td>\n",
       "      <td>20181228</td>\n",
       "      <td>EXP</td>\n",
       "      <td>NaN</td>\n",
       "      <td>...</td>\n",
       "      <td>A</td>\n",
       "      <td>F</td>\n",
       "      <td>Y</td>\n",
       "      <td>90.7</td>\n",
       "      <td>KG</td>\n",
       "      <td>20181228</td>\n",
       "      <td>NaN</td>\n",
       "      <td>CN</td>\n",
       "      <td>US</td>\n",
       "      <td>US</td>\n",
       "    </tr>\n",
       "  </tbody>\n",
       "</table>\n",
       "<p>5 rows × 25 columns</p>\n",
       "</div>"
      ],
      "text/plain": [
       "    primaryid    caseid caseversion i_f_code  event_dt    mfr_dt init_fda_dt  \\\n",
       "0   100035916  10003591           6        F  20130718  20181203    20140312   \n",
       "1   100050413  10005041           3        F  20140306  20141118    20140312   \n",
       "2  1000551312  10005513          12        F  20120209  20181107    20140313   \n",
       "3   100058832  10005883           2        F       NaN  20180928    20140313   \n",
       "4   100065479  10006547           9        F    201203  20181211    20140313   \n",
       "\n",
       "     fda_dt rept_cod auth_num  ... age_grp sex e_sub    wt wt_cod   rept_dt  \\\n",
       "0  20181211      EXP      NaN  ...     NaN   F     Y   NaN    NaN  20181211   \n",
       "1  20181213      EXP      NaN  ...     NaN   F     Y  68.1     KG  20181213   \n",
       "2  20181115      EXP      NaN  ...       A   F     Y    67     KG  20181115   \n",
       "3  20181012      EXP      NaN  ...     NaN   F     Y   NaN    NaN  20181012   \n",
       "4  20181228      EXP      NaN  ...       A   F     Y  90.7     KG  20181228   \n",
       "\n",
       "  to_mfr occp_cod reporter_country occr_country  \n",
       "0    NaN       OT               GB           GB  \n",
       "1    NaN       CN               US           US  \n",
       "2    NaN       CN               BR           BR  \n",
       "3    NaN       OT               GB           FR  \n",
       "4    NaN       CN               US           US  \n",
       "\n",
       "[5 rows x 25 columns]"
      ]
     },
     "execution_count": 58,
     "metadata": {},
     "output_type": "execute_result"
    }
   ],
   "source": [
    "demo.head()"
   ]
  },
  {
   "cell_type": "code",
   "execution_count": 59,
   "metadata": {},
   "outputs": [
    {
     "data": {
      "text/html": [
       "<div>\n",
       "<style scoped>\n",
       "    .dataframe tbody tr th:only-of-type {\n",
       "        vertical-align: middle;\n",
       "    }\n",
       "\n",
       "    .dataframe tbody tr th {\n",
       "        vertical-align: top;\n",
       "    }\n",
       "\n",
       "    .dataframe thead th {\n",
       "        text-align: right;\n",
       "    }\n",
       "</style>\n",
       "<table border=\"1\" class=\"dataframe\">\n",
       "  <thead>\n",
       "    <tr style=\"text-align: right;\">\n",
       "      <th></th>\n",
       "      <th>primaryid</th>\n",
       "      <th>caseid</th>\n",
       "      <th>caseversion</th>\n",
       "      <th>i_f_code</th>\n",
       "      <th>event_dt</th>\n",
       "      <th>mfr_dt</th>\n",
       "      <th>init_fda_dt</th>\n",
       "      <th>fda_dt</th>\n",
       "      <th>rept_cod</th>\n",
       "      <th>auth_num</th>\n",
       "      <th>...</th>\n",
       "      <th>age_grp</th>\n",
       "      <th>sex</th>\n",
       "      <th>e_sub</th>\n",
       "      <th>wt</th>\n",
       "      <th>wt_cod</th>\n",
       "      <th>rept_dt</th>\n",
       "      <th>to_mfr</th>\n",
       "      <th>occp_cod</th>\n",
       "      <th>reporter_country</th>\n",
       "      <th>occr_country</th>\n",
       "    </tr>\n",
       "  </thead>\n",
       "  <tbody>\n",
       "    <tr>\n",
       "      <th>count</th>\n",
       "      <td>394066</td>\n",
       "      <td>394066</td>\n",
       "      <td>394066</td>\n",
       "      <td>394066</td>\n",
       "      <td>205438</td>\n",
       "      <td>370593</td>\n",
       "      <td>394066</td>\n",
       "      <td>394066</td>\n",
       "      <td>394066</td>\n",
       "      <td>20168</td>\n",
       "      <td>...</td>\n",
       "      <td>80189</td>\n",
       "      <td>347760</td>\n",
       "      <td>394066</td>\n",
       "      <td>81142</td>\n",
       "      <td>81142</td>\n",
       "      <td>393749</td>\n",
       "      <td>23479</td>\n",
       "      <td>387070</td>\n",
       "      <td>394066</td>\n",
       "      <td>394053</td>\n",
       "    </tr>\n",
       "    <tr>\n",
       "      <th>unique</th>\n",
       "      <td>394066</td>\n",
       "      <td>394066</td>\n",
       "      <td>64</td>\n",
       "      <td>2</td>\n",
       "      <td>4711</td>\n",
       "      <td>2370</td>\n",
       "      <td>2503</td>\n",
       "      <td>183</td>\n",
       "      <td>3</td>\n",
       "      <td>15597</td>\n",
       "      <td>...</td>\n",
       "      <td>6</td>\n",
       "      <td>3</td>\n",
       "      <td>2</td>\n",
       "      <td>3974</td>\n",
       "      <td>2</td>\n",
       "      <td>351</td>\n",
       "      <td>3</td>\n",
       "      <td>5</td>\n",
       "      <td>160</td>\n",
       "      <td>163</td>\n",
       "    </tr>\n",
       "    <tr>\n",
       "      <th>top</th>\n",
       "      <td>157739401</td>\n",
       "      <td>15656178</td>\n",
       "      <td>1</td>\n",
       "      <td>I</td>\n",
       "      <td>2018</td>\n",
       "      <td>20181210</td>\n",
       "      <td>20181016</td>\n",
       "      <td>20181016</td>\n",
       "      <td>EXP</td>\n",
       "      <td>0000</td>\n",
       "      <td>...</td>\n",
       "      <td>A</td>\n",
       "      <td>F</td>\n",
       "      <td>Y</td>\n",
       "      <td>70</td>\n",
       "      <td>KG</td>\n",
       "      <td>20181016</td>\n",
       "      <td>N</td>\n",
       "      <td>CN</td>\n",
       "      <td>US</td>\n",
       "      <td>US</td>\n",
       "    </tr>\n",
       "    <tr>\n",
       "      <th>freq</th>\n",
       "      <td>1</td>\n",
       "      <td>1</td>\n",
       "      <td>267661</td>\n",
       "      <td>267661</td>\n",
       "      <td>25293</td>\n",
       "      <td>6857</td>\n",
       "      <td>11177</td>\n",
       "      <td>12657</td>\n",
       "      <td>204438</td>\n",
       "      <td>14</td>\n",
       "      <td>...</td>\n",
       "      <td>48200</td>\n",
       "      <td>212580</td>\n",
       "      <td>370587</td>\n",
       "      <td>1404</td>\n",
       "      <td>80809</td>\n",
       "      <td>11312</td>\n",
       "      <td>22175</td>\n",
       "      <td>168973</td>\n",
       "      <td>249968</td>\n",
       "      <td>262062</td>\n",
       "    </tr>\n",
       "  </tbody>\n",
       "</table>\n",
       "<p>4 rows × 25 columns</p>\n",
       "</div>"
      ],
      "text/plain": [
       "        primaryid    caseid caseversion i_f_code event_dt    mfr_dt  \\\n",
       "count      394066    394066      394066   394066   205438    370593   \n",
       "unique     394066    394066          64        2     4711      2370   \n",
       "top     157739401  15656178           1        I     2018  20181210   \n",
       "freq            1         1      267661   267661    25293      6857   \n",
       "\n",
       "       init_fda_dt    fda_dt rept_cod auth_num  ... age_grp     sex   e_sub  \\\n",
       "count       394066    394066   394066    20168  ...   80189  347760  394066   \n",
       "unique        2503       183        3    15597  ...       6       3       2   \n",
       "top       20181016  20181016      EXP     0000  ...       A       F       Y   \n",
       "freq         11177     12657   204438       14  ...   48200  212580  370587   \n",
       "\n",
       "           wt wt_cod   rept_dt to_mfr occp_cod reporter_country occr_country  \n",
       "count   81142  81142    393749  23479   387070           394066       394053  \n",
       "unique   3974      2       351      3        5              160          163  \n",
       "top        70     KG  20181016      N       CN               US           US  \n",
       "freq     1404  80809     11312  22175   168973           249968       262062  \n",
       "\n",
       "[4 rows x 25 columns]"
      ]
     },
     "execution_count": 59,
     "metadata": {},
     "output_type": "execute_result"
    }
   ],
   "source": [
    "demo.describe(include='all')"
   ]
  },
  {
   "cell_type": "code",
   "execution_count": 66,
   "metadata": {},
   "outputs": [
    {
     "name": "stdout",
     "output_type": "stream",
     "text": [
      "<class 'pandas.core.frame.DataFrame'>\n",
      "RangeIndex: 394066 entries, 0 to 394065\n",
      "Data columns (total 25 columns):\n",
      "primaryid           394066 non-null object\n",
      "caseid              394066 non-null object\n",
      "caseversion         394066 non-null object\n",
      "i_f_code            394066 non-null object\n",
      "event_dt            205438 non-null object\n",
      "mfr_dt              370593 non-null object\n",
      "init_fda_dt         394066 non-null object\n",
      "fda_dt              394066 non-null object\n",
      "rept_cod            394066 non-null object\n",
      "auth_num            20168 non-null object\n",
      "mfr_num             370595 non-null object\n",
      "mfr_sndr            394065 non-null object\n",
      "lit_ref             23441 non-null object\n",
      "age                 235444 non-null object\n",
      "age_cod             235452 non-null object\n",
      "age_grp             80189 non-null object\n",
      "sex                 347760 non-null object\n",
      "e_sub               394066 non-null object\n",
      "wt                  81142 non-null object\n",
      "wt_cod              81142 non-null object\n",
      "rept_dt             393749 non-null object\n",
      "to_mfr              23479 non-null object\n",
      "occp_cod            387070 non-null object\n",
      "reporter_country    394066 non-null object\n",
      "occr_country        394053 non-null object\n",
      "dtypes: object(25)\n",
      "memory usage: 75.2+ MB\n"
     ]
    }
   ],
   "source": [
    "demo.info()"
   ]
  },
  {
   "cell_type": "code",
   "execution_count": 61,
   "metadata": {},
   "outputs": [
    {
     "data": {
      "text/plain": [
       "70       5562\n",
       "65       5499\n",
       "63       5440\n",
       "60       5394\n",
       "68       5333\n",
       "64       5316\n",
       "62       5312\n",
       "67       5191\n",
       "69       5178\n",
       "61       5177\n",
       "66       5176\n",
       "71       5159\n",
       "59       4903\n",
       "58       4885\n",
       "56       4647\n",
       "57       4605\n",
       "55       4567\n",
       "72       4561\n",
       "75       4526\n",
       "74       4404\n",
       "73       4400\n",
       "54       4260\n",
       "76       3869\n",
       "53       3831\n",
       "52       3748\n",
       "78       3631\n",
       "77       3620\n",
       "50       3488\n",
       "51       3408\n",
       "80       3266\n",
       "         ... \n",
       "27533       1\n",
       "479         1\n",
       "21658       1\n",
       "28089       1\n",
       "23725       1\n",
       "21723       1\n",
       "150         1\n",
       "954         1\n",
       "28885       1\n",
       "20244       1\n",
       "22881       1\n",
       "21406       1\n",
       "28888       1\n",
       "20366       1\n",
       "754         1\n",
       "21758       1\n",
       "22949       1\n",
       "21472       1\n",
       "1015        1\n",
       "14755       1\n",
       "30448       1\n",
       "16890       1\n",
       "26993       1\n",
       "28742       1\n",
       "27322       1\n",
       "16511       1\n",
       "22021       1\n",
       "1006        1\n",
       "1096        1\n",
       "25109       1\n",
       "Name: age, Length: 1809, dtype: int64"
      ]
     },
     "execution_count": 61,
     "metadata": {},
     "output_type": "execute_result"
    }
   ],
   "source": [
    "demo.age.value_counts()"
   ]
  },
  {
   "cell_type": "code",
   "execution_count": 62,
   "metadata": {},
   "outputs": [
    {
     "data": {
      "text/plain": [
       "0      47\n",
       "1      25\n",
       "2      55\n",
       "3      31\n",
       "4      36\n",
       "5      58\n",
       "6      73\n",
       "7     NaN\n",
       "8     NaN\n",
       "9     NaN\n",
       "10     47\n",
       "11     59\n",
       "12    NaN\n",
       "13     53\n",
       "14     27\n",
       "15     66\n",
       "16     38\n",
       "17     69\n",
       "18    NaN\n",
       "19     31\n",
       "20     43\n",
       "21     22\n",
       "22     60\n",
       "23     23\n",
       "24     82\n",
       "25     19\n",
       "26     78\n",
       "27     50\n",
       "28     52\n",
       "29     57\n",
       "30     34\n",
       "31     29\n",
       "32    NaN\n",
       "33     96\n",
       "34     53\n",
       "35     61\n",
       "36    NaN\n",
       "37     25\n",
       "38    NaN\n",
       "39    NaN\n",
       "40     69\n",
       "41     84\n",
       "42    NaN\n",
       "43     34\n",
       "44     37\n",
       "45     37\n",
       "46     50\n",
       "47     73\n",
       "48     76\n",
       "49     83\n",
       "Name: age, dtype: object"
      ]
     },
     "execution_count": 62,
     "metadata": {},
     "output_type": "execute_result"
    }
   ],
   "source": [
    "demo.age.head(50)"
   ]
  },
  {
   "cell_type": "code",
   "execution_count": 63,
   "metadata": {},
   "outputs": [
    {
     "data": {
      "text/plain": [
       "nan"
      ]
     },
     "execution_count": 63,
     "metadata": {},
     "output_type": "execute_result"
    }
   ],
   "source": [
    "demo.age[7]"
   ]
  },
  {
   "cell_type": "code",
   "execution_count": 64,
   "metadata": {},
   "outputs": [
    {
     "data": {
      "text/plain": [
       "float"
      ]
     },
     "execution_count": 64,
     "metadata": {},
     "output_type": "execute_result"
    }
   ],
   "source": [
    "type(demo.age[7])"
   ]
  },
  {
   "cell_type": "code",
   "execution_count": 68,
   "metadata": {},
   "outputs": [
    {
     "data": {
      "text/plain": [
       "str"
      ]
     },
     "execution_count": 68,
     "metadata": {},
     "output_type": "execute_result"
    }
   ],
   "source": [
    "type(demo.age[6])"
   ]
  },
  {
   "cell_type": "code",
   "execution_count": 69,
   "metadata": {},
   "outputs": [
    {
     "data": {
      "text/plain": [
       "'73'"
      ]
     },
     "execution_count": 69,
     "metadata": {},
     "output_type": "execute_result"
    }
   ],
   "source": [
    "demo.age[6]"
   ]
  },
  {
   "cell_type": "code",
   "execution_count": 71,
   "metadata": {},
   "outputs": [
    {
     "data": {
      "text/plain": [
       "True"
      ]
     },
     "execution_count": 71,
     "metadata": {},
     "output_type": "execute_result"
    }
   ],
   "source": [
    "np.isnan(demo.age[7])"
   ]
  },
  {
   "cell_type": "code",
   "execution_count": null,
   "metadata": {},
   "outputs": [],
   "source": []
  }
 ],
 "metadata": {
  "kernelspec": {
   "display_name": "Python 3",
   "language": "python",
   "name": "python3"
  },
  "language_info": {
   "codemirror_mode": {
    "name": "ipython",
    "version": 3
   },
   "file_extension": ".py",
   "mimetype": "text/x-python",
   "name": "python",
   "nbconvert_exporter": "python",
   "pygments_lexer": "ipython3",
   "version": "3.7.2"
  }
 },
 "nbformat": 4,
 "nbformat_minor": 2
}
