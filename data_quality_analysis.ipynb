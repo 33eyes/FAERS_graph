{
 "cells": [
  {
   "cell_type": "code",
   "execution_count": 1,
   "metadata": {},
   "outputs": [],
   "source": [
    "import pandas as pd\n",
    "import numpy as np\n",
    "\n",
    "from timeit import default_timer as timer\n",
    "\n",
    "import matplotlib.pyplot as plt\n",
    "import matplotlib\n",
    "%matplotlib inline"
   ]
  },
  {
   "cell_type": "code",
   "execution_count": 2,
   "metadata": {},
   "outputs": [
    {
     "name": "stdout",
     "output_type": "stream",
     "text": [
      "/Users/arina/projects/FAERS_graph\r\n"
     ]
    }
   ],
   "source": [
    "!pwd"
   ]
  },
  {
   "cell_type": "code",
   "execution_count": 3,
   "metadata": {},
   "outputs": [],
   "source": [
    "raw_data_path = \"data/raw/\""
   ]
  },
  {
   "cell_type": "code",
   "execution_count": 6,
   "metadata": {},
   "outputs": [
    {
     "name": "stdout",
     "output_type": "stream",
     "text": [
      "\u001b[1m\u001b[36mascii_2018q4\u001b[m\u001b[m \u001b[1m\u001b[36mxml_2018q4\u001b[m\u001b[m\r\n"
     ]
    }
   ],
   "source": [
    "!ls data/raw/"
   ]
  },
  {
   "cell_type": "code",
   "execution_count": 8,
   "metadata": {},
   "outputs": [
    {
     "name": "stdout",
     "output_type": "stream",
     "text": [
      "1_ADR18Q4.xml 2_ADR18Q4.xml 3_ADR18Q4.xml XML_NTS.pdf   xml18q4.pdf\r\n"
     ]
    }
   ],
   "source": [
    "!ls data/raw/xml_2018q4/xml"
   ]
  },
  {
   "cell_type": "code",
   "execution_count": 11,
   "metadata": {},
   "outputs": [
    {
     "name": "stdout",
     "output_type": "stream",
     "text": [
      "<?xml version=\"1.0\"?>\r\n",
      "<ichicsr lang=\"en\">\r\n",
      "  <ichicsrmessageheader>\r\n",
      "    <messagetype>ICSR</messagetype>\r\n",
      "    <messageformatversion>2.1</messageformatversion>\r\n",
      "    <messageformatrelease>1.0</messageformatrelease>\r\n",
      "    <messagenumb>2019-02</messagenumb>\r\n",
      "    <messagesenderidentifier>FDA CDER</messagesenderidentifier>\r\n",
      "    <messagereceiveridentifier>Public Use</messagereceiveridentifier>\r\n",
      "    <messagedateformat>204</messagedateformat>\r\n",
      "    <messagedate>20190207040220</messagedate>\r\n",
      "  </ichicsrmessageheader>\r\n",
      "  <safetyreport>\r\n",
      "    <safetyreportversion>1</safetyreportversion>\r\n",
      "    <safetyreportid>15529521</safetyreportid>\r\n",
      "    <primarysourcecountry>US</primarysourcecountry>\r\n",
      "    <occurcountry>US</occurcountry>\r\n",
      "    <transmissiondateformat>102</transmissiondateformat>\r\n",
      "    <transmissiondate>20190205</transmissiondate>\r\n",
      "    <reporttype>1</reporttype>\r\n",
      "    <serious>2</serious>\r\n",
      "    <receivedateformat>102</receivedateformat>\r\n",
      "    <receivedate>20181018</receivedate>\r\n",
      "    <receiptdateformat>102</receiptdateformat>\r\n",
      "    <receiptdate>20181018</receiptdate>\r\n",
      "    <fulfillexpeditecriteria>2</fulfillexpeditecriteria>\r\n",
      "    <companynumb>US-AMGEN-USASP2018109973</companynumb>\r\n",
      "    <duplicate>1</duplicate>\r\n",
      "    <reportduplicate>\r\n",
      "      <duplicatesource>AMGEN</duplicatesource>\r\n",
      "      <duplicatenumb>US-AMGEN-USASP2018109973</duplicatenumb>\r\n",
      "    </reportduplicate>\r\n",
      "    <primarysource>\r\n",
      "      <reportercountry>US</reportercountry>\r\n",
      "      <qualification>1</qualification>\r\n",
      "    </primarysource>\r\n",
      "    <sender>\r\n",
      "      <sendertype>2</sendertype>\r\n",
      "      <senderorganization>FDA-Public Use </senderorganization>\r\n",
      "    </sender>\r\n",
      "    <receiver>\r\n",
      "      <receivertype>6</receivertype>\r\n",
      "      <receiverorganization>FDA</receiverorganization>\r\n",
      "    </receiver>\r\n",
      "    <patient>\r\n",
      "      <patientonsetage>70</patientonsetage>\r\n",
      "      <patientonsetageunit>801</patientonsetageunit>\r\n",
      "      <patientagegroup>6</patientagegroup>\r\n",
      "      <patientsex>1</patientsex>\r\n",
      "      <reaction>\r\n"
     ]
    }
   ],
   "source": [
    "! head -50 data/raw/xml_2018q4/xml/1_ADR18Q4.xml"
   ]
  },
  {
   "cell_type": "code",
   "execution_count": 12,
   "metadata": {},
   "outputs": [],
   "source": [
    "import xml.etree.ElementTree as ET"
   ]
  },
  {
   "cell_type": "code",
   "execution_count": 13,
   "metadata": {},
   "outputs": [],
   "source": [
    "raw_xml_path = \"data/raw/xml_2018q4/xml/\""
   ]
  },
  {
   "cell_type": "code",
   "execution_count": 14,
   "metadata": {},
   "outputs": [],
   "source": [
    "xml_file_1 = raw_xml_path + \"1_ADR18Q4.xml\"\n",
    "tree = ET.parse(xml_file_1)\n",
    "root = tree.getroot()"
   ]
  },
  {
   "cell_type": "code",
   "execution_count": 15,
   "metadata": {},
   "outputs": [
    {
     "data": {
      "text/plain": [
       "'ichicsr'"
      ]
     },
     "execution_count": 15,
     "metadata": {},
     "output_type": "execute_result"
    }
   ],
   "source": [
    "root.tag"
   ]
  },
  {
   "cell_type": "code",
   "execution_count": null,
   "metadata": {},
   "outputs": [],
   "source": []
  }
 ],
 "metadata": {
  "kernelspec": {
   "display_name": "Python 3",
   "language": "python",
   "name": "python3"
  },
  "language_info": {
   "codemirror_mode": {
    "name": "ipython",
    "version": 3
   },
   "file_extension": ".py",
   "mimetype": "text/x-python",
   "name": "python",
   "nbconvert_exporter": "python",
   "pygments_lexer": "ipython3",
   "version": "3.7.2"
  }
 },
 "nbformat": 4,
 "nbformat_minor": 2
}
