{
 "cells": [
  {
   "cell_type": "markdown",
   "metadata": {},
   "source": [
    "# FAERS graph"
   ]
  },
  {
   "cell_type": "markdown",
   "metadata": {},
   "source": [
    "## Data quality analysis\n",
    "\n",
    "### 1. Introduction\n",
    "\n",
    "This notebook explores the data contents and quality of the FAERS data files, available for download [here](https://fis.fda.gov/extensions/FPD-QDE-FAERS/FPD-QDE-FAERS.html).\n",
    "\n",
    "\n",
    "#### Notebook contents:\n",
    "1. [Introduction](#1.-Introduction)\n",
    "2. [Notebook setup](#2.-Notebook-setup)\n",
    "3. [Data sources]()\n",
    "4. [Sample raw data files]()\n",
    "5. [DQA summary]()\n",
    "6. [Next steps]()"
   ]
  },
  {
   "cell_type": "markdown",
   "metadata": {},
   "source": [
    "### 2. Notebook setup  \n",
    "#### Imports"
   ]
  },
  {
   "cell_type": "code",
   "execution_count": 1,
   "metadata": {},
   "outputs": [],
   "source": [
    "import pandas as pd\n",
    "import numpy as np\n",
    "\n",
    "import re\n",
    "import xml.etree.ElementTree as ET\n",
    "\n",
    "from timeit import default_timer as timer\n",
    "\n",
    "import matplotlib.pyplot as plt\n",
    "import matplotlib\n",
    "%matplotlib inline"
   ]
  },
  {
   "cell_type": "markdown",
   "metadata": {},
   "source": [
    "#### Settings"
   ]
  },
  {
   "cell_type": "code",
   "execution_count": 2,
   "metadata": {},
   "outputs": [],
   "source": [
    "# Customize matplotlib default settings\n",
    "matplotlib.rcParams.update({'font.size': 16})\n",
    "plt.rcParams[\"figure.figsize\"] = (20,10)"
   ]
  },
  {
   "cell_type": "code",
   "execution_count": 3,
   "metadata": {},
   "outputs": [],
   "source": [
    "# set up Pandas options\n",
    "pd.set_option('display.max_columns', 25)\n",
    "pd.set_option('display.max_rows', 50)\n",
    "pd.set_option('display.precision', 3)\n",
    "pd.options.display.float_format = '{:.2f}'.format"
   ]
  },
  {
   "cell_type": "markdown",
   "metadata": {},
   "source": [
    "### 3. Data sources\n",
    "\n",
    "FAERS stands for FDA Adverse Event Reporting System. It is a database that contains adverse event reports, medication error reports and product quality complaints resulting in adverse events that were submitted to FDA. The database is designed to support the FDA's post-marketing safety surveillance program for drug and therapeutic biologic products. ([Source](https://www.fda.gov/Drugs/GuidanceComplianceRegulatoryInformation/Surveillance/AdverseDrugEffects/default.htm)) \n",
    "\n",
    "\n",
    "https://www.fda.gov/Drugs/GuidanceComplianceRegulatoryInformation/Surveillance/AdverseDrugEffects/ucm082193.htm"
   ]
  },
  {
   "cell_type": "code",
   "execution_count": 3,
   "metadata": {},
   "outputs": [],
   "source": [
    "raw_data_path = \"data/raw/\""
   ]
  },
  {
   "cell_type": "code",
   "execution_count": 4,
   "metadata": {},
   "outputs": [
    {
     "name": "stdout",
     "output_type": "stream",
     "text": [
      "\u001b[1m\u001b[36mascii_2018q4\u001b[m\u001b[m \u001b[1m\u001b[36mxml_2018q4\u001b[m\u001b[m\r\n"
     ]
    }
   ],
   "source": [
    "!ls data/raw/"
   ]
  },
  {
   "cell_type": "markdown",
   "metadata": {},
   "source": [
    "Let's look at the XML datafiles."
   ]
  },
  {
   "cell_type": "code",
   "execution_count": 5,
   "metadata": {},
   "outputs": [
    {
     "name": "stdout",
     "output_type": "stream",
     "text": [
      "1_ADR18Q4.xml 2_ADR18Q4.xml 3_ADR18Q4.xml XML_NTS.pdf   xml18q4.pdf\r\n"
     ]
    }
   ],
   "source": [
    "!ls data/raw/xml_2018q4/xml"
   ]
  },
  {
   "cell_type": "code",
   "execution_count": 5,
   "metadata": {},
   "outputs": [
    {
     "name": "stdout",
     "output_type": "stream",
     "text": [
      "<?xml version=\"1.0\"?>\r\n",
      "<ichicsr lang=\"en\">\r\n",
      "  <ichicsrmessageheader>\r\n",
      "    <messagetype>ICSR</messagetype>\r\n",
      "    <messageformatversion>2.1</messageformatversion>\r\n",
      "    <messageformatrelease>1.0</messageformatrelease>\r\n",
      "    <messagenumb>2019-02</messagenumb>\r\n",
      "    <messagesenderidentifier>FDA CDER</messagesenderidentifier>\r\n",
      "    <messagereceiveridentifier>Public Use</messagereceiveridentifier>\r\n",
      "    <messagedateformat>204</messagedateformat>\r\n",
      "    <messagedate>20190207040220</messagedate>\r\n",
      "  </ichicsrmessageheader>\r\n",
      "  <safetyreport>\r\n",
      "    <safetyreportversion>1</safetyreportversion>\r\n",
      "    <safetyreportid>15529521</safetyreportid>\r\n",
      "    <primarysourcecountry>US</primarysourcecountry>\r\n",
      "    <occurcountry>US</occurcountry>\r\n",
      "    <transmissiondateformat>102</transmissiondateformat>\r\n",
      "    <transmissiondate>20190205</transmissiondate>\r\n",
      "    <reporttype>1</reporttype>\r\n",
      "    <serious>2</serious>\r\n",
      "    <receivedateformat>102</receivedateformat>\r\n",
      "    <receivedate>20181018</receivedate>\r\n",
      "    <receiptdateformat>102</receiptdateformat>\r\n",
      "    <receiptdate>20181018</receiptdate>\r\n",
      "    <fulfillexpeditecriteria>2</fulfillexpeditecriteria>\r\n",
      "    <companynumb>US-AMGEN-USASP2018109973</companynumb>\r\n",
      "    <duplicate>1</duplicate>\r\n",
      "    <reportduplicate>\r\n",
      "      <duplicatesource>AMGEN</duplicatesource>\r\n",
      "      <duplicatenumb>US-AMGEN-USASP2018109973</duplicatenumb>\r\n",
      "    </reportduplicate>\r\n",
      "    <primarysource>\r\n",
      "      <reportercountry>US</reportercountry>\r\n",
      "      <qualification>1</qualification>\r\n",
      "    </primarysource>\r\n",
      "    <sender>\r\n",
      "      <sendertype>2</sendertype>\r\n",
      "      <senderorganization>FDA-Public Use </senderorganization>\r\n",
      "    </sender>\r\n",
      "    <receiver>\r\n",
      "      <receivertype>6</receivertype>\r\n",
      "      <receiverorganization>FDA</receiverorganization>\r\n",
      "    </receiver>\r\n",
      "    <patient>\r\n",
      "      <patientonsetage>70</patientonsetage>\r\n",
      "      <patientonsetageunit>801</patientonsetageunit>\r\n",
      "      <patientagegroup>6</patientagegroup>\r\n",
      "      <patientsex>1</patientsex>\r\n",
      "      <reaction>\r\n"
     ]
    }
   ],
   "source": [
    "! head -50 data/raw/xml_2018q4/xml/1_ADR18Q4.xml"
   ]
  },
  {
   "cell_type": "code",
   "execution_count": 6,
   "metadata": {},
   "outputs": [],
   "source": [
    "raw_xml_path = \"data/raw/xml_2018q4/xml/\""
   ]
  },
  {
   "cell_type": "code",
   "execution_count": 7,
   "metadata": {},
   "outputs": [],
   "source": [
    "xml_file_1 = raw_xml_path + \"1_ADR18Q4.xml\""
   ]
  },
  {
   "cell_type": "code",
   "execution_count": 8,
   "metadata": {},
   "outputs": [],
   "source": [
    "tree = ET.parse(xml_file_1)\n",
    "root = tree.getroot()"
   ]
  },
  {
   "cell_type": "code",
   "execution_count": 9,
   "metadata": {},
   "outputs": [
    {
     "data": {
      "text/plain": [
       "'ichicsr'"
      ]
     },
     "execution_count": 9,
     "metadata": {},
     "output_type": "execute_result"
    }
   ],
   "source": [
    "root.tag"
   ]
  },
  {
   "cell_type": "code",
   "execution_count": 10,
   "metadata": {},
   "outputs": [
    {
     "data": {
      "text/plain": [
       "{'lang': 'en'}"
      ]
     },
     "execution_count": 10,
     "metadata": {},
     "output_type": "execute_result"
    }
   ],
   "source": [
    "root.attrib"
   ]
  },
  {
   "cell_type": "code",
   "execution_count": 11,
   "metadata": {},
   "outputs": [
    {
     "name": "stdout",
     "output_type": "stream",
     "text": [
      "ichicsrmessageheader {}\n",
      "safetyreport {}\n",
      "safetyreport {}\n",
      "safetyreport {}\n",
      "safetyreport {}\n",
      "safetyreport {}\n",
      "safetyreport {}\n",
      "safetyreport {}\n",
      "safetyreport {}\n",
      "safetyreport {}\n",
      "safetyreport {}\n"
     ]
    }
   ],
   "source": [
    "i=0\n",
    "for child in root:\n",
    "    print(child.tag, child.attrib)\n",
    "    i+=1\n",
    "    if i>10:\n",
    "        break"
   ]
  },
  {
   "cell_type": "code",
   "execution_count": 12,
   "metadata": {},
   "outputs": [
    {
     "data": {
      "text/plain": [
       "'2.1'"
      ]
     },
     "execution_count": 12,
     "metadata": {},
     "output_type": "execute_result"
    }
   ],
   "source": [
    "root[0][1].text"
   ]
  },
  {
   "cell_type": "code",
   "execution_count": 13,
   "metadata": {},
   "outputs": [
    {
     "name": "stdout",
     "output_type": "stream",
     "text": [
      "15529521\n",
      "15529522\n",
      "15529524\n",
      "15529856\n",
      "15529858\n",
      "15529861\n",
      "15530134\n",
      "15529556\n",
      "15529558\n",
      "15529559\n",
      "15529564\n"
     ]
    }
   ],
   "source": [
    "i=0\n",
    "        \n",
    "for report_id in root.iter('safetyreportid'):\n",
    "    print(report_id.text)\n",
    "    i+=1\n",
    "    if i>10:\n",
    "        break"
   ]
  },
  {
   "cell_type": "code",
   "execution_count": 14,
   "metadata": {},
   "outputs": [],
   "source": [
    "all_tags = list(set([elem.tag for elem in root.iter()]))"
   ]
  },
  {
   "cell_type": "code",
   "execution_count": 15,
   "metadata": {},
   "outputs": [
    {
     "data": {
      "text/plain": [
       "87"
      ]
     },
     "execution_count": 15,
     "metadata": {},
     "output_type": "execute_result"
    }
   ],
   "source": [
    "len(all_tags)"
   ]
  },
  {
   "cell_type": "code",
   "execution_count": 16,
   "metadata": {},
   "outputs": [],
   "source": [
    "all_tags.sort()"
   ]
  },
  {
   "cell_type": "markdown",
   "metadata": {},
   "source": [
    "Print out all data fields in this XML file"
   ]
  },
  {
   "cell_type": "code",
   "execution_count": 17,
   "metadata": {},
   "outputs": [
    {
     "data": {
      "text/plain": [
       "['actiondrug',\n",
       " 'activesubstance',\n",
       " 'activesubstancename',\n",
       " 'authoritynumb',\n",
       " 'companynumb',\n",
       " 'drug',\n",
       " 'drugadditional',\n",
       " 'drugadministrationroute',\n",
       " 'drugauthorizationnumb',\n",
       " 'drugbatchnumb',\n",
       " 'drugcharacterization',\n",
       " 'drugcumulativedosagenumb',\n",
       " 'drugcumulativedosageunit',\n",
       " 'drugdosageform',\n",
       " 'drugdosagetext',\n",
       " 'drugenddate',\n",
       " 'drugenddateformat',\n",
       " 'drugindication',\n",
       " 'drugintervaldosagedefinition',\n",
       " 'drugintervaldosageunitnumb',\n",
       " 'drugrecuraction',\n",
       " 'drugrecurreadministration',\n",
       " 'drugrecurrence',\n",
       " 'drugseparatedosagenumb',\n",
       " 'drugstartdate',\n",
       " 'drugstartdateformat',\n",
       " 'drugstructuredosagenumb',\n",
       " 'drugstructuredosageunit',\n",
       " 'drugtreatmentduration',\n",
       " 'drugtreatmentdurationunit',\n",
       " 'duplicate',\n",
       " 'duplicatenumb',\n",
       " 'duplicatesource',\n",
       " 'fulfillexpeditecriteria',\n",
       " 'ichicsr',\n",
       " 'ichicsrmessageheader',\n",
       " 'literaturereference',\n",
       " 'medicinalproduct',\n",
       " 'messagedate',\n",
       " 'messagedateformat',\n",
       " 'messageformatrelease',\n",
       " 'messageformatversion',\n",
       " 'messagenumb',\n",
       " 'messagereceiveridentifier',\n",
       " 'messagesenderidentifier',\n",
       " 'messagetype',\n",
       " 'narrativeincludeclinical',\n",
       " 'occurcountry',\n",
       " 'patient',\n",
       " 'patientagegroup',\n",
       " 'patientonsetage',\n",
       " 'patientonsetageunit',\n",
       " 'patientsex',\n",
       " 'patientweight',\n",
       " 'primarysource',\n",
       " 'primarysourcecountry',\n",
       " 'qualification',\n",
       " 'reaction',\n",
       " 'reactionmeddrapt',\n",
       " 'reactionmeddraversionpt',\n",
       " 'reactionoutcome',\n",
       " 'receiptdate',\n",
       " 'receiptdateformat',\n",
       " 'receivedate',\n",
       " 'receivedateformat',\n",
       " 'receiver',\n",
       " 'receiverorganization',\n",
       " 'receivertype',\n",
       " 'reportduplicate',\n",
       " 'reportercountry',\n",
       " 'reporttype',\n",
       " 'safetyreport',\n",
       " 'safetyreportid',\n",
       " 'safetyreportversion',\n",
       " 'sender',\n",
       " 'senderorganization',\n",
       " 'sendertype',\n",
       " 'serious',\n",
       " 'seriousnesscongenitalanomali',\n",
       " 'seriousnessdeath',\n",
       " 'seriousnessdisabling',\n",
       " 'seriousnesshospitalization',\n",
       " 'seriousnesslifethreatening',\n",
       " 'seriousnessother',\n",
       " 'summary',\n",
       " 'transmissiondate',\n",
       " 'transmissiondateformat']"
      ]
     },
     "execution_count": 17,
     "metadata": {},
     "output_type": "execute_result"
    }
   ],
   "source": [
    "all_tags"
   ]
  },
  {
   "cell_type": "markdown",
   "metadata": {},
   "source": [
    "Now let's look at the ASCII datafiles format."
   ]
  },
  {
   "cell_type": "code",
   "execution_count": 18,
   "metadata": {},
   "outputs": [
    {
     "name": "stdout",
     "output_type": "stream",
     "text": [
      "ASC_NTS.pdf  INDI18Q4.txt RPSR18Q4.txt drug18q4.pdf reac18q4.pdf\r\n",
      "DEMO18Q4.txt OUTC18Q4.txt THER18Q4.txt indi18q4.pdf rpsr18q4.pdf\r\n",
      "DRUG18Q4.txt REAC18Q4.txt demo18q4.pdf outc18q4.pdf ther18q4.pdf\r\n"
     ]
    }
   ],
   "source": [
    "!ls data/raw/ascii_2018q4/ascii"
   ]
  },
  {
   "cell_type": "code",
   "execution_count": 19,
   "metadata": {
    "scrolled": true
   },
   "outputs": [
    {
     "name": "stdout",
     "output_type": "stream",
     "text": [
      "primaryid$caseid$caseversion$i_f_code$event_dt$mfr_dt$init_fda_dt$fda_dt$rept_cod$auth_num$mfr_num$mfr_sndr$lit_ref$age$age_cod$age_grp$sex$e_sub$wt$wt_cod$rept_dt$to_mfr$occp_cod$reporter_country$occr_country\r\n",
      "100035916$10003591$6$F$20130718$20181203$20140312$20181211$EXP$$PHHY2013GB101660$NOVARTIS$$47$YR$$F$Y$$$20181211$$OT$GB$GB\r\n",
      "100050413$10005041$3$F$20140306$20141118$20140312$20181213$EXP$$US-TEVA-468475USA$TEVA$$25$YR$$F$Y$68.1$KG$20181213$$CN$US$US\r\n",
      "1000551312$10005513$12$F$20120209$20181107$20140313$20181115$EXP$$BR-AMGEN-BRASP2012013548$AMGEN$$55$YR$A$F$Y$67$KG$20181115$$CN$BR$BR\r\n",
      "100058832$10005883$2$F$$20180928$20140313$20181012$EXP$$FR-RANBAXY-2014RR-78735$RANBAXY$$31$YR$$F$Y$$$20181012$$OT$GB$FR\r\n",
      "100065479$10006547$9$F$201203$20181211$20140313$20181228$EXP$$US-BAYER-2014-035909$BAYER$$36$YR$A$F$Y$90.7$KG$20181228$$CN$US$US\r\n",
      "100066188$10006618$8$F$$20181004$20140313$20181017$PER$$US-PFIZER INC-2014069077$PFIZER$$58$YR$$F$Y$$$20181017$$CN$US$US\r\n",
      "1000808588$10008085$88$F$20131213$20181218$20140313$20181225$EXP$$PHHY2013CA071340$NOVARTIS$$73$YR$$F$Y$50.34$KG$20181225$$MD$CA$CA\r\n",
      "100088883$10008888$3$F$2012$20181219$20140312$20181221$EXP$$US-INCYTE CORPORATION-2012IN000360$INCYTE$$$$$$Y$$$20181221$$CN$US$US\r\n",
      "100098293$10009829$3$F$20130107$20181203$20140312$20181211$PER$$US-INCYTE CORPORATION-2013IN000064$INCYTE$$$$$$Y$$$20181211$$MD$US$US\r\n"
     ]
    }
   ],
   "source": [
    "!head data/raw/ascii_2018q4/ascii/DEMO18Q4.txt"
   ]
  },
  {
   "cell_type": "code",
   "execution_count": 20,
   "metadata": {},
   "outputs": [],
   "source": [
    "raw_ascii_path = \"data/raw/ascii_2018q4/ascii/\""
   ]
  },
  {
   "cell_type": "code",
   "execution_count": 21,
   "metadata": {},
   "outputs": [],
   "source": [
    "ascii_file_demo = raw_ascii_path + \"DEMO18Q4.txt\""
   ]
  },
  {
   "cell_type": "code",
   "execution_count": 22,
   "metadata": {},
   "outputs": [],
   "source": [
    "datatypes = {\n",
    "    'primaryid': 'object', \n",
    "    'caseid': 'object', \n",
    "    'caseversion': np.int32, \n",
    "    'i_f_code': 'object', \n",
    "    'event_dt': 'object', \n",
    "    'mfr_dt': 'object',\n",
    "    'init_fda_dt': 'object', \n",
    "    'fda_dt': 'object', \n",
    "    'rept_cod': 'object', \n",
    "    'auth_num': 'object', \n",
    "    'mfr_num': 'object', \n",
    "    'mfr_sndr': 'object',\n",
    "    'lit_ref': 'object', \n",
    "    'age': np.float64, \n",
    "    'age_cod': 'object', \n",
    "    'age_grp': 'object', \n",
    "    'sex': 'object', \n",
    "    'e_sub': 'object', \n",
    "    'wt': np.float64, \n",
    "    'wt_cod': 'object',\n",
    "    'rept_dt': 'object', \n",
    "    'to_mfr': 'object', \n",
    "    'occp_cod': 'object', \n",
    "    'reporter_country': 'object', \n",
    "    'occr_country': 'object'\n",
    "}\n",
    "\n",
    "# {‘a’: np.float64, ‘b’: np.int32, ‘c’: ‘Int64’}"
   ]
  },
  {
   "cell_type": "code",
   "execution_count": 23,
   "metadata": {},
   "outputs": [],
   "source": [
    "demo = pd.read_csv(ascii_file_demo, sep='$', dtype=datatypes)"
   ]
  },
  {
   "cell_type": "code",
   "execution_count": 24,
   "metadata": {},
   "outputs": [
    {
     "data": {
      "text/plain": [
       "Index(['primaryid', 'caseid', 'caseversion', 'i_f_code', 'event_dt', 'mfr_dt',\n",
       "       'init_fda_dt', 'fda_dt', 'rept_cod', 'auth_num', 'mfr_num', 'mfr_sndr',\n",
       "       'lit_ref', 'age', 'age_cod', 'age_grp', 'sex', 'e_sub', 'wt', 'wt_cod',\n",
       "       'rept_dt', 'to_mfr', 'occp_cod', 'reporter_country', 'occr_country'],\n",
       "      dtype='object')"
      ]
     },
     "execution_count": 24,
     "metadata": {},
     "output_type": "execute_result"
    }
   ],
   "source": [
    "demo.columns"
   ]
  },
  {
   "cell_type": "code",
   "execution_count": 25,
   "metadata": {},
   "outputs": [
    {
     "data": {
      "text/plain": [
       "0      nan\n",
       "1    68.10\n",
       "2    67.00\n",
       "3      nan\n",
       "4    90.70\n",
       "5      nan\n",
       "6    50.34\n",
       "7      nan\n",
       "8      nan\n",
       "9      nan\n",
       "10     nan\n",
       "11     nan\n",
       "12     nan\n",
       "13   72.00\n",
       "14     nan\n",
       "15   79.00\n",
       "16     nan\n",
       "17     nan\n",
       "18     nan\n",
       "19     nan\n",
       "Name: wt, dtype: float64"
      ]
     },
     "execution_count": 25,
     "metadata": {},
     "output_type": "execute_result"
    }
   ],
   "source": [
    "demo.wt.head(20)"
   ]
  },
  {
   "cell_type": "code",
   "execution_count": 26,
   "metadata": {},
   "outputs": [
    {
     "data": {
      "text/html": [
       "<div>\n",
       "<style scoped>\n",
       "    .dataframe tbody tr th:only-of-type {\n",
       "        vertical-align: middle;\n",
       "    }\n",
       "\n",
       "    .dataframe tbody tr th {\n",
       "        vertical-align: top;\n",
       "    }\n",
       "\n",
       "    .dataframe thead th {\n",
       "        text-align: right;\n",
       "    }\n",
       "</style>\n",
       "<table border=\"1\" class=\"dataframe\">\n",
       "  <thead>\n",
       "    <tr style=\"text-align: right;\">\n",
       "      <th></th>\n",
       "      <th>primaryid</th>\n",
       "      <th>caseid</th>\n",
       "      <th>caseversion</th>\n",
       "      <th>i_f_code</th>\n",
       "      <th>event_dt</th>\n",
       "      <th>mfr_dt</th>\n",
       "      <th>init_fda_dt</th>\n",
       "      <th>fda_dt</th>\n",
       "      <th>rept_cod</th>\n",
       "      <th>auth_num</th>\n",
       "      <th>mfr_num</th>\n",
       "      <th>mfr_sndr</th>\n",
       "      <th>lit_ref</th>\n",
       "      <th>age</th>\n",
       "      <th>age_cod</th>\n",
       "      <th>age_grp</th>\n",
       "      <th>sex</th>\n",
       "      <th>e_sub</th>\n",
       "      <th>wt</th>\n",
       "      <th>wt_cod</th>\n",
       "      <th>rept_dt</th>\n",
       "      <th>to_mfr</th>\n",
       "      <th>occp_cod</th>\n",
       "      <th>reporter_country</th>\n",
       "      <th>occr_country</th>\n",
       "    </tr>\n",
       "  </thead>\n",
       "  <tbody>\n",
       "    <tr>\n",
       "      <th>0</th>\n",
       "      <td>100035916</td>\n",
       "      <td>10003591</td>\n",
       "      <td>6</td>\n",
       "      <td>F</td>\n",
       "      <td>20130718</td>\n",
       "      <td>20181203</td>\n",
       "      <td>20140312</td>\n",
       "      <td>20181211</td>\n",
       "      <td>EXP</td>\n",
       "      <td>NaN</td>\n",
       "      <td>PHHY2013GB101660</td>\n",
       "      <td>NOVARTIS</td>\n",
       "      <td>NaN</td>\n",
       "      <td>47.00</td>\n",
       "      <td>YR</td>\n",
       "      <td>NaN</td>\n",
       "      <td>F</td>\n",
       "      <td>Y</td>\n",
       "      <td>nan</td>\n",
       "      <td>NaN</td>\n",
       "      <td>20181211</td>\n",
       "      <td>NaN</td>\n",
       "      <td>OT</td>\n",
       "      <td>GB</td>\n",
       "      <td>GB</td>\n",
       "    </tr>\n",
       "    <tr>\n",
       "      <th>1</th>\n",
       "      <td>100050413</td>\n",
       "      <td>10005041</td>\n",
       "      <td>3</td>\n",
       "      <td>F</td>\n",
       "      <td>20140306</td>\n",
       "      <td>20141118</td>\n",
       "      <td>20140312</td>\n",
       "      <td>20181213</td>\n",
       "      <td>EXP</td>\n",
       "      <td>NaN</td>\n",
       "      <td>US-TEVA-468475USA</td>\n",
       "      <td>TEVA</td>\n",
       "      <td>NaN</td>\n",
       "      <td>25.00</td>\n",
       "      <td>YR</td>\n",
       "      <td>NaN</td>\n",
       "      <td>F</td>\n",
       "      <td>Y</td>\n",
       "      <td>68.10</td>\n",
       "      <td>KG</td>\n",
       "      <td>20181213</td>\n",
       "      <td>NaN</td>\n",
       "      <td>CN</td>\n",
       "      <td>US</td>\n",
       "      <td>US</td>\n",
       "    </tr>\n",
       "    <tr>\n",
       "      <th>2</th>\n",
       "      <td>1000551312</td>\n",
       "      <td>10005513</td>\n",
       "      <td>12</td>\n",
       "      <td>F</td>\n",
       "      <td>20120209</td>\n",
       "      <td>20181107</td>\n",
       "      <td>20140313</td>\n",
       "      <td>20181115</td>\n",
       "      <td>EXP</td>\n",
       "      <td>NaN</td>\n",
       "      <td>BR-AMGEN-BRASP2012013548</td>\n",
       "      <td>AMGEN</td>\n",
       "      <td>NaN</td>\n",
       "      <td>55.00</td>\n",
       "      <td>YR</td>\n",
       "      <td>A</td>\n",
       "      <td>F</td>\n",
       "      <td>Y</td>\n",
       "      <td>67.00</td>\n",
       "      <td>KG</td>\n",
       "      <td>20181115</td>\n",
       "      <td>NaN</td>\n",
       "      <td>CN</td>\n",
       "      <td>BR</td>\n",
       "      <td>BR</td>\n",
       "    </tr>\n",
       "    <tr>\n",
       "      <th>3</th>\n",
       "      <td>100058832</td>\n",
       "      <td>10005883</td>\n",
       "      <td>2</td>\n",
       "      <td>F</td>\n",
       "      <td>NaN</td>\n",
       "      <td>20180928</td>\n",
       "      <td>20140313</td>\n",
       "      <td>20181012</td>\n",
       "      <td>EXP</td>\n",
       "      <td>NaN</td>\n",
       "      <td>FR-RANBAXY-2014RR-78735</td>\n",
       "      <td>RANBAXY</td>\n",
       "      <td>NaN</td>\n",
       "      <td>31.00</td>\n",
       "      <td>YR</td>\n",
       "      <td>NaN</td>\n",
       "      <td>F</td>\n",
       "      <td>Y</td>\n",
       "      <td>nan</td>\n",
       "      <td>NaN</td>\n",
       "      <td>20181012</td>\n",
       "      <td>NaN</td>\n",
       "      <td>OT</td>\n",
       "      <td>GB</td>\n",
       "      <td>FR</td>\n",
       "    </tr>\n",
       "    <tr>\n",
       "      <th>4</th>\n",
       "      <td>100065479</td>\n",
       "      <td>10006547</td>\n",
       "      <td>9</td>\n",
       "      <td>F</td>\n",
       "      <td>201203</td>\n",
       "      <td>20181211</td>\n",
       "      <td>20140313</td>\n",
       "      <td>20181228</td>\n",
       "      <td>EXP</td>\n",
       "      <td>NaN</td>\n",
       "      <td>US-BAYER-2014-035909</td>\n",
       "      <td>BAYER</td>\n",
       "      <td>NaN</td>\n",
       "      <td>36.00</td>\n",
       "      <td>YR</td>\n",
       "      <td>A</td>\n",
       "      <td>F</td>\n",
       "      <td>Y</td>\n",
       "      <td>90.70</td>\n",
       "      <td>KG</td>\n",
       "      <td>20181228</td>\n",
       "      <td>NaN</td>\n",
       "      <td>CN</td>\n",
       "      <td>US</td>\n",
       "      <td>US</td>\n",
       "    </tr>\n",
       "  </tbody>\n",
       "</table>\n",
       "</div>"
      ],
      "text/plain": [
       "    primaryid    caseid  caseversion i_f_code  event_dt    mfr_dt init_fda_dt  \\\n",
       "0   100035916  10003591            6        F  20130718  20181203    20140312   \n",
       "1   100050413  10005041            3        F  20140306  20141118    20140312   \n",
       "2  1000551312  10005513           12        F  20120209  20181107    20140313   \n",
       "3   100058832  10005883            2        F       NaN  20180928    20140313   \n",
       "4   100065479  10006547            9        F    201203  20181211    20140313   \n",
       "\n",
       "     fda_dt rept_cod auth_num                   mfr_num  mfr_sndr lit_ref  \\\n",
       "0  20181211      EXP      NaN          PHHY2013GB101660  NOVARTIS     NaN   \n",
       "1  20181213      EXP      NaN         US-TEVA-468475USA      TEVA     NaN   \n",
       "2  20181115      EXP      NaN  BR-AMGEN-BRASP2012013548     AMGEN     NaN   \n",
       "3  20181012      EXP      NaN   FR-RANBAXY-2014RR-78735   RANBAXY     NaN   \n",
       "4  20181228      EXP      NaN      US-BAYER-2014-035909     BAYER     NaN   \n",
       "\n",
       "    age age_cod age_grp sex e_sub    wt wt_cod   rept_dt to_mfr occp_cod  \\\n",
       "0 47.00      YR     NaN   F     Y   nan    NaN  20181211    NaN       OT   \n",
       "1 25.00      YR     NaN   F     Y 68.10     KG  20181213    NaN       CN   \n",
       "2 55.00      YR       A   F     Y 67.00     KG  20181115    NaN       CN   \n",
       "3 31.00      YR     NaN   F     Y   nan    NaN  20181012    NaN       OT   \n",
       "4 36.00      YR       A   F     Y 90.70     KG  20181228    NaN       CN   \n",
       "\n",
       "  reporter_country occr_country  \n",
       "0               GB           GB  \n",
       "1               US           US  \n",
       "2               BR           BR  \n",
       "3               GB           FR  \n",
       "4               US           US  "
      ]
     },
     "execution_count": 26,
     "metadata": {},
     "output_type": "execute_result"
    }
   ],
   "source": [
    "demo.head()"
   ]
  },
  {
   "cell_type": "code",
   "execution_count": 27,
   "metadata": {},
   "outputs": [
    {
     "data": {
      "text/html": [
       "<div>\n",
       "<style scoped>\n",
       "    .dataframe tbody tr th:only-of-type {\n",
       "        vertical-align: middle;\n",
       "    }\n",
       "\n",
       "    .dataframe tbody tr th {\n",
       "        vertical-align: top;\n",
       "    }\n",
       "\n",
       "    .dataframe thead th {\n",
       "        text-align: right;\n",
       "    }\n",
       "</style>\n",
       "<table border=\"1\" class=\"dataframe\">\n",
       "  <thead>\n",
       "    <tr style=\"text-align: right;\">\n",
       "      <th></th>\n",
       "      <th>primaryid</th>\n",
       "      <th>caseid</th>\n",
       "      <th>caseversion</th>\n",
       "      <th>i_f_code</th>\n",
       "      <th>event_dt</th>\n",
       "      <th>mfr_dt</th>\n",
       "      <th>init_fda_dt</th>\n",
       "      <th>fda_dt</th>\n",
       "      <th>rept_cod</th>\n",
       "      <th>auth_num</th>\n",
       "      <th>mfr_num</th>\n",
       "      <th>mfr_sndr</th>\n",
       "      <th>lit_ref</th>\n",
       "      <th>age</th>\n",
       "      <th>age_cod</th>\n",
       "      <th>age_grp</th>\n",
       "      <th>sex</th>\n",
       "      <th>e_sub</th>\n",
       "      <th>wt</th>\n",
       "      <th>wt_cod</th>\n",
       "      <th>rept_dt</th>\n",
       "      <th>to_mfr</th>\n",
       "      <th>occp_cod</th>\n",
       "      <th>reporter_country</th>\n",
       "      <th>occr_country</th>\n",
       "    </tr>\n",
       "  </thead>\n",
       "  <tbody>\n",
       "    <tr>\n",
       "      <th>count</th>\n",
       "      <td>394066</td>\n",
       "      <td>394066</td>\n",
       "      <td>394066.00</td>\n",
       "      <td>394066</td>\n",
       "      <td>205438</td>\n",
       "      <td>370593</td>\n",
       "      <td>394066</td>\n",
       "      <td>394066</td>\n",
       "      <td>394066</td>\n",
       "      <td>20168</td>\n",
       "      <td>370595</td>\n",
       "      <td>394065</td>\n",
       "      <td>23441</td>\n",
       "      <td>235444.00</td>\n",
       "      <td>235452</td>\n",
       "      <td>80189</td>\n",
       "      <td>347760</td>\n",
       "      <td>394066</td>\n",
       "      <td>81142.00</td>\n",
       "      <td>81142</td>\n",
       "      <td>393749</td>\n",
       "      <td>23479</td>\n",
       "      <td>387070</td>\n",
       "      <td>394066</td>\n",
       "      <td>394053</td>\n",
       "    </tr>\n",
       "    <tr>\n",
       "      <th>unique</th>\n",
       "      <td>394066</td>\n",
       "      <td>394066</td>\n",
       "      <td>nan</td>\n",
       "      <td>2</td>\n",
       "      <td>4711</td>\n",
       "      <td>2370</td>\n",
       "      <td>2503</td>\n",
       "      <td>183</td>\n",
       "      <td>3</td>\n",
       "      <td>15597</td>\n",
       "      <td>370595</td>\n",
       "      <td>471</td>\n",
       "      <td>17759</td>\n",
       "      <td>nan</td>\n",
       "      <td>6</td>\n",
       "      <td>6</td>\n",
       "      <td>3</td>\n",
       "      <td>2</td>\n",
       "      <td>nan</td>\n",
       "      <td>2</td>\n",
       "      <td>351</td>\n",
       "      <td>3</td>\n",
       "      <td>5</td>\n",
       "      <td>160</td>\n",
       "      <td>163</td>\n",
       "    </tr>\n",
       "    <tr>\n",
       "      <th>top</th>\n",
       "      <td>154544191</td>\n",
       "      <td>14508418</td>\n",
       "      <td>nan</td>\n",
       "      <td>I</td>\n",
       "      <td>2018</td>\n",
       "      <td>20181210</td>\n",
       "      <td>20181016</td>\n",
       "      <td>20181016</td>\n",
       "      <td>EXP</td>\n",
       "      <td>0000</td>\n",
       "      <td>PHJP2018JP021151</td>\n",
       "      <td>PFIZER</td>\n",
       "      <td>STACEY R, VERA T, MORGAN T, JORDAN J, WHITLOCK...</td>\n",
       "      <td>nan</td>\n",
       "      <td>YR</td>\n",
       "      <td>A</td>\n",
       "      <td>F</td>\n",
       "      <td>Y</td>\n",
       "      <td>nan</td>\n",
       "      <td>KG</td>\n",
       "      <td>20181016</td>\n",
       "      <td>N</td>\n",
       "      <td>CN</td>\n",
       "      <td>US</td>\n",
       "      <td>US</td>\n",
       "    </tr>\n",
       "    <tr>\n",
       "      <th>freq</th>\n",
       "      <td>1</td>\n",
       "      <td>1</td>\n",
       "      <td>nan</td>\n",
       "      <td>267661</td>\n",
       "      <td>25293</td>\n",
       "      <td>6857</td>\n",
       "      <td>11177</td>\n",
       "      <td>12657</td>\n",
       "      <td>204438</td>\n",
       "      <td>14</td>\n",
       "      <td>1</td>\n",
       "      <td>35409</td>\n",
       "      <td>79</td>\n",
       "      <td>nan</td>\n",
       "      <td>230226</td>\n",
       "      <td>48200</td>\n",
       "      <td>212580</td>\n",
       "      <td>370587</td>\n",
       "      <td>nan</td>\n",
       "      <td>80809</td>\n",
       "      <td>11312</td>\n",
       "      <td>22175</td>\n",
       "      <td>168973</td>\n",
       "      <td>249968</td>\n",
       "      <td>262062</td>\n",
       "    </tr>\n",
       "    <tr>\n",
       "      <th>mean</th>\n",
       "      <td>NaN</td>\n",
       "      <td>NaN</td>\n",
       "      <td>1.67</td>\n",
       "      <td>NaN</td>\n",
       "      <td>NaN</td>\n",
       "      <td>NaN</td>\n",
       "      <td>NaN</td>\n",
       "      <td>NaN</td>\n",
       "      <td>NaN</td>\n",
       "      <td>NaN</td>\n",
       "      <td>NaN</td>\n",
       "      <td>NaN</td>\n",
       "      <td>NaN</td>\n",
       "      <td>200.03</td>\n",
       "      <td>NaN</td>\n",
       "      <td>NaN</td>\n",
       "      <td>NaN</td>\n",
       "      <td>NaN</td>\n",
       "      <td>75.17</td>\n",
       "      <td>NaN</td>\n",
       "      <td>NaN</td>\n",
       "      <td>NaN</td>\n",
       "      <td>NaN</td>\n",
       "      <td>NaN</td>\n",
       "      <td>NaN</td>\n",
       "    </tr>\n",
       "    <tr>\n",
       "      <th>std</th>\n",
       "      <td>NaN</td>\n",
       "      <td>NaN</td>\n",
       "      <td>1.75</td>\n",
       "      <td>NaN</td>\n",
       "      <td>NaN</td>\n",
       "      <td>NaN</td>\n",
       "      <td>NaN</td>\n",
       "      <td>NaN</td>\n",
       "      <td>NaN</td>\n",
       "      <td>NaN</td>\n",
       "      <td>NaN</td>\n",
       "      <td>NaN</td>\n",
       "      <td>NaN</td>\n",
       "      <td>1843.75</td>\n",
       "      <td>NaN</td>\n",
       "      <td>NaN</td>\n",
       "      <td>NaN</td>\n",
       "      <td>NaN</td>\n",
       "      <td>29.24</td>\n",
       "      <td>NaN</td>\n",
       "      <td>NaN</td>\n",
       "      <td>NaN</td>\n",
       "      <td>NaN</td>\n",
       "      <td>NaN</td>\n",
       "      <td>NaN</td>\n",
       "    </tr>\n",
       "    <tr>\n",
       "      <th>min</th>\n",
       "      <td>NaN</td>\n",
       "      <td>NaN</td>\n",
       "      <td>1.00</td>\n",
       "      <td>NaN</td>\n",
       "      <td>NaN</td>\n",
       "      <td>NaN</td>\n",
       "      <td>NaN</td>\n",
       "      <td>NaN</td>\n",
       "      <td>NaN</td>\n",
       "      <td>NaN</td>\n",
       "      <td>NaN</td>\n",
       "      <td>NaN</td>\n",
       "      <td>NaN</td>\n",
       "      <td>-10.00</td>\n",
       "      <td>NaN</td>\n",
       "      <td>NaN</td>\n",
       "      <td>NaN</td>\n",
       "      <td>NaN</td>\n",
       "      <td>0.00</td>\n",
       "      <td>NaN</td>\n",
       "      <td>NaN</td>\n",
       "      <td>NaN</td>\n",
       "      <td>NaN</td>\n",
       "      <td>NaN</td>\n",
       "      <td>NaN</td>\n",
       "    </tr>\n",
       "    <tr>\n",
       "      <th>25%</th>\n",
       "      <td>NaN</td>\n",
       "      <td>NaN</td>\n",
       "      <td>1.00</td>\n",
       "      <td>NaN</td>\n",
       "      <td>NaN</td>\n",
       "      <td>NaN</td>\n",
       "      <td>NaN</td>\n",
       "      <td>NaN</td>\n",
       "      <td>NaN</td>\n",
       "      <td>NaN</td>\n",
       "      <td>NaN</td>\n",
       "      <td>NaN</td>\n",
       "      <td>NaN</td>\n",
       "      <td>45.00</td>\n",
       "      <td>NaN</td>\n",
       "      <td>NaN</td>\n",
       "      <td>NaN</td>\n",
       "      <td>NaN</td>\n",
       "      <td>59.87</td>\n",
       "      <td>NaN</td>\n",
       "      <td>NaN</td>\n",
       "      <td>NaN</td>\n",
       "      <td>NaN</td>\n",
       "      <td>NaN</td>\n",
       "      <td>NaN</td>\n",
       "    </tr>\n",
       "    <tr>\n",
       "      <th>50%</th>\n",
       "      <td>NaN</td>\n",
       "      <td>NaN</td>\n",
       "      <td>1.00</td>\n",
       "      <td>NaN</td>\n",
       "      <td>NaN</td>\n",
       "      <td>NaN</td>\n",
       "      <td>NaN</td>\n",
       "      <td>NaN</td>\n",
       "      <td>NaN</td>\n",
       "      <td>NaN</td>\n",
       "      <td>NaN</td>\n",
       "      <td>NaN</td>\n",
       "      <td>NaN</td>\n",
       "      <td>60.00</td>\n",
       "      <td>NaN</td>\n",
       "      <td>NaN</td>\n",
       "      <td>NaN</td>\n",
       "      <td>NaN</td>\n",
       "      <td>72.58</td>\n",
       "      <td>NaN</td>\n",
       "      <td>NaN</td>\n",
       "      <td>NaN</td>\n",
       "      <td>NaN</td>\n",
       "      <td>NaN</td>\n",
       "      <td>NaN</td>\n",
       "    </tr>\n",
       "    <tr>\n",
       "      <th>75%</th>\n",
       "      <td>NaN</td>\n",
       "      <td>NaN</td>\n",
       "      <td>2.00</td>\n",
       "      <td>NaN</td>\n",
       "      <td>NaN</td>\n",
       "      <td>NaN</td>\n",
       "      <td>NaN</td>\n",
       "      <td>NaN</td>\n",
       "      <td>NaN</td>\n",
       "      <td>NaN</td>\n",
       "      <td>NaN</td>\n",
       "      <td>NaN</td>\n",
       "      <td>NaN</td>\n",
       "      <td>71.00</td>\n",
       "      <td>NaN</td>\n",
       "      <td>NaN</td>\n",
       "      <td>NaN</td>\n",
       "      <td>NaN</td>\n",
       "      <td>88.45</td>\n",
       "      <td>NaN</td>\n",
       "      <td>NaN</td>\n",
       "      <td>NaN</td>\n",
       "      <td>NaN</td>\n",
       "      <td>NaN</td>\n",
       "      <td>NaN</td>\n",
       "    </tr>\n",
       "    <tr>\n",
       "      <th>max</th>\n",
       "      <td>NaN</td>\n",
       "      <td>NaN</td>\n",
       "      <td>88.00</td>\n",
       "      <td>NaN</td>\n",
       "      <td>NaN</td>\n",
       "      <td>NaN</td>\n",
       "      <td>NaN</td>\n",
       "      <td>NaN</td>\n",
       "      <td>NaN</td>\n",
       "      <td>NaN</td>\n",
       "      <td>NaN</td>\n",
       "      <td>NaN</td>\n",
       "      <td>NaN</td>\n",
       "      <td>34926.00</td>\n",
       "      <td>NaN</td>\n",
       "      <td>NaN</td>\n",
       "      <td>NaN</td>\n",
       "      <td>NaN</td>\n",
       "      <td>2890.00</td>\n",
       "      <td>NaN</td>\n",
       "      <td>NaN</td>\n",
       "      <td>NaN</td>\n",
       "      <td>NaN</td>\n",
       "      <td>NaN</td>\n",
       "      <td>NaN</td>\n",
       "    </tr>\n",
       "  </tbody>\n",
       "</table>\n",
       "</div>"
      ],
      "text/plain": [
       "        primaryid    caseid  caseversion i_f_code event_dt    mfr_dt  \\\n",
       "count      394066    394066    394066.00   394066   205438    370593   \n",
       "unique     394066    394066          nan        2     4711      2370   \n",
       "top     154544191  14508418          nan        I     2018  20181210   \n",
       "freq            1         1          nan   267661    25293      6857   \n",
       "mean          NaN       NaN         1.67      NaN      NaN       NaN   \n",
       "std           NaN       NaN         1.75      NaN      NaN       NaN   \n",
       "min           NaN       NaN         1.00      NaN      NaN       NaN   \n",
       "25%           NaN       NaN         1.00      NaN      NaN       NaN   \n",
       "50%           NaN       NaN         1.00      NaN      NaN       NaN   \n",
       "75%           NaN       NaN         2.00      NaN      NaN       NaN   \n",
       "max           NaN       NaN        88.00      NaN      NaN       NaN   \n",
       "\n",
       "       init_fda_dt    fda_dt rept_cod auth_num           mfr_num mfr_sndr  \\\n",
       "count       394066    394066   394066    20168            370595   394065   \n",
       "unique        2503       183        3    15597            370595      471   \n",
       "top       20181016  20181016      EXP     0000  PHJP2018JP021151   PFIZER   \n",
       "freq         11177     12657   204438       14                 1    35409   \n",
       "mean           NaN       NaN      NaN      NaN               NaN      NaN   \n",
       "std            NaN       NaN      NaN      NaN               NaN      NaN   \n",
       "min            NaN       NaN      NaN      NaN               NaN      NaN   \n",
       "25%            NaN       NaN      NaN      NaN               NaN      NaN   \n",
       "50%            NaN       NaN      NaN      NaN               NaN      NaN   \n",
       "75%            NaN       NaN      NaN      NaN               NaN      NaN   \n",
       "max            NaN       NaN      NaN      NaN               NaN      NaN   \n",
       "\n",
       "                                                  lit_ref       age age_cod  \\\n",
       "count                                               23441 235444.00  235452   \n",
       "unique                                              17759       nan       6   \n",
       "top     STACEY R, VERA T, MORGAN T, JORDAN J, WHITLOCK...       nan      YR   \n",
       "freq                                                   79       nan  230226   \n",
       "mean                                                  NaN    200.03     NaN   \n",
       "std                                                   NaN   1843.75     NaN   \n",
       "min                                                   NaN    -10.00     NaN   \n",
       "25%                                                   NaN     45.00     NaN   \n",
       "50%                                                   NaN     60.00     NaN   \n",
       "75%                                                   NaN     71.00     NaN   \n",
       "max                                                   NaN  34926.00     NaN   \n",
       "\n",
       "       age_grp     sex   e_sub       wt wt_cod   rept_dt to_mfr occp_cod  \\\n",
       "count    80189  347760  394066 81142.00  81142    393749  23479   387070   \n",
       "unique       6       3       2      nan      2       351      3        5   \n",
       "top          A       F       Y      nan     KG  20181016      N       CN   \n",
       "freq     48200  212580  370587      nan  80809     11312  22175   168973   \n",
       "mean       NaN     NaN     NaN    75.17    NaN       NaN    NaN      NaN   \n",
       "std        NaN     NaN     NaN    29.24    NaN       NaN    NaN      NaN   \n",
       "min        NaN     NaN     NaN     0.00    NaN       NaN    NaN      NaN   \n",
       "25%        NaN     NaN     NaN    59.87    NaN       NaN    NaN      NaN   \n",
       "50%        NaN     NaN     NaN    72.58    NaN       NaN    NaN      NaN   \n",
       "75%        NaN     NaN     NaN    88.45    NaN       NaN    NaN      NaN   \n",
       "max        NaN     NaN     NaN  2890.00    NaN       NaN    NaN      NaN   \n",
       "\n",
       "       reporter_country occr_country  \n",
       "count            394066       394053  \n",
       "unique              160          163  \n",
       "top                  US           US  \n",
       "freq             249968       262062  \n",
       "mean                NaN          NaN  \n",
       "std                 NaN          NaN  \n",
       "min                 NaN          NaN  \n",
       "25%                 NaN          NaN  \n",
       "50%                 NaN          NaN  \n",
       "75%                 NaN          NaN  \n",
       "max                 NaN          NaN  "
      ]
     },
     "execution_count": 27,
     "metadata": {},
     "output_type": "execute_result"
    }
   ],
   "source": [
    "demo.describe(include='all')"
   ]
  },
  {
   "cell_type": "code",
   "execution_count": 28,
   "metadata": {},
   "outputs": [
    {
     "name": "stdout",
     "output_type": "stream",
     "text": [
      "<class 'pandas.core.frame.DataFrame'>\n",
      "RangeIndex: 394066 entries, 0 to 394065\n",
      "Data columns (total 25 columns):\n",
      "primaryid           394066 non-null object\n",
      "caseid              394066 non-null object\n",
      "caseversion         394066 non-null int32\n",
      "i_f_code            394066 non-null object\n",
      "event_dt            205438 non-null object\n",
      "mfr_dt              370593 non-null object\n",
      "init_fda_dt         394066 non-null object\n",
      "fda_dt              394066 non-null object\n",
      "rept_cod            394066 non-null object\n",
      "auth_num            20168 non-null object\n",
      "mfr_num             370595 non-null object\n",
      "mfr_sndr            394065 non-null object\n",
      "lit_ref             23441 non-null object\n",
      "age                 235444 non-null float64\n",
      "age_cod             235452 non-null object\n",
      "age_grp             80189 non-null object\n",
      "sex                 347760 non-null object\n",
      "e_sub               394066 non-null object\n",
      "wt                  81142 non-null float64\n",
      "wt_cod              81142 non-null object\n",
      "rept_dt             393749 non-null object\n",
      "to_mfr              23479 non-null object\n",
      "occp_cod            387070 non-null object\n",
      "reporter_country    394066 non-null object\n",
      "occr_country        394053 non-null object\n",
      "dtypes: float64(2), int32(1), object(22)\n",
      "memory usage: 73.7+ MB\n"
     ]
    }
   ],
   "source": [
    "demo.info()"
   ]
  },
  {
   "cell_type": "markdown",
   "metadata": {},
   "source": [
    "The ASCIIs look better, let's start with them instead of the XML files."
   ]
  },
  {
   "cell_type": "markdown",
   "metadata": {},
   "source": [
    "##### Unique identifiers\n",
    "\n",
    "The `primaryid` field is the unique identifier for a current case report in the data, and it is a combination of `caseid` and `caseversion`."
   ]
  },
  {
   "cell_type": "code",
   "execution_count": 37,
   "metadata": {},
   "outputs": [
    {
     "data": {
      "text/plain": [
       "count        394066\n",
       "unique       394066\n",
       "top       154544191\n",
       "freq              1\n",
       "Name: primaryid, dtype: object"
      ]
     },
     "execution_count": 37,
     "metadata": {},
     "output_type": "execute_result"
    }
   ],
   "source": [
    "demo.primaryid.describe()"
   ]
  },
  {
   "cell_type": "code",
   "execution_count": 38,
   "metadata": {},
   "outputs": [
    {
     "data": {
      "text/plain": [
       "count       394066\n",
       "unique      394066\n",
       "top       14508418\n",
       "freq             1\n",
       "Name: caseid, dtype: object"
      ]
     },
     "execution_count": 38,
     "metadata": {},
     "output_type": "execute_result"
    }
   ],
   "source": [
    "demo.caseid.describe()"
   ]
  },
  {
   "cell_type": "code",
   "execution_count": 39,
   "metadata": {},
   "outputs": [
    {
     "data": {
      "text/plain": [
       "count   394066.00\n",
       "mean         1.67\n",
       "std          1.75\n",
       "min          1.00\n",
       "25%          1.00\n",
       "50%          1.00\n",
       "75%          2.00\n",
       "max         88.00\n",
       "Name: caseversion, dtype: float64"
      ]
     },
     "execution_count": 39,
     "metadata": {},
     "output_type": "execute_result"
    }
   ],
   "source": [
    "demo.caseversion.describe()"
   ]
  },
  {
   "cell_type": "code",
   "execution_count": 40,
   "metadata": {},
   "outputs": [
    {
     "data": {
      "text/plain": [
       "51721"
      ]
     },
     "execution_count": 40,
     "metadata": {},
     "output_type": "execute_result"
    }
   ],
   "source": [
    "len(demo[demo.caseversion > 2])"
   ]
  },
  {
   "cell_type": "code",
   "execution_count": 41,
   "metadata": {},
   "outputs": [
    {
     "data": {
      "text/plain": [
       "2161"
      ]
     },
     "execution_count": 41,
     "metadata": {},
     "output_type": "execute_result"
    }
   ],
   "source": [
    "len(demo[demo.caseversion > 10])"
   ]
  },
  {
   "cell_type": "code",
   "execution_count": 42,
   "metadata": {},
   "outputs": [
    {
     "data": {
      "text/plain": [
       "1     267661\n",
       "2      74684\n",
       "3      25090\n",
       "4      11270\n",
       "5       5559\n",
       "6       3129\n",
       "7       1857\n",
       "8       1261\n",
       "9        824\n",
       "10       570\n",
       "11       443\n",
       "12       342\n",
       "13       226\n",
       "14       177\n",
       "15       139\n",
       "16       117\n",
       "17       106\n",
       "18        71\n",
       "19        68\n",
       "21        58\n",
       "20        50\n",
       "22        34\n",
       "23        31\n",
       "26        31\n",
       "24        28\n",
       "       ...  \n",
       "36         5\n",
       "56         5\n",
       "48         4\n",
       "49         4\n",
       "53         4\n",
       "39         4\n",
       "37         4\n",
       "45         3\n",
       "54         3\n",
       "47         3\n",
       "42         3\n",
       "50         3\n",
       "43         3\n",
       "57         2\n",
       "55         2\n",
       "77         2\n",
       "52         2\n",
       "51         2\n",
       "44         2\n",
       "58         1\n",
       "59         1\n",
       "66         1\n",
       "68         1\n",
       "75         1\n",
       "88         1\n",
       "Name: caseversion, Length: 64, dtype: int64"
      ]
     },
     "execution_count": 42,
     "metadata": {},
     "output_type": "execute_result"
    }
   ],
   "source": [
    "demo.caseversion.value_counts()"
   ]
  },
  {
   "cell_type": "code",
   "execution_count": null,
   "metadata": {},
   "outputs": [],
   "source": []
  },
  {
   "cell_type": "code",
   "execution_count": null,
   "metadata": {},
   "outputs": [],
   "source": []
  },
  {
   "cell_type": "code",
   "execution_count": null,
   "metadata": {},
   "outputs": [],
   "source": []
  },
  {
   "cell_type": "code",
   "execution_count": 29,
   "metadata": {},
   "outputs": [
    {
     "data": {
      "text/plain": [
       "70.00       5562\n",
       "65.00       5499\n",
       "63.00       5440\n",
       "60.00       5394\n",
       "68.00       5333\n",
       "64.00       5316\n",
       "62.00       5312\n",
       "67.00       5191\n",
       "69.00       5178\n",
       "61.00       5177\n",
       "66.00       5176\n",
       "71.00       5159\n",
       "59.00       4903\n",
       "58.00       4885\n",
       "56.00       4647\n",
       "57.00       4605\n",
       "55.00       4567\n",
       "72.00       4561\n",
       "75.00       4526\n",
       "74.00       4404\n",
       "73.00       4400\n",
       "54.00       4260\n",
       "76.00       3869\n",
       "53.00       3831\n",
       "52.00       3748\n",
       "            ... \n",
       "25508.00       1\n",
       "25506.00       1\n",
       "797.00         1\n",
       "25444.00       1\n",
       "25355.00       1\n",
       "25356.00       1\n",
       "25380.00       1\n",
       "25399.00       1\n",
       "25408.00       1\n",
       "25409.00       1\n",
       "25426.00       1\n",
       "25437.00       1\n",
       "795.00         1\n",
       "25456.00       1\n",
       "25503.00       1\n",
       "25461.00       1\n",
       "25463.00       1\n",
       "25466.00       1\n",
       "25467.00       1\n",
       "25477.00       1\n",
       "25483.00       1\n",
       "25488.00       1\n",
       "25490.00       1\n",
       "25502.00       1\n",
       "1023.00        1\n",
       "Name: age, Length: 1809, dtype: int64"
      ]
     },
     "execution_count": 29,
     "metadata": {},
     "output_type": "execute_result"
    }
   ],
   "source": [
    "demo.age.value_counts()"
   ]
  },
  {
   "cell_type": "code",
   "execution_count": 31,
   "metadata": {},
   "outputs": [
    {
     "data": {
      "text/plain": [
       "0    47.00\n",
       "1    25.00\n",
       "2    55.00\n",
       "3    31.00\n",
       "4    36.00\n",
       "5    58.00\n",
       "6    73.00\n",
       "7      nan\n",
       "8      nan\n",
       "9      nan\n",
       "10   47.00\n",
       "11   59.00\n",
       "12     nan\n",
       "13   53.00\n",
       "14   27.00\n",
       "15   66.00\n",
       "16   38.00\n",
       "17   69.00\n",
       "18     nan\n",
       "19   31.00\n",
       "Name: age, dtype: float64"
      ]
     },
     "execution_count": 31,
     "metadata": {},
     "output_type": "execute_result"
    }
   ],
   "source": [
    "demo.age.head(20)"
   ]
  },
  {
   "cell_type": "code",
   "execution_count": 32,
   "metadata": {},
   "outputs": [
    {
     "data": {
      "text/plain": [
       "nan"
      ]
     },
     "execution_count": 32,
     "metadata": {},
     "output_type": "execute_result"
    }
   ],
   "source": [
    "demo.age[7]"
   ]
  },
  {
   "cell_type": "code",
   "execution_count": 33,
   "metadata": {},
   "outputs": [
    {
     "data": {
      "text/plain": [
       "numpy.float64"
      ]
     },
     "execution_count": 33,
     "metadata": {},
     "output_type": "execute_result"
    }
   ],
   "source": [
    "type(demo.age[7])"
   ]
  },
  {
   "cell_type": "code",
   "execution_count": 34,
   "metadata": {},
   "outputs": [
    {
     "data": {
      "text/plain": [
       "numpy.float64"
      ]
     },
     "execution_count": 34,
     "metadata": {},
     "output_type": "execute_result"
    }
   ],
   "source": [
    "type(demo.age[6])"
   ]
  },
  {
   "cell_type": "code",
   "execution_count": 35,
   "metadata": {},
   "outputs": [
    {
     "data": {
      "text/plain": [
       "73.0"
      ]
     },
     "execution_count": 35,
     "metadata": {},
     "output_type": "execute_result"
    }
   ],
   "source": [
    "demo.age[6]"
   ]
  },
  {
   "cell_type": "code",
   "execution_count": 36,
   "metadata": {},
   "outputs": [
    {
     "data": {
      "text/plain": [
       "True"
      ]
     },
     "execution_count": 36,
     "metadata": {},
     "output_type": "execute_result"
    }
   ],
   "source": [
    "np.isnan(demo.age[7])"
   ]
  },
  {
   "cell_type": "code",
   "execution_count": null,
   "metadata": {},
   "outputs": [],
   "source": []
  }
 ],
 "metadata": {
  "kernelspec": {
   "display_name": "Python 3",
   "language": "python",
   "name": "python3"
  },
  "language_info": {
   "codemirror_mode": {
    "name": "ipython",
    "version": 3
   },
   "file_extension": ".py",
   "mimetype": "text/x-python",
   "name": "python",
   "nbconvert_exporter": "python",
   "pygments_lexer": "ipython3",
   "version": "3.7.2"
  }
 },
 "nbformat": 4,
 "nbformat_minor": 2
}
