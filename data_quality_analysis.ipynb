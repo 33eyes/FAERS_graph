{
 "cells": [
  {
   "cell_type": "markdown",
   "metadata": {},
   "source": [
    "# FAERS graph"
   ]
  },
  {
   "cell_type": "markdown",
   "metadata": {},
   "source": [
    "## Data quality analysis\n",
    "\n",
    "### 1. Introduction\n",
    "\n",
    "This notebook explores the data contents and quality of the FAERS data files, available for download [here](https://fis.fda.gov/extensions/FPD-QDE-FAERS/FPD-QDE-FAERS.html).\n",
    "\n",
    "\n",
    "#### Notebook contents:\n",
    "1. [Introduction](#1.-Introduction)\n",
    "2. [Notebook setup](#2.-Notebook-setup)\n",
    "3. [Data sources](#3.-Data-sources)  \n",
    "    3.1 [DEMO ASCII file](#3.1-DEMO-ASCII-file)\n",
    "4. [Sample raw data files]()\n",
    "5. [DQA summary]()\n",
    "6. [Next steps]()"
   ]
  },
  {
   "cell_type": "markdown",
   "metadata": {},
   "source": [
    "### 2. Notebook setup  \n",
    "#### Imports"
   ]
  },
  {
   "cell_type": "code",
   "execution_count": 1,
   "metadata": {},
   "outputs": [],
   "source": [
    "import pandas as pd\n",
    "import numpy as np\n",
    "\n",
    "import re\n",
    "import xml.etree.ElementTree as ET\n",
    "\n",
    "from timeit import default_timer as timer\n",
    "\n",
    "import matplotlib.pyplot as plt\n",
    "import matplotlib\n",
    "%matplotlib inline"
   ]
  },
  {
   "cell_type": "markdown",
   "metadata": {},
   "source": [
    "#### Settings"
   ]
  },
  {
   "cell_type": "code",
   "execution_count": 2,
   "metadata": {},
   "outputs": [],
   "source": [
    "# Customize matplotlib default settings\n",
    "matplotlib.rcParams.update({'font.size': 16})\n",
    "plt.rcParams[\"figure.figsize\"] = (20,10)"
   ]
  },
  {
   "cell_type": "code",
   "execution_count": 3,
   "metadata": {},
   "outputs": [],
   "source": [
    "# set up Pandas options\n",
    "pd.set_option('display.max_columns', 25)\n",
    "pd.set_option('display.max_rows', 50)\n",
    "pd.set_option('display.precision', 3)\n",
    "pd.options.display.float_format = '{:.2f}'.format"
   ]
  },
  {
   "cell_type": "markdown",
   "metadata": {},
   "source": [
    "### 3. Data sources\n",
    "\n",
    "FAERS stands for FDA Adverse Event Reporting System. It is a database that contains adverse event reports, medication error reports and product quality complaints resulting in adverse events that were submitted to FDA. The database is designed to support the FDA's post-marketing safety surveillance program for drug and therapeutic biologic products. ([Source](https://www.fda.gov/Drugs/GuidanceComplianceRegulatoryInformation/Surveillance/AdverseDrugEffects/default.htm)) \n",
    "\n",
    "\n",
    "https://www.fda.gov/Drugs/GuidanceComplianceRegulatoryInformation/Surveillance/AdverseDrugEffects/ucm082193.htm \n",
    "\n",
    "\n",
    "Datfile download for 2018Q4."
   ]
  },
  {
   "cell_type": "code",
   "execution_count": 3,
   "metadata": {},
   "outputs": [],
   "source": [
    "raw_data_path = \"data/raw/\""
   ]
  },
  {
   "cell_type": "code",
   "execution_count": 4,
   "metadata": {},
   "outputs": [
    {
     "name": "stdout",
     "output_type": "stream",
     "text": [
      "\u001b[1m\u001b[36mascii_2018q4\u001b[m\u001b[m \u001b[1m\u001b[36mxml_2018q4\u001b[m\u001b[m\r\n"
     ]
    }
   ],
   "source": [
    "!ls data/raw/"
   ]
  },
  {
   "cell_type": "markdown",
   "metadata": {},
   "source": [
    "#### Let's look at the XML datafiles."
   ]
  },
  {
   "cell_type": "code",
   "execution_count": 5,
   "metadata": {},
   "outputs": [
    {
     "name": "stdout",
     "output_type": "stream",
     "text": [
      "1_ADR18Q4.xml 2_ADR18Q4.xml 3_ADR18Q4.xml XML_NTS.pdf   xml18q4.pdf\r\n"
     ]
    }
   ],
   "source": [
    "!ls data/raw/xml_2018q4/xml"
   ]
  },
  {
   "cell_type": "code",
   "execution_count": 5,
   "metadata": {},
   "outputs": [
    {
     "name": "stdout",
     "output_type": "stream",
     "text": [
      "<?xml version=\"1.0\"?>\r\n",
      "<ichicsr lang=\"en\">\r\n",
      "  <ichicsrmessageheader>\r\n",
      "    <messagetype>ICSR</messagetype>\r\n",
      "    <messageformatversion>2.1</messageformatversion>\r\n",
      "    <messageformatrelease>1.0</messageformatrelease>\r\n",
      "    <messagenumb>2019-02</messagenumb>\r\n",
      "    <messagesenderidentifier>FDA CDER</messagesenderidentifier>\r\n",
      "    <messagereceiveridentifier>Public Use</messagereceiveridentifier>\r\n",
      "    <messagedateformat>204</messagedateformat>\r\n",
      "    <messagedate>20190207040220</messagedate>\r\n",
      "  </ichicsrmessageheader>\r\n",
      "  <safetyreport>\r\n",
      "    <safetyreportversion>1</safetyreportversion>\r\n",
      "    <safetyreportid>15529521</safetyreportid>\r\n",
      "    <primarysourcecountry>US</primarysourcecountry>\r\n",
      "    <occurcountry>US</occurcountry>\r\n",
      "    <transmissiondateformat>102</transmissiondateformat>\r\n",
      "    <transmissiondate>20190205</transmissiondate>\r\n",
      "    <reporttype>1</reporttype>\r\n",
      "    <serious>2</serious>\r\n",
      "    <receivedateformat>102</receivedateformat>\r\n",
      "    <receivedate>20181018</receivedate>\r\n",
      "    <receiptdateformat>102</receiptdateformat>\r\n",
      "    <receiptdate>20181018</receiptdate>\r\n",
      "    <fulfillexpeditecriteria>2</fulfillexpeditecriteria>\r\n",
      "    <companynumb>US-AMGEN-USASP2018109973</companynumb>\r\n",
      "    <duplicate>1</duplicate>\r\n",
      "    <reportduplicate>\r\n",
      "      <duplicatesource>AMGEN</duplicatesource>\r\n",
      "      <duplicatenumb>US-AMGEN-USASP2018109973</duplicatenumb>\r\n",
      "    </reportduplicate>\r\n",
      "    <primarysource>\r\n",
      "      <reportercountry>US</reportercountry>\r\n",
      "      <qualification>1</qualification>\r\n",
      "    </primarysource>\r\n",
      "    <sender>\r\n",
      "      <sendertype>2</sendertype>\r\n",
      "      <senderorganization>FDA-Public Use </senderorganization>\r\n",
      "    </sender>\r\n",
      "    <receiver>\r\n",
      "      <receivertype>6</receivertype>\r\n",
      "      <receiverorganization>FDA</receiverorganization>\r\n",
      "    </receiver>\r\n",
      "    <patient>\r\n",
      "      <patientonsetage>70</patientonsetage>\r\n",
      "      <patientonsetageunit>801</patientonsetageunit>\r\n",
      "      <patientagegroup>6</patientagegroup>\r\n",
      "      <patientsex>1</patientsex>\r\n",
      "      <reaction>\r\n"
     ]
    }
   ],
   "source": [
    "! head -50 data/raw/xml_2018q4/xml/1_ADR18Q4.xml"
   ]
  },
  {
   "cell_type": "code",
   "execution_count": 6,
   "metadata": {},
   "outputs": [],
   "source": [
    "raw_xml_path = \"data/raw/xml_2018q4/xml/\""
   ]
  },
  {
   "cell_type": "code",
   "execution_count": 7,
   "metadata": {},
   "outputs": [],
   "source": [
    "xml_file_1 = raw_xml_path + \"1_ADR18Q4.xml\""
   ]
  },
  {
   "cell_type": "code",
   "execution_count": 8,
   "metadata": {},
   "outputs": [],
   "source": [
    "tree = ET.parse(xml_file_1)\n",
    "root = tree.getroot()"
   ]
  },
  {
   "cell_type": "code",
   "execution_count": 9,
   "metadata": {},
   "outputs": [
    {
     "data": {
      "text/plain": [
       "'ichicsr'"
      ]
     },
     "execution_count": 9,
     "metadata": {},
     "output_type": "execute_result"
    }
   ],
   "source": [
    "root.tag"
   ]
  },
  {
   "cell_type": "code",
   "execution_count": 10,
   "metadata": {},
   "outputs": [
    {
     "data": {
      "text/plain": [
       "{'lang': 'en'}"
      ]
     },
     "execution_count": 10,
     "metadata": {},
     "output_type": "execute_result"
    }
   ],
   "source": [
    "root.attrib"
   ]
  },
  {
   "cell_type": "code",
   "execution_count": 11,
   "metadata": {},
   "outputs": [
    {
     "name": "stdout",
     "output_type": "stream",
     "text": [
      "ichicsrmessageheader {}\n",
      "safetyreport {}\n",
      "safetyreport {}\n",
      "safetyreport {}\n",
      "safetyreport {}\n",
      "safetyreport {}\n",
      "safetyreport {}\n",
      "safetyreport {}\n",
      "safetyreport {}\n",
      "safetyreport {}\n",
      "safetyreport {}\n"
     ]
    }
   ],
   "source": [
    "i=0\n",
    "for child in root:\n",
    "    print(child.tag, child.attrib)\n",
    "    i+=1\n",
    "    if i>10:\n",
    "        break"
   ]
  },
  {
   "cell_type": "code",
   "execution_count": 12,
   "metadata": {},
   "outputs": [
    {
     "data": {
      "text/plain": [
       "'2.1'"
      ]
     },
     "execution_count": 12,
     "metadata": {},
     "output_type": "execute_result"
    }
   ],
   "source": [
    "root[0][1].text"
   ]
  },
  {
   "cell_type": "code",
   "execution_count": 13,
   "metadata": {},
   "outputs": [
    {
     "name": "stdout",
     "output_type": "stream",
     "text": [
      "15529521\n",
      "15529522\n",
      "15529524\n",
      "15529856\n",
      "15529858\n",
      "15529861\n",
      "15530134\n",
      "15529556\n",
      "15529558\n",
      "15529559\n",
      "15529564\n"
     ]
    }
   ],
   "source": [
    "i=0\n",
    "        \n",
    "for report_id in root.iter('safetyreportid'):\n",
    "    print(report_id.text)\n",
    "    i+=1\n",
    "    if i>10:\n",
    "        break"
   ]
  },
  {
   "cell_type": "code",
   "execution_count": 14,
   "metadata": {},
   "outputs": [],
   "source": [
    "all_tags = list(set([elem.tag for elem in root.iter()]))"
   ]
  },
  {
   "cell_type": "code",
   "execution_count": 15,
   "metadata": {},
   "outputs": [
    {
     "data": {
      "text/plain": [
       "87"
      ]
     },
     "execution_count": 15,
     "metadata": {},
     "output_type": "execute_result"
    }
   ],
   "source": [
    "len(all_tags)"
   ]
  },
  {
   "cell_type": "code",
   "execution_count": 16,
   "metadata": {},
   "outputs": [],
   "source": [
    "all_tags.sort()"
   ]
  },
  {
   "cell_type": "markdown",
   "metadata": {},
   "source": [
    "Print out all data fields in this XML file"
   ]
  },
  {
   "cell_type": "code",
   "execution_count": 17,
   "metadata": {},
   "outputs": [
    {
     "data": {
      "text/plain": [
       "['actiondrug',\n",
       " 'activesubstance',\n",
       " 'activesubstancename',\n",
       " 'authoritynumb',\n",
       " 'companynumb',\n",
       " 'drug',\n",
       " 'drugadditional',\n",
       " 'drugadministrationroute',\n",
       " 'drugauthorizationnumb',\n",
       " 'drugbatchnumb',\n",
       " 'drugcharacterization',\n",
       " 'drugcumulativedosagenumb',\n",
       " 'drugcumulativedosageunit',\n",
       " 'drugdosageform',\n",
       " 'drugdosagetext',\n",
       " 'drugenddate',\n",
       " 'drugenddateformat',\n",
       " 'drugindication',\n",
       " 'drugintervaldosagedefinition',\n",
       " 'drugintervaldosageunitnumb',\n",
       " 'drugrecuraction',\n",
       " 'drugrecurreadministration',\n",
       " 'drugrecurrence',\n",
       " 'drugseparatedosagenumb',\n",
       " 'drugstartdate',\n",
       " 'drugstartdateformat',\n",
       " 'drugstructuredosagenumb',\n",
       " 'drugstructuredosageunit',\n",
       " 'drugtreatmentduration',\n",
       " 'drugtreatmentdurationunit',\n",
       " 'duplicate',\n",
       " 'duplicatenumb',\n",
       " 'duplicatesource',\n",
       " 'fulfillexpeditecriteria',\n",
       " 'ichicsr',\n",
       " 'ichicsrmessageheader',\n",
       " 'literaturereference',\n",
       " 'medicinalproduct',\n",
       " 'messagedate',\n",
       " 'messagedateformat',\n",
       " 'messageformatrelease',\n",
       " 'messageformatversion',\n",
       " 'messagenumb',\n",
       " 'messagereceiveridentifier',\n",
       " 'messagesenderidentifier',\n",
       " 'messagetype',\n",
       " 'narrativeincludeclinical',\n",
       " 'occurcountry',\n",
       " 'patient',\n",
       " 'patientagegroup',\n",
       " 'patientonsetage',\n",
       " 'patientonsetageunit',\n",
       " 'patientsex',\n",
       " 'patientweight',\n",
       " 'primarysource',\n",
       " 'primarysourcecountry',\n",
       " 'qualification',\n",
       " 'reaction',\n",
       " 'reactionmeddrapt',\n",
       " 'reactionmeddraversionpt',\n",
       " 'reactionoutcome',\n",
       " 'receiptdate',\n",
       " 'receiptdateformat',\n",
       " 'receivedate',\n",
       " 'receivedateformat',\n",
       " 'receiver',\n",
       " 'receiverorganization',\n",
       " 'receivertype',\n",
       " 'reportduplicate',\n",
       " 'reportercountry',\n",
       " 'reporttype',\n",
       " 'safetyreport',\n",
       " 'safetyreportid',\n",
       " 'safetyreportversion',\n",
       " 'sender',\n",
       " 'senderorganization',\n",
       " 'sendertype',\n",
       " 'serious',\n",
       " 'seriousnesscongenitalanomali',\n",
       " 'seriousnessdeath',\n",
       " 'seriousnessdisabling',\n",
       " 'seriousnesshospitalization',\n",
       " 'seriousnesslifethreatening',\n",
       " 'seriousnessother',\n",
       " 'summary',\n",
       " 'transmissiondate',\n",
       " 'transmissiondateformat']"
      ]
     },
     "execution_count": 17,
     "metadata": {},
     "output_type": "execute_result"
    }
   ],
   "source": [
    "all_tags"
   ]
  },
  {
   "cell_type": "markdown",
   "metadata": {},
   "source": [
    "#### Now let's look at the ASCII datafiles format."
   ]
  },
  {
   "cell_type": "code",
   "execution_count": 18,
   "metadata": {},
   "outputs": [
    {
     "name": "stdout",
     "output_type": "stream",
     "text": [
      "ASC_NTS.pdf  INDI18Q4.txt RPSR18Q4.txt drug18q4.pdf reac18q4.pdf\r\n",
      "DEMO18Q4.txt OUTC18Q4.txt THER18Q4.txt indi18q4.pdf rpsr18q4.pdf\r\n",
      "DRUG18Q4.txt REAC18Q4.txt demo18q4.pdf outc18q4.pdf ther18q4.pdf\r\n"
     ]
    }
   ],
   "source": [
    "!ls data/raw/ascii_2018q4/ascii"
   ]
  },
  {
   "cell_type": "code",
   "execution_count": 19,
   "metadata": {
    "scrolled": true
   },
   "outputs": [
    {
     "name": "stdout",
     "output_type": "stream",
     "text": [
      "primaryid$caseid$caseversion$i_f_code$event_dt$mfr_dt$init_fda_dt$fda_dt$rept_cod$auth_num$mfr_num$mfr_sndr$lit_ref$age$age_cod$age_grp$sex$e_sub$wt$wt_cod$rept_dt$to_mfr$occp_cod$reporter_country$occr_country\r\n",
      "100035916$10003591$6$F$20130718$20181203$20140312$20181211$EXP$$PHHY2013GB101660$NOVARTIS$$47$YR$$F$Y$$$20181211$$OT$GB$GB\r\n",
      "100050413$10005041$3$F$20140306$20141118$20140312$20181213$EXP$$US-TEVA-468475USA$TEVA$$25$YR$$F$Y$68.1$KG$20181213$$CN$US$US\r\n",
      "1000551312$10005513$12$F$20120209$20181107$20140313$20181115$EXP$$BR-AMGEN-BRASP2012013548$AMGEN$$55$YR$A$F$Y$67$KG$20181115$$CN$BR$BR\r\n",
      "100058832$10005883$2$F$$20180928$20140313$20181012$EXP$$FR-RANBAXY-2014RR-78735$RANBAXY$$31$YR$$F$Y$$$20181012$$OT$GB$FR\r\n",
      "100065479$10006547$9$F$201203$20181211$20140313$20181228$EXP$$US-BAYER-2014-035909$BAYER$$36$YR$A$F$Y$90.7$KG$20181228$$CN$US$US\r\n",
      "100066188$10006618$8$F$$20181004$20140313$20181017$PER$$US-PFIZER INC-2014069077$PFIZER$$58$YR$$F$Y$$$20181017$$CN$US$US\r\n",
      "1000808588$10008085$88$F$20131213$20181218$20140313$20181225$EXP$$PHHY2013CA071340$NOVARTIS$$73$YR$$F$Y$50.34$KG$20181225$$MD$CA$CA\r\n",
      "100088883$10008888$3$F$2012$20181219$20140312$20181221$EXP$$US-INCYTE CORPORATION-2012IN000360$INCYTE$$$$$$Y$$$20181221$$CN$US$US\r\n",
      "100098293$10009829$3$F$20130107$20181203$20140312$20181211$PER$$US-INCYTE CORPORATION-2013IN000064$INCYTE$$$$$$Y$$$20181211$$MD$US$US\r\n"
     ]
    }
   ],
   "source": [
    "!head data/raw/ascii_2018q4/ascii/DEMO18Q4.txt"
   ]
  },
  {
   "cell_type": "code",
   "execution_count": 20,
   "metadata": {},
   "outputs": [],
   "source": [
    "raw_ascii_path = \"data/raw/ascii_2018q4/ascii/\""
   ]
  },
  {
   "cell_type": "code",
   "execution_count": 21,
   "metadata": {},
   "outputs": [],
   "source": [
    "ascii_file_demo = raw_ascii_path + \"DEMO18Q4.txt\""
   ]
  },
  {
   "cell_type": "code",
   "execution_count": 22,
   "metadata": {},
   "outputs": [],
   "source": [
    "datatypes = {\n",
    "    'primaryid': 'object', \n",
    "    'caseid': 'object', \n",
    "    'caseversion': np.int32, \n",
    "    'i_f_code': 'object', \n",
    "    'event_dt': 'object', \n",
    "    'mfr_dt': 'object',\n",
    "    'init_fda_dt': 'object', \n",
    "    'fda_dt': 'object', \n",
    "    'rept_cod': 'object', \n",
    "    'auth_num': 'object', \n",
    "    'mfr_num': 'object', \n",
    "    'mfr_sndr': 'object',\n",
    "    'lit_ref': 'object', \n",
    "    'age': np.float64, \n",
    "    'age_cod': 'object', \n",
    "    'age_grp': 'object', \n",
    "    'sex': 'object', \n",
    "    'e_sub': 'object', \n",
    "    'wt': np.float64, \n",
    "    'wt_cod': 'object',\n",
    "    'rept_dt': 'object', \n",
    "    'to_mfr': 'object', \n",
    "    'occp_cod': 'object', \n",
    "    'reporter_country': 'object', \n",
    "    'occr_country': 'object'\n",
    "}\n",
    "\n",
    "# {‘a’: np.float64, ‘b’: np.int32, ‘c’: ‘Int64’}"
   ]
  },
  {
   "cell_type": "code",
   "execution_count": 23,
   "metadata": {},
   "outputs": [],
   "source": [
    "demo = pd.read_csv(ascii_file_demo, sep='$', dtype=datatypes)"
   ]
  },
  {
   "cell_type": "code",
   "execution_count": 24,
   "metadata": {},
   "outputs": [
    {
     "data": {
      "text/plain": [
       "Index(['primaryid', 'caseid', 'caseversion', 'i_f_code', 'event_dt', 'mfr_dt',\n",
       "       'init_fda_dt', 'fda_dt', 'rept_cod', 'auth_num', 'mfr_num', 'mfr_sndr',\n",
       "       'lit_ref', 'age', 'age_cod', 'age_grp', 'sex', 'e_sub', 'wt', 'wt_cod',\n",
       "       'rept_dt', 'to_mfr', 'occp_cod', 'reporter_country', 'occr_country'],\n",
       "      dtype='object')"
      ]
     },
     "execution_count": 24,
     "metadata": {},
     "output_type": "execute_result"
    }
   ],
   "source": [
    "demo.columns"
   ]
  },
  {
   "cell_type": "code",
   "execution_count": 26,
   "metadata": {},
   "outputs": [
    {
     "data": {
      "text/html": [
       "<div>\n",
       "<style scoped>\n",
       "    .dataframe tbody tr th:only-of-type {\n",
       "        vertical-align: middle;\n",
       "    }\n",
       "\n",
       "    .dataframe tbody tr th {\n",
       "        vertical-align: top;\n",
       "    }\n",
       "\n",
       "    .dataframe thead th {\n",
       "        text-align: right;\n",
       "    }\n",
       "</style>\n",
       "<table border=\"1\" class=\"dataframe\">\n",
       "  <thead>\n",
       "    <tr style=\"text-align: right;\">\n",
       "      <th></th>\n",
       "      <th>primaryid</th>\n",
       "      <th>caseid</th>\n",
       "      <th>caseversion</th>\n",
       "      <th>i_f_code</th>\n",
       "      <th>event_dt</th>\n",
       "      <th>mfr_dt</th>\n",
       "      <th>init_fda_dt</th>\n",
       "      <th>fda_dt</th>\n",
       "      <th>rept_cod</th>\n",
       "      <th>auth_num</th>\n",
       "      <th>mfr_num</th>\n",
       "      <th>mfr_sndr</th>\n",
       "      <th>lit_ref</th>\n",
       "      <th>age</th>\n",
       "      <th>age_cod</th>\n",
       "      <th>age_grp</th>\n",
       "      <th>sex</th>\n",
       "      <th>e_sub</th>\n",
       "      <th>wt</th>\n",
       "      <th>wt_cod</th>\n",
       "      <th>rept_dt</th>\n",
       "      <th>to_mfr</th>\n",
       "      <th>occp_cod</th>\n",
       "      <th>reporter_country</th>\n",
       "      <th>occr_country</th>\n",
       "    </tr>\n",
       "  </thead>\n",
       "  <tbody>\n",
       "    <tr>\n",
       "      <th>0</th>\n",
       "      <td>100035916</td>\n",
       "      <td>10003591</td>\n",
       "      <td>6</td>\n",
       "      <td>F</td>\n",
       "      <td>20130718</td>\n",
       "      <td>20181203</td>\n",
       "      <td>20140312</td>\n",
       "      <td>20181211</td>\n",
       "      <td>EXP</td>\n",
       "      <td>NaN</td>\n",
       "      <td>PHHY2013GB101660</td>\n",
       "      <td>NOVARTIS</td>\n",
       "      <td>NaN</td>\n",
       "      <td>47.00</td>\n",
       "      <td>YR</td>\n",
       "      <td>NaN</td>\n",
       "      <td>F</td>\n",
       "      <td>Y</td>\n",
       "      <td>nan</td>\n",
       "      <td>NaN</td>\n",
       "      <td>20181211</td>\n",
       "      <td>NaN</td>\n",
       "      <td>OT</td>\n",
       "      <td>GB</td>\n",
       "      <td>GB</td>\n",
       "    </tr>\n",
       "    <tr>\n",
       "      <th>1</th>\n",
       "      <td>100050413</td>\n",
       "      <td>10005041</td>\n",
       "      <td>3</td>\n",
       "      <td>F</td>\n",
       "      <td>20140306</td>\n",
       "      <td>20141118</td>\n",
       "      <td>20140312</td>\n",
       "      <td>20181213</td>\n",
       "      <td>EXP</td>\n",
       "      <td>NaN</td>\n",
       "      <td>US-TEVA-468475USA</td>\n",
       "      <td>TEVA</td>\n",
       "      <td>NaN</td>\n",
       "      <td>25.00</td>\n",
       "      <td>YR</td>\n",
       "      <td>NaN</td>\n",
       "      <td>F</td>\n",
       "      <td>Y</td>\n",
       "      <td>68.10</td>\n",
       "      <td>KG</td>\n",
       "      <td>20181213</td>\n",
       "      <td>NaN</td>\n",
       "      <td>CN</td>\n",
       "      <td>US</td>\n",
       "      <td>US</td>\n",
       "    </tr>\n",
       "    <tr>\n",
       "      <th>2</th>\n",
       "      <td>1000551312</td>\n",
       "      <td>10005513</td>\n",
       "      <td>12</td>\n",
       "      <td>F</td>\n",
       "      <td>20120209</td>\n",
       "      <td>20181107</td>\n",
       "      <td>20140313</td>\n",
       "      <td>20181115</td>\n",
       "      <td>EXP</td>\n",
       "      <td>NaN</td>\n",
       "      <td>BR-AMGEN-BRASP2012013548</td>\n",
       "      <td>AMGEN</td>\n",
       "      <td>NaN</td>\n",
       "      <td>55.00</td>\n",
       "      <td>YR</td>\n",
       "      <td>A</td>\n",
       "      <td>F</td>\n",
       "      <td>Y</td>\n",
       "      <td>67.00</td>\n",
       "      <td>KG</td>\n",
       "      <td>20181115</td>\n",
       "      <td>NaN</td>\n",
       "      <td>CN</td>\n",
       "      <td>BR</td>\n",
       "      <td>BR</td>\n",
       "    </tr>\n",
       "    <tr>\n",
       "      <th>3</th>\n",
       "      <td>100058832</td>\n",
       "      <td>10005883</td>\n",
       "      <td>2</td>\n",
       "      <td>F</td>\n",
       "      <td>NaN</td>\n",
       "      <td>20180928</td>\n",
       "      <td>20140313</td>\n",
       "      <td>20181012</td>\n",
       "      <td>EXP</td>\n",
       "      <td>NaN</td>\n",
       "      <td>FR-RANBAXY-2014RR-78735</td>\n",
       "      <td>RANBAXY</td>\n",
       "      <td>NaN</td>\n",
       "      <td>31.00</td>\n",
       "      <td>YR</td>\n",
       "      <td>NaN</td>\n",
       "      <td>F</td>\n",
       "      <td>Y</td>\n",
       "      <td>nan</td>\n",
       "      <td>NaN</td>\n",
       "      <td>20181012</td>\n",
       "      <td>NaN</td>\n",
       "      <td>OT</td>\n",
       "      <td>GB</td>\n",
       "      <td>FR</td>\n",
       "    </tr>\n",
       "    <tr>\n",
       "      <th>4</th>\n",
       "      <td>100065479</td>\n",
       "      <td>10006547</td>\n",
       "      <td>9</td>\n",
       "      <td>F</td>\n",
       "      <td>201203</td>\n",
       "      <td>20181211</td>\n",
       "      <td>20140313</td>\n",
       "      <td>20181228</td>\n",
       "      <td>EXP</td>\n",
       "      <td>NaN</td>\n",
       "      <td>US-BAYER-2014-035909</td>\n",
       "      <td>BAYER</td>\n",
       "      <td>NaN</td>\n",
       "      <td>36.00</td>\n",
       "      <td>YR</td>\n",
       "      <td>A</td>\n",
       "      <td>F</td>\n",
       "      <td>Y</td>\n",
       "      <td>90.70</td>\n",
       "      <td>KG</td>\n",
       "      <td>20181228</td>\n",
       "      <td>NaN</td>\n",
       "      <td>CN</td>\n",
       "      <td>US</td>\n",
       "      <td>US</td>\n",
       "    </tr>\n",
       "  </tbody>\n",
       "</table>\n",
       "</div>"
      ],
      "text/plain": [
       "    primaryid    caseid  caseversion i_f_code  event_dt    mfr_dt init_fda_dt  \\\n",
       "0   100035916  10003591            6        F  20130718  20181203    20140312   \n",
       "1   100050413  10005041            3        F  20140306  20141118    20140312   \n",
       "2  1000551312  10005513           12        F  20120209  20181107    20140313   \n",
       "3   100058832  10005883            2        F       NaN  20180928    20140313   \n",
       "4   100065479  10006547            9        F    201203  20181211    20140313   \n",
       "\n",
       "     fda_dt rept_cod auth_num                   mfr_num  mfr_sndr lit_ref  \\\n",
       "0  20181211      EXP      NaN          PHHY2013GB101660  NOVARTIS     NaN   \n",
       "1  20181213      EXP      NaN         US-TEVA-468475USA      TEVA     NaN   \n",
       "2  20181115      EXP      NaN  BR-AMGEN-BRASP2012013548     AMGEN     NaN   \n",
       "3  20181012      EXP      NaN   FR-RANBAXY-2014RR-78735   RANBAXY     NaN   \n",
       "4  20181228      EXP      NaN      US-BAYER-2014-035909     BAYER     NaN   \n",
       "\n",
       "    age age_cod age_grp sex e_sub    wt wt_cod   rept_dt to_mfr occp_cod  \\\n",
       "0 47.00      YR     NaN   F     Y   nan    NaN  20181211    NaN       OT   \n",
       "1 25.00      YR     NaN   F     Y 68.10     KG  20181213    NaN       CN   \n",
       "2 55.00      YR       A   F     Y 67.00     KG  20181115    NaN       CN   \n",
       "3 31.00      YR     NaN   F     Y   nan    NaN  20181012    NaN       OT   \n",
       "4 36.00      YR       A   F     Y 90.70     KG  20181228    NaN       CN   \n",
       "\n",
       "  reporter_country occr_country  \n",
       "0               GB           GB  \n",
       "1               US           US  \n",
       "2               BR           BR  \n",
       "3               GB           FR  \n",
       "4               US           US  "
      ]
     },
     "execution_count": 26,
     "metadata": {},
     "output_type": "execute_result"
    }
   ],
   "source": [
    "demo.head()"
   ]
  },
  {
   "cell_type": "code",
   "execution_count": 27,
   "metadata": {},
   "outputs": [
    {
     "data": {
      "text/html": [
       "<div>\n",
       "<style scoped>\n",
       "    .dataframe tbody tr th:only-of-type {\n",
       "        vertical-align: middle;\n",
       "    }\n",
       "\n",
       "    .dataframe tbody tr th {\n",
       "        vertical-align: top;\n",
       "    }\n",
       "\n",
       "    .dataframe thead th {\n",
       "        text-align: right;\n",
       "    }\n",
       "</style>\n",
       "<table border=\"1\" class=\"dataframe\">\n",
       "  <thead>\n",
       "    <tr style=\"text-align: right;\">\n",
       "      <th></th>\n",
       "      <th>primaryid</th>\n",
       "      <th>caseid</th>\n",
       "      <th>caseversion</th>\n",
       "      <th>i_f_code</th>\n",
       "      <th>event_dt</th>\n",
       "      <th>mfr_dt</th>\n",
       "      <th>init_fda_dt</th>\n",
       "      <th>fda_dt</th>\n",
       "      <th>rept_cod</th>\n",
       "      <th>auth_num</th>\n",
       "      <th>mfr_num</th>\n",
       "      <th>mfr_sndr</th>\n",
       "      <th>lit_ref</th>\n",
       "      <th>age</th>\n",
       "      <th>age_cod</th>\n",
       "      <th>age_grp</th>\n",
       "      <th>sex</th>\n",
       "      <th>e_sub</th>\n",
       "      <th>wt</th>\n",
       "      <th>wt_cod</th>\n",
       "      <th>rept_dt</th>\n",
       "      <th>to_mfr</th>\n",
       "      <th>occp_cod</th>\n",
       "      <th>reporter_country</th>\n",
       "      <th>occr_country</th>\n",
       "    </tr>\n",
       "  </thead>\n",
       "  <tbody>\n",
       "    <tr>\n",
       "      <th>count</th>\n",
       "      <td>394066</td>\n",
       "      <td>394066</td>\n",
       "      <td>394066.00</td>\n",
       "      <td>394066</td>\n",
       "      <td>205438</td>\n",
       "      <td>370593</td>\n",
       "      <td>394066</td>\n",
       "      <td>394066</td>\n",
       "      <td>394066</td>\n",
       "      <td>20168</td>\n",
       "      <td>370595</td>\n",
       "      <td>394065</td>\n",
       "      <td>23441</td>\n",
       "      <td>235444.00</td>\n",
       "      <td>235452</td>\n",
       "      <td>80189</td>\n",
       "      <td>347760</td>\n",
       "      <td>394066</td>\n",
       "      <td>81142.00</td>\n",
       "      <td>81142</td>\n",
       "      <td>393749</td>\n",
       "      <td>23479</td>\n",
       "      <td>387070</td>\n",
       "      <td>394066</td>\n",
       "      <td>394053</td>\n",
       "    </tr>\n",
       "    <tr>\n",
       "      <th>unique</th>\n",
       "      <td>394066</td>\n",
       "      <td>394066</td>\n",
       "      <td>nan</td>\n",
       "      <td>2</td>\n",
       "      <td>4711</td>\n",
       "      <td>2370</td>\n",
       "      <td>2503</td>\n",
       "      <td>183</td>\n",
       "      <td>3</td>\n",
       "      <td>15597</td>\n",
       "      <td>370595</td>\n",
       "      <td>471</td>\n",
       "      <td>17759</td>\n",
       "      <td>nan</td>\n",
       "      <td>6</td>\n",
       "      <td>6</td>\n",
       "      <td>3</td>\n",
       "      <td>2</td>\n",
       "      <td>nan</td>\n",
       "      <td>2</td>\n",
       "      <td>351</td>\n",
       "      <td>3</td>\n",
       "      <td>5</td>\n",
       "      <td>160</td>\n",
       "      <td>163</td>\n",
       "    </tr>\n",
       "    <tr>\n",
       "      <th>top</th>\n",
       "      <td>154544191</td>\n",
       "      <td>14508418</td>\n",
       "      <td>nan</td>\n",
       "      <td>I</td>\n",
       "      <td>2018</td>\n",
       "      <td>20181210</td>\n",
       "      <td>20181016</td>\n",
       "      <td>20181016</td>\n",
       "      <td>EXP</td>\n",
       "      <td>0000</td>\n",
       "      <td>PHJP2018JP021151</td>\n",
       "      <td>PFIZER</td>\n",
       "      <td>STACEY R, VERA T, MORGAN T, JORDAN J, WHITLOCK...</td>\n",
       "      <td>nan</td>\n",
       "      <td>YR</td>\n",
       "      <td>A</td>\n",
       "      <td>F</td>\n",
       "      <td>Y</td>\n",
       "      <td>nan</td>\n",
       "      <td>KG</td>\n",
       "      <td>20181016</td>\n",
       "      <td>N</td>\n",
       "      <td>CN</td>\n",
       "      <td>US</td>\n",
       "      <td>US</td>\n",
       "    </tr>\n",
       "    <tr>\n",
       "      <th>freq</th>\n",
       "      <td>1</td>\n",
       "      <td>1</td>\n",
       "      <td>nan</td>\n",
       "      <td>267661</td>\n",
       "      <td>25293</td>\n",
       "      <td>6857</td>\n",
       "      <td>11177</td>\n",
       "      <td>12657</td>\n",
       "      <td>204438</td>\n",
       "      <td>14</td>\n",
       "      <td>1</td>\n",
       "      <td>35409</td>\n",
       "      <td>79</td>\n",
       "      <td>nan</td>\n",
       "      <td>230226</td>\n",
       "      <td>48200</td>\n",
       "      <td>212580</td>\n",
       "      <td>370587</td>\n",
       "      <td>nan</td>\n",
       "      <td>80809</td>\n",
       "      <td>11312</td>\n",
       "      <td>22175</td>\n",
       "      <td>168973</td>\n",
       "      <td>249968</td>\n",
       "      <td>262062</td>\n",
       "    </tr>\n",
       "    <tr>\n",
       "      <th>mean</th>\n",
       "      <td>NaN</td>\n",
       "      <td>NaN</td>\n",
       "      <td>1.67</td>\n",
       "      <td>NaN</td>\n",
       "      <td>NaN</td>\n",
       "      <td>NaN</td>\n",
       "      <td>NaN</td>\n",
       "      <td>NaN</td>\n",
       "      <td>NaN</td>\n",
       "      <td>NaN</td>\n",
       "      <td>NaN</td>\n",
       "      <td>NaN</td>\n",
       "      <td>NaN</td>\n",
       "      <td>200.03</td>\n",
       "      <td>NaN</td>\n",
       "      <td>NaN</td>\n",
       "      <td>NaN</td>\n",
       "      <td>NaN</td>\n",
       "      <td>75.17</td>\n",
       "      <td>NaN</td>\n",
       "      <td>NaN</td>\n",
       "      <td>NaN</td>\n",
       "      <td>NaN</td>\n",
       "      <td>NaN</td>\n",
       "      <td>NaN</td>\n",
       "    </tr>\n",
       "    <tr>\n",
       "      <th>std</th>\n",
       "      <td>NaN</td>\n",
       "      <td>NaN</td>\n",
       "      <td>1.75</td>\n",
       "      <td>NaN</td>\n",
       "      <td>NaN</td>\n",
       "      <td>NaN</td>\n",
       "      <td>NaN</td>\n",
       "      <td>NaN</td>\n",
       "      <td>NaN</td>\n",
       "      <td>NaN</td>\n",
       "      <td>NaN</td>\n",
       "      <td>NaN</td>\n",
       "      <td>NaN</td>\n",
       "      <td>1843.75</td>\n",
       "      <td>NaN</td>\n",
       "      <td>NaN</td>\n",
       "      <td>NaN</td>\n",
       "      <td>NaN</td>\n",
       "      <td>29.24</td>\n",
       "      <td>NaN</td>\n",
       "      <td>NaN</td>\n",
       "      <td>NaN</td>\n",
       "      <td>NaN</td>\n",
       "      <td>NaN</td>\n",
       "      <td>NaN</td>\n",
       "    </tr>\n",
       "    <tr>\n",
       "      <th>min</th>\n",
       "      <td>NaN</td>\n",
       "      <td>NaN</td>\n",
       "      <td>1.00</td>\n",
       "      <td>NaN</td>\n",
       "      <td>NaN</td>\n",
       "      <td>NaN</td>\n",
       "      <td>NaN</td>\n",
       "      <td>NaN</td>\n",
       "      <td>NaN</td>\n",
       "      <td>NaN</td>\n",
       "      <td>NaN</td>\n",
       "      <td>NaN</td>\n",
       "      <td>NaN</td>\n",
       "      <td>-10.00</td>\n",
       "      <td>NaN</td>\n",
       "      <td>NaN</td>\n",
       "      <td>NaN</td>\n",
       "      <td>NaN</td>\n",
       "      <td>0.00</td>\n",
       "      <td>NaN</td>\n",
       "      <td>NaN</td>\n",
       "      <td>NaN</td>\n",
       "      <td>NaN</td>\n",
       "      <td>NaN</td>\n",
       "      <td>NaN</td>\n",
       "    </tr>\n",
       "    <tr>\n",
       "      <th>25%</th>\n",
       "      <td>NaN</td>\n",
       "      <td>NaN</td>\n",
       "      <td>1.00</td>\n",
       "      <td>NaN</td>\n",
       "      <td>NaN</td>\n",
       "      <td>NaN</td>\n",
       "      <td>NaN</td>\n",
       "      <td>NaN</td>\n",
       "      <td>NaN</td>\n",
       "      <td>NaN</td>\n",
       "      <td>NaN</td>\n",
       "      <td>NaN</td>\n",
       "      <td>NaN</td>\n",
       "      <td>45.00</td>\n",
       "      <td>NaN</td>\n",
       "      <td>NaN</td>\n",
       "      <td>NaN</td>\n",
       "      <td>NaN</td>\n",
       "      <td>59.87</td>\n",
       "      <td>NaN</td>\n",
       "      <td>NaN</td>\n",
       "      <td>NaN</td>\n",
       "      <td>NaN</td>\n",
       "      <td>NaN</td>\n",
       "      <td>NaN</td>\n",
       "    </tr>\n",
       "    <tr>\n",
       "      <th>50%</th>\n",
       "      <td>NaN</td>\n",
       "      <td>NaN</td>\n",
       "      <td>1.00</td>\n",
       "      <td>NaN</td>\n",
       "      <td>NaN</td>\n",
       "      <td>NaN</td>\n",
       "      <td>NaN</td>\n",
       "      <td>NaN</td>\n",
       "      <td>NaN</td>\n",
       "      <td>NaN</td>\n",
       "      <td>NaN</td>\n",
       "      <td>NaN</td>\n",
       "      <td>NaN</td>\n",
       "      <td>60.00</td>\n",
       "      <td>NaN</td>\n",
       "      <td>NaN</td>\n",
       "      <td>NaN</td>\n",
       "      <td>NaN</td>\n",
       "      <td>72.58</td>\n",
       "      <td>NaN</td>\n",
       "      <td>NaN</td>\n",
       "      <td>NaN</td>\n",
       "      <td>NaN</td>\n",
       "      <td>NaN</td>\n",
       "      <td>NaN</td>\n",
       "    </tr>\n",
       "    <tr>\n",
       "      <th>75%</th>\n",
       "      <td>NaN</td>\n",
       "      <td>NaN</td>\n",
       "      <td>2.00</td>\n",
       "      <td>NaN</td>\n",
       "      <td>NaN</td>\n",
       "      <td>NaN</td>\n",
       "      <td>NaN</td>\n",
       "      <td>NaN</td>\n",
       "      <td>NaN</td>\n",
       "      <td>NaN</td>\n",
       "      <td>NaN</td>\n",
       "      <td>NaN</td>\n",
       "      <td>NaN</td>\n",
       "      <td>71.00</td>\n",
       "      <td>NaN</td>\n",
       "      <td>NaN</td>\n",
       "      <td>NaN</td>\n",
       "      <td>NaN</td>\n",
       "      <td>88.45</td>\n",
       "      <td>NaN</td>\n",
       "      <td>NaN</td>\n",
       "      <td>NaN</td>\n",
       "      <td>NaN</td>\n",
       "      <td>NaN</td>\n",
       "      <td>NaN</td>\n",
       "    </tr>\n",
       "    <tr>\n",
       "      <th>max</th>\n",
       "      <td>NaN</td>\n",
       "      <td>NaN</td>\n",
       "      <td>88.00</td>\n",
       "      <td>NaN</td>\n",
       "      <td>NaN</td>\n",
       "      <td>NaN</td>\n",
       "      <td>NaN</td>\n",
       "      <td>NaN</td>\n",
       "      <td>NaN</td>\n",
       "      <td>NaN</td>\n",
       "      <td>NaN</td>\n",
       "      <td>NaN</td>\n",
       "      <td>NaN</td>\n",
       "      <td>34926.00</td>\n",
       "      <td>NaN</td>\n",
       "      <td>NaN</td>\n",
       "      <td>NaN</td>\n",
       "      <td>NaN</td>\n",
       "      <td>2890.00</td>\n",
       "      <td>NaN</td>\n",
       "      <td>NaN</td>\n",
       "      <td>NaN</td>\n",
       "      <td>NaN</td>\n",
       "      <td>NaN</td>\n",
       "      <td>NaN</td>\n",
       "    </tr>\n",
       "  </tbody>\n",
       "</table>\n",
       "</div>"
      ],
      "text/plain": [
       "        primaryid    caseid  caseversion i_f_code event_dt    mfr_dt  \\\n",
       "count      394066    394066    394066.00   394066   205438    370593   \n",
       "unique     394066    394066          nan        2     4711      2370   \n",
       "top     154544191  14508418          nan        I     2018  20181210   \n",
       "freq            1         1          nan   267661    25293      6857   \n",
       "mean          NaN       NaN         1.67      NaN      NaN       NaN   \n",
       "std           NaN       NaN         1.75      NaN      NaN       NaN   \n",
       "min           NaN       NaN         1.00      NaN      NaN       NaN   \n",
       "25%           NaN       NaN         1.00      NaN      NaN       NaN   \n",
       "50%           NaN       NaN         1.00      NaN      NaN       NaN   \n",
       "75%           NaN       NaN         2.00      NaN      NaN       NaN   \n",
       "max           NaN       NaN        88.00      NaN      NaN       NaN   \n",
       "\n",
       "       init_fda_dt    fda_dt rept_cod auth_num           mfr_num mfr_sndr  \\\n",
       "count       394066    394066   394066    20168            370595   394065   \n",
       "unique        2503       183        3    15597            370595      471   \n",
       "top       20181016  20181016      EXP     0000  PHJP2018JP021151   PFIZER   \n",
       "freq         11177     12657   204438       14                 1    35409   \n",
       "mean           NaN       NaN      NaN      NaN               NaN      NaN   \n",
       "std            NaN       NaN      NaN      NaN               NaN      NaN   \n",
       "min            NaN       NaN      NaN      NaN               NaN      NaN   \n",
       "25%            NaN       NaN      NaN      NaN               NaN      NaN   \n",
       "50%            NaN       NaN      NaN      NaN               NaN      NaN   \n",
       "75%            NaN       NaN      NaN      NaN               NaN      NaN   \n",
       "max            NaN       NaN      NaN      NaN               NaN      NaN   \n",
       "\n",
       "                                                  lit_ref       age age_cod  \\\n",
       "count                                               23441 235444.00  235452   \n",
       "unique                                              17759       nan       6   \n",
       "top     STACEY R, VERA T, MORGAN T, JORDAN J, WHITLOCK...       nan      YR   \n",
       "freq                                                   79       nan  230226   \n",
       "mean                                                  NaN    200.03     NaN   \n",
       "std                                                   NaN   1843.75     NaN   \n",
       "min                                                   NaN    -10.00     NaN   \n",
       "25%                                                   NaN     45.00     NaN   \n",
       "50%                                                   NaN     60.00     NaN   \n",
       "75%                                                   NaN     71.00     NaN   \n",
       "max                                                   NaN  34926.00     NaN   \n",
       "\n",
       "       age_grp     sex   e_sub       wt wt_cod   rept_dt to_mfr occp_cod  \\\n",
       "count    80189  347760  394066 81142.00  81142    393749  23479   387070   \n",
       "unique       6       3       2      nan      2       351      3        5   \n",
       "top          A       F       Y      nan     KG  20181016      N       CN   \n",
       "freq     48200  212580  370587      nan  80809     11312  22175   168973   \n",
       "mean       NaN     NaN     NaN    75.17    NaN       NaN    NaN      NaN   \n",
       "std        NaN     NaN     NaN    29.24    NaN       NaN    NaN      NaN   \n",
       "min        NaN     NaN     NaN     0.00    NaN       NaN    NaN      NaN   \n",
       "25%        NaN     NaN     NaN    59.87    NaN       NaN    NaN      NaN   \n",
       "50%        NaN     NaN     NaN    72.58    NaN       NaN    NaN      NaN   \n",
       "75%        NaN     NaN     NaN    88.45    NaN       NaN    NaN      NaN   \n",
       "max        NaN     NaN     NaN  2890.00    NaN       NaN    NaN      NaN   \n",
       "\n",
       "       reporter_country occr_country  \n",
       "count            394066       394053  \n",
       "unique              160          163  \n",
       "top                  US           US  \n",
       "freq             249968       262062  \n",
       "mean                NaN          NaN  \n",
       "std                 NaN          NaN  \n",
       "min                 NaN          NaN  \n",
       "25%                 NaN          NaN  \n",
       "50%                 NaN          NaN  \n",
       "75%                 NaN          NaN  \n",
       "max                 NaN          NaN  "
      ]
     },
     "execution_count": 27,
     "metadata": {},
     "output_type": "execute_result"
    }
   ],
   "source": [
    "demo.describe(include='all')"
   ]
  },
  {
   "cell_type": "code",
   "execution_count": 28,
   "metadata": {},
   "outputs": [
    {
     "name": "stdout",
     "output_type": "stream",
     "text": [
      "<class 'pandas.core.frame.DataFrame'>\n",
      "RangeIndex: 394066 entries, 0 to 394065\n",
      "Data columns (total 25 columns):\n",
      "primaryid           394066 non-null object\n",
      "caseid              394066 non-null object\n",
      "caseversion         394066 non-null int32\n",
      "i_f_code            394066 non-null object\n",
      "event_dt            205438 non-null object\n",
      "mfr_dt              370593 non-null object\n",
      "init_fda_dt         394066 non-null object\n",
      "fda_dt              394066 non-null object\n",
      "rept_cod            394066 non-null object\n",
      "auth_num            20168 non-null object\n",
      "mfr_num             370595 non-null object\n",
      "mfr_sndr            394065 non-null object\n",
      "lit_ref             23441 non-null object\n",
      "age                 235444 non-null float64\n",
      "age_cod             235452 non-null object\n",
      "age_grp             80189 non-null object\n",
      "sex                 347760 non-null object\n",
      "e_sub               394066 non-null object\n",
      "wt                  81142 non-null float64\n",
      "wt_cod              81142 non-null object\n",
      "rept_dt             393749 non-null object\n",
      "to_mfr              23479 non-null object\n",
      "occp_cod            387070 non-null object\n",
      "reporter_country    394066 non-null object\n",
      "occr_country        394053 non-null object\n",
      "dtypes: float64(2), int32(1), object(22)\n",
      "memory usage: 73.7+ MB\n"
     ]
    }
   ],
   "source": [
    "demo.info()"
   ]
  },
  {
   "cell_type": "markdown",
   "metadata": {},
   "source": [
    "The ASCIIs look easier to work with, and according to the documentation, most of the information they contain should be the same, although both file types contain some extra fields and miss some other fields.  \n",
    "\n",
    "Let's start with the ASCII files first, and add any supplemental info from XMLs later if needed."
   ]
  },
  {
   "cell_type": "markdown",
   "metadata": {},
   "source": [
    "#### 3.1 DEMO ASCII file  \n",
    "\n",
    "From above, the number of case reports in the 2018Q4 DEMO file is 394,066, which is consistent with the number supplied by FDA in the accompanying documentation."
   ]
  },
  {
   "cell_type": "markdown",
   "metadata": {},
   "source": [
    "##### Unique identifiers\n",
    "\n",
    "The `primaryid` field is the unique identifier for a current case report in the data, and it is a combination of `caseid` and `caseversion`."
   ]
  },
  {
   "cell_type": "code",
   "execution_count": 37,
   "metadata": {},
   "outputs": [
    {
     "data": {
      "text/plain": [
       "count        394066\n",
       "unique       394066\n",
       "top       154544191\n",
       "freq              1\n",
       "Name: primaryid, dtype: object"
      ]
     },
     "execution_count": 37,
     "metadata": {},
     "output_type": "execute_result"
    }
   ],
   "source": [
    "demo.primaryid.describe()"
   ]
  },
  {
   "cell_type": "markdown",
   "metadata": {},
   "source": [
    "The unique record identifier is indeed unique. Great."
   ]
  },
  {
   "cell_type": "code",
   "execution_count": 38,
   "metadata": {},
   "outputs": [
    {
     "data": {
      "text/plain": [
       "count       394066\n",
       "unique      394066\n",
       "top       14508418\n",
       "freq             1\n",
       "Name: caseid, dtype: object"
      ]
     },
     "execution_count": 38,
     "metadata": {},
     "output_type": "execute_result"
    }
   ],
   "source": [
    "demo.caseid.describe()"
   ]
  },
  {
   "cell_type": "code",
   "execution_count": 39,
   "metadata": {},
   "outputs": [
    {
     "data": {
      "text/plain": [
       "count   394066.00\n",
       "mean         1.67\n",
       "std          1.75\n",
       "min          1.00\n",
       "25%          1.00\n",
       "50%          1.00\n",
       "75%          2.00\n",
       "max         88.00\n",
       "Name: caseversion, dtype: float64"
      ]
     },
     "execution_count": 39,
     "metadata": {},
     "output_type": "execute_result"
    }
   ],
   "source": [
    "demo.caseversion.describe()"
   ]
  },
  {
   "cell_type": "code",
   "execution_count": 43,
   "metadata": {},
   "outputs": [
    {
     "data": {
      "text/html": [
       "<div>\n",
       "<style scoped>\n",
       "    .dataframe tbody tr th:only-of-type {\n",
       "        vertical-align: middle;\n",
       "    }\n",
       "\n",
       "    .dataframe tbody tr th {\n",
       "        vertical-align: top;\n",
       "    }\n",
       "\n",
       "    .dataframe thead th {\n",
       "        text-align: right;\n",
       "    }\n",
       "</style>\n",
       "<table border=\"1\" class=\"dataframe\">\n",
       "  <thead>\n",
       "    <tr style=\"text-align: right;\">\n",
       "      <th></th>\n",
       "      <th>primaryid</th>\n",
       "      <th>caseid</th>\n",
       "      <th>caseversion</th>\n",
       "    </tr>\n",
       "  </thead>\n",
       "  <tbody>\n",
       "    <tr>\n",
       "      <th>0</th>\n",
       "      <td>100035916</td>\n",
       "      <td>10003591</td>\n",
       "      <td>6</td>\n",
       "    </tr>\n",
       "    <tr>\n",
       "      <th>1</th>\n",
       "      <td>100050413</td>\n",
       "      <td>10005041</td>\n",
       "      <td>3</td>\n",
       "    </tr>\n",
       "    <tr>\n",
       "      <th>2</th>\n",
       "      <td>1000551312</td>\n",
       "      <td>10005513</td>\n",
       "      <td>12</td>\n",
       "    </tr>\n",
       "    <tr>\n",
       "      <th>3</th>\n",
       "      <td>100058832</td>\n",
       "      <td>10005883</td>\n",
       "      <td>2</td>\n",
       "    </tr>\n",
       "    <tr>\n",
       "      <th>4</th>\n",
       "      <td>100065479</td>\n",
       "      <td>10006547</td>\n",
       "      <td>9</td>\n",
       "    </tr>\n",
       "  </tbody>\n",
       "</table>\n",
       "</div>"
      ],
      "text/plain": [
       "    primaryid    caseid  caseversion\n",
       "0   100035916  10003591            6\n",
       "1   100050413  10005041            3\n",
       "2  1000551312  10005513           12\n",
       "3   100058832  10005883            2\n",
       "4   100065479  10006547            9"
      ]
     },
     "execution_count": 43,
     "metadata": {},
     "output_type": "execute_result"
    }
   ],
   "source": [
    "demo[[\"primaryid\", \"caseid\", \"caseversion\"]].head()"
   ]
  },
  {
   "cell_type": "markdown",
   "metadata": {},
   "source": [
    "##### Distribution of case version values"
   ]
  },
  {
   "cell_type": "code",
   "execution_count": 42,
   "metadata": {},
   "outputs": [
    {
     "data": {
      "text/plain": [
       "1     267661\n",
       "2      74684\n",
       "3      25090\n",
       "4      11270\n",
       "5       5559\n",
       "6       3129\n",
       "7       1857\n",
       "8       1261\n",
       "9        824\n",
       "10       570\n",
       "11       443\n",
       "12       342\n",
       "13       226\n",
       "14       177\n",
       "15       139\n",
       "16       117\n",
       "17       106\n",
       "18        71\n",
       "19        68\n",
       "21        58\n",
       "20        50\n",
       "22        34\n",
       "23        31\n",
       "26        31\n",
       "24        28\n",
       "       ...  \n",
       "36         5\n",
       "56         5\n",
       "48         4\n",
       "49         4\n",
       "53         4\n",
       "39         4\n",
       "37         4\n",
       "45         3\n",
       "54         3\n",
       "47         3\n",
       "42         3\n",
       "50         3\n",
       "43         3\n",
       "57         2\n",
       "55         2\n",
       "77         2\n",
       "52         2\n",
       "51         2\n",
       "44         2\n",
       "58         1\n",
       "59         1\n",
       "66         1\n",
       "68         1\n",
       "75         1\n",
       "88         1\n",
       "Name: caseversion, Length: 64, dtype: int64"
      ]
     },
     "execution_count": 42,
     "metadata": {},
     "output_type": "execute_result"
    }
   ],
   "source": [
    "demo.caseversion.value_counts()"
   ]
  },
  {
   "cell_type": "code",
   "execution_count": 173,
   "metadata": {},
   "outputs": [
    {
     "data": {
      "text/plain": [
       "1    0.68\n",
       "2    0.19\n",
       "3    0.06\n",
       "4    0.03\n",
       "5    0.01\n",
       "6    0.01\n",
       "7    0.00\n",
       "8    0.00\n",
       "9    0.00\n",
       "10   0.00\n",
       "Name: caseversion, dtype: float64"
      ]
     },
     "execution_count": 173,
     "metadata": {},
     "output_type": "execute_result"
    }
   ],
   "source": [
    "demo.caseversion.value_counts(normalize=True).head(10)"
   ]
  },
  {
   "cell_type": "markdown",
   "metadata": {},
   "source": [
    "The majority of most recent case version numbers are 1 (68%), 2 (19%) and 3 (6%), accounting for 93% of the cases. About 2% of all cases have most recent case version number that are above 6. The highest case version number is 88. No missing values. "
   ]
  },
  {
   "cell_type": "markdown",
   "metadata": {},
   "source": [
    "##### i_f_code  \n",
    "\n",
    "From documentation:\n",
    "> Code for initial or follow-up status of report, as reported\n",
    "by manufacturer.\n",
    ">\n",
    "> | CODE | MEANING_TEXT |\n",
    "| ---- |------------- |\n",
    "| I    | Initial      |\n",
    "| F    | Follow-up    |\n"
   ]
  },
  {
   "cell_type": "code",
   "execution_count": 110,
   "metadata": {},
   "outputs": [
    {
     "data": {
      "text/plain": [
       "count     394066\n",
       "unique         2\n",
       "top            I\n",
       "freq      267661\n",
       "Name: i_f_code, dtype: object"
      ]
     },
     "execution_count": 110,
     "metadata": {},
     "output_type": "execute_result"
    }
   ],
   "source": [
    "demo.i_f_code.describe()"
   ]
  },
  {
   "cell_type": "code",
   "execution_count": 104,
   "metadata": {},
   "outputs": [
    {
     "data": {
      "text/plain": [
       "I    267661\n",
       "F    126405\n",
       "Name: i_f_code, dtype: int64"
      ]
     },
     "execution_count": 104,
     "metadata": {},
     "output_type": "execute_result"
    }
   ],
   "source": [
    "demo.i_f_code.value_counts()"
   ]
  },
  {
   "cell_type": "code",
   "execution_count": 105,
   "metadata": {},
   "outputs": [
    {
     "data": {
      "text/plain": [
       "I   0.68\n",
       "F   0.32\n",
       "Name: i_f_code, dtype: float64"
      ]
     },
     "execution_count": 105,
     "metadata": {},
     "output_type": "execute_result"
    }
   ],
   "source": [
    "demo.i_f_code.value_counts(normalize=True)"
   ]
  },
  {
   "cell_type": "markdown",
   "metadata": {},
   "source": [
    "This is consistent with the 68% of records with caseversion=1 shown above. No missing values in this field."
   ]
  },
  {
   "cell_type": "markdown",
   "metadata": {},
   "source": [
    "##### event_dt\n",
    "\n",
    "From documentation:  \n",
    "\n",
    "> Date the adverse event occurred or began. (YYYYMMDD format) –\n",
    "If a complete date is not available, a partial date is\n",
    "provided."
   ]
  },
  {
   "cell_type": "code",
   "execution_count": 111,
   "metadata": {},
   "outputs": [
    {
     "data": {
      "text/plain": [
       "count     205438\n",
       "unique      4711\n",
       "top         2018\n",
       "freq       25293\n",
       "Name: event_dt, dtype: object"
      ]
     },
     "execution_count": 111,
     "metadata": {},
     "output_type": "execute_result"
    }
   ],
   "source": [
    "demo.event_dt.describe()"
   ]
  },
  {
   "cell_type": "code",
   "execution_count": 115,
   "metadata": {},
   "outputs": [
    {
     "data": {
      "text/plain": [
       "NaN         188628\n",
       "2018         25293\n",
       "201810        4210\n",
       "201809        4096\n",
       "2017          4057\n",
       "201808        3189\n",
       "201811        2739\n",
       "2016          2353\n",
       "201807        2290\n",
       "2015          1785\n",
       "201806        1751\n",
       "201805        1462\n",
       "201804        1266\n",
       "20181001      1235\n",
       "2014          1143\n",
       "201803        1123\n",
       "201801         993\n",
       "201802         947\n",
       "20181101       887\n",
       "20181002       879\n",
       "201712         866\n",
       "20181010       850\n",
       "20181015       836\n",
       "201812         822\n",
       "20181008       816\n",
       "             ...  \n",
       "19920610         1\n",
       "20061220         1\n",
       "20110221         1\n",
       "20070521         1\n",
       "20130615         1\n",
       "20111128         1\n",
       "20081214         1\n",
       "20090710         1\n",
       "20100719         1\n",
       "198804           1\n",
       "20100830         1\n",
       "20081129         1\n",
       "20081020         1\n",
       "200005           1\n",
       "20051108         1\n",
       "20080921         1\n",
       "20101125         1\n",
       "20091007         1\n",
       "20050119         1\n",
       "20080712         1\n",
       "20071122         1\n",
       "20040314         1\n",
       "19980826         1\n",
       "20001221         1\n",
       "20050511         1\n",
       "Name: event_dt, Length: 4712, dtype: int64"
      ]
     },
     "execution_count": 115,
     "metadata": {},
     "output_type": "execute_result"
    }
   ],
   "source": [
    "demo.event_dt.value_counts(dropna=False)"
   ]
  },
  {
   "cell_type": "code",
   "execution_count": 174,
   "metadata": {},
   "outputs": [
    {
     "data": {
      "text/plain": [
       "NaN        0.48\n",
       "2018       0.06\n",
       "201810     0.01\n",
       "201809     0.01\n",
       "2017       0.01\n",
       "201808     0.01\n",
       "201811     0.01\n",
       "2016       0.01\n",
       "201807     0.01\n",
       "2015       0.00\n",
       "201806     0.00\n",
       "201805     0.00\n",
       "201804     0.00\n",
       "20181001   0.00\n",
       "2014       0.00\n",
       "201803     0.00\n",
       "201801     0.00\n",
       "201802     0.00\n",
       "20181101   0.00\n",
       "20181002   0.00\n",
       "Name: event_dt, dtype: float64"
      ]
     },
     "execution_count": 174,
     "metadata": {},
     "output_type": "execute_result"
    }
   ],
   "source": [
    "demo.event_dt.value_counts(normalize=True, dropna=False).head(20)"
   ]
  },
  {
   "cell_type": "markdown",
   "metadata": {},
   "source": [
    "Nearly half of the adverse event cases do not have a date for when the adverse event occurred or began. The missing values count is consistent with the number provided by the FDA."
   ]
  },
  {
   "cell_type": "markdown",
   "metadata": {},
   "source": [
    "##### mfr_dt  \n",
    "\n",
    "From documentation:  \n",
    "\n",
    "> Date manufacturer first received initial information. In\n",
    "subsequent   versions of a case, the latest manufacturer\n",
    "received date will be   provided (YYYYMMDD format). If a\n",
    "complete date is not available, a   partial date will be\n",
    "provided."
   ]
  },
  {
   "cell_type": "code",
   "execution_count": 118,
   "metadata": {},
   "outputs": [
    {
     "data": {
      "text/plain": [
       "count       370593\n",
       "unique        2370\n",
       "top       20181210\n",
       "freq          6857\n",
       "Name: mfr_dt, dtype: object"
      ]
     },
     "execution_count": 118,
     "metadata": {},
     "output_type": "execute_result"
    }
   ],
   "source": [
    "demo.mfr_dt.describe()"
   ]
  },
  {
   "cell_type": "code",
   "execution_count": 119,
   "metadata": {},
   "outputs": [
    {
     "data": {
      "text/plain": [
       "NaN         23473\n",
       "20181210     6857\n",
       "20181203     5742\n",
       "20181029     5662\n",
       "20181126     5605\n",
       "20181211     5482\n",
       "20181001     5481\n",
       "20181009     5465\n",
       "20181217     5312\n",
       "20181022     5298\n",
       "20181212     5285\n",
       "20181015     5264\n",
       "20181127     5176\n",
       "20181119     5107\n",
       "20181003     5090\n",
       "20181214     5007\n",
       "20181112     5007\n",
       "20181204     4999\n",
       "20181105     4912\n",
       "20181008     4850\n",
       "20181023     4842\n",
       "20181128     4796\n",
       "20181106     4793\n",
       "20181120     4720\n",
       "20181024     4705\n",
       "            ...  \n",
       "20060831        1\n",
       "20080701        1\n",
       "20150222        1\n",
       "20160313        1\n",
       "20150115        1\n",
       "20080717        1\n",
       "20120516        1\n",
       "20160717        1\n",
       "20081114        1\n",
       "20130123        1\n",
       "20130711        1\n",
       "20081020        1\n",
       "20101025        1\n",
       "20151002        1\n",
       "20111110        1\n",
       "20100624        1\n",
       "20110302        1\n",
       "20110905        1\n",
       "20120316        1\n",
       "20071003        1\n",
       "20040312        1\n",
       "20021014        1\n",
       "20120731        1\n",
       "20131111        1\n",
       "20031024        1\n",
       "Name: mfr_dt, Length: 2371, dtype: int64"
      ]
     },
     "execution_count": 119,
     "metadata": {},
     "output_type": "execute_result"
    }
   ],
   "source": [
    "demo.mfr_dt.value_counts(dropna=False)"
   ]
  },
  {
   "cell_type": "code",
   "execution_count": 175,
   "metadata": {
    "scrolled": false
   },
   "outputs": [
    {
     "data": {
      "text/plain": [
       "NaN        0.06\n",
       "20181210   0.02\n",
       "20181203   0.01\n",
       "20181029   0.01\n",
       "20181126   0.01\n",
       "20181211   0.01\n",
       "20181001   0.01\n",
       "20181009   0.01\n",
       "20181217   0.01\n",
       "20181022   0.01\n",
       "20181212   0.01\n",
       "20181015   0.01\n",
       "20181127   0.01\n",
       "20181119   0.01\n",
       "20181003   0.01\n",
       "20181214   0.01\n",
       "20181112   0.01\n",
       "20181204   0.01\n",
       "20181105   0.01\n",
       "20181008   0.01\n",
       "Name: mfr_dt, dtype: float64"
      ]
     },
     "execution_count": 175,
     "metadata": {},
     "output_type": "execute_result"
    }
   ],
   "source": [
    "demo.mfr_dt.value_counts(normalize=True, dropna=False).head(20)"
   ]
  },
  {
   "cell_type": "markdown",
   "metadata": {},
   "source": [
    "There are 6% missing values for this field. The missing values count is consistent with the FDA number."
   ]
  },
  {
   "cell_type": "markdown",
   "metadata": {},
   "source": [
    "##### init_fda_dt  \n",
    "\n",
    "From documentation:\n",
    "\n",
    "> Date FDA received first version (Initial) of Case (YYYYMMDD format)"
   ]
  },
  {
   "cell_type": "code",
   "execution_count": 121,
   "metadata": {},
   "outputs": [
    {
     "data": {
      "text/plain": [
       "count       394066\n",
       "unique        2503\n",
       "top       20181016\n",
       "freq         11177\n",
       "Name: init_fda_dt, dtype: object"
      ]
     },
     "execution_count": 121,
     "metadata": {},
     "output_type": "execute_result"
    }
   ],
   "source": [
    "demo.init_fda_dt.describe()"
   ]
  },
  {
   "cell_type": "code",
   "execution_count": 123,
   "metadata": {},
   "outputs": [
    {
     "data": {
      "text/plain": [
       "20181016    11177\n",
       "20181017     7905\n",
       "20181018     6215\n",
       "20181217     6142\n",
       "20181120     6061\n",
       "20181129     5967\n",
       "20181015     5741\n",
       "20181010     5285\n",
       "20181116     5029\n",
       "20181102     5020\n",
       "20181001     4922\n",
       "20181022     4912\n",
       "20181205     4853\n",
       "20181221     4843\n",
       "20181113     4833\n",
       "20181128     4833\n",
       "20181011     4813\n",
       "20181029     4800\n",
       "20181213     4735\n",
       "20181003     4726\n",
       "20181219     4721\n",
       "20181206     4706\n",
       "20181126     4590\n",
       "20181009     4498\n",
       "20181228     4483\n",
       "            ...  \n",
       "20100422        1\n",
       "20030725        1\n",
       "20100723        1\n",
       "20130605        1\n",
       "20141005        1\n",
       "20110406        1\n",
       "20151122        1\n",
       "20121225        1\n",
       "20130224        1\n",
       "20050418        1\n",
       "20110111        1\n",
       "20060626        1\n",
       "20130513        1\n",
       "20110719        1\n",
       "20170916        1\n",
       "20110912        1\n",
       "20121210        1\n",
       "20091103        1\n",
       "20061220        1\n",
       "20110218        1\n",
       "20030428        1\n",
       "20130829        1\n",
       "20100716        1\n",
       "20150130        1\n",
       "20150919        1\n",
       "Name: init_fda_dt, Length: 2503, dtype: int64"
      ]
     },
     "execution_count": 123,
     "metadata": {},
     "output_type": "execute_result"
    }
   ],
   "source": [
    "demo.init_fda_dt.value_counts()"
   ]
  },
  {
   "cell_type": "code",
   "execution_count": 176,
   "metadata": {},
   "outputs": [
    {
     "data": {
      "text/plain": [
       "20181016   0.03\n",
       "20181017   0.02\n",
       "20181018   0.02\n",
       "20181217   0.02\n",
       "20181120   0.02\n",
       "20181129   0.02\n",
       "20181015   0.01\n",
       "20181010   0.01\n",
       "20181116   0.01\n",
       "20181102   0.01\n",
       "20181001   0.01\n",
       "20181022   0.01\n",
       "20181205   0.01\n",
       "20181221   0.01\n",
       "20181113   0.01\n",
       "20181128   0.01\n",
       "20181011   0.01\n",
       "20181029   0.01\n",
       "20181213   0.01\n",
       "20181003   0.01\n",
       "Name: init_fda_dt, dtype: float64"
      ]
     },
     "execution_count": 176,
     "metadata": {},
     "output_type": "execute_result"
    }
   ],
   "source": [
    "demo.init_fda_dt.value_counts(normalize=True).head(20)"
   ]
  },
  {
   "cell_type": "markdown",
   "metadata": {},
   "source": [
    "No missing values."
   ]
  },
  {
   "cell_type": "markdown",
   "metadata": {},
   "source": [
    "##### fda_dt  \n",
    "\n",
    "From documentation:  \n",
    "\n",
    "> Date FDA received Case. In subsequent versions of a case, the latest manufacturer received date will be provided (YYYYMMDD format)."
   ]
  },
  {
   "cell_type": "code",
   "execution_count": 125,
   "metadata": {},
   "outputs": [
    {
     "data": {
      "text/plain": [
       "count       394066\n",
       "unique         183\n",
       "top       20181016\n",
       "freq         12657\n",
       "Name: fda_dt, dtype: object"
      ]
     },
     "execution_count": 125,
     "metadata": {},
     "output_type": "execute_result"
    }
   ],
   "source": [
    "demo.fda_dt.describe()"
   ]
  },
  {
   "cell_type": "code",
   "execution_count": 127,
   "metadata": {},
   "outputs": [
    {
     "data": {
      "text/plain": [
       "20181016    12657\n",
       "20181017     9620\n",
       "20181217     8111\n",
       "20181129     7432\n",
       "20181120     7355\n",
       "20181018     7265\n",
       "20181227     6866\n",
       "20181221     6863\n",
       "20181015     6783\n",
       "20181228     6514\n",
       "20181219     6444\n",
       "20181218     6357\n",
       "20181213     6256\n",
       "20181206     6212\n",
       "20181205     6176\n",
       "20181010     6079\n",
       "20181116     6071\n",
       "20181126     6053\n",
       "20181102     5997\n",
       "20181220     5981\n",
       "20181128     5893\n",
       "20181210     5836\n",
       "20181029     5823\n",
       "20181113     5821\n",
       "20181022     5740\n",
       "            ...  \n",
       "20180704       13\n",
       "20180724       13\n",
       "20180703       13\n",
       "20180916       12\n",
       "20180729       11\n",
       "20180706       11\n",
       "20180805       11\n",
       "20180812        9\n",
       "20180922        9\n",
       "20180902        8\n",
       "20180705        8\n",
       "20180819        6\n",
       "20180825        6\n",
       "20180702        4\n",
       "20180923        3\n",
       "20180707        2\n",
       "20180908        2\n",
       "20180721        2\n",
       "20180708        1\n",
       "20180930        1\n",
       "20180112        1\n",
       "20180722        1\n",
       "20180826        1\n",
       "20180909        1\n",
       "20180714        1\n",
       "Name: fda_dt, Length: 183, dtype: int64"
      ]
     },
     "execution_count": 127,
     "metadata": {},
     "output_type": "execute_result"
    }
   ],
   "source": [
    "demo.fda_dt.value_counts()"
   ]
  },
  {
   "cell_type": "code",
   "execution_count": 177,
   "metadata": {},
   "outputs": [
    {
     "data": {
      "text/plain": [
       "20181016   0.03\n",
       "20181017   0.02\n",
       "20181217   0.02\n",
       "20181129   0.02\n",
       "20181120   0.02\n",
       "20181018   0.02\n",
       "20181227   0.02\n",
       "20181221   0.02\n",
       "20181015   0.02\n",
       "20181228   0.02\n",
       "20181219   0.02\n",
       "20181218   0.02\n",
       "20181213   0.02\n",
       "20181206   0.02\n",
       "20181205   0.02\n",
       "20181010   0.02\n",
       "20181116   0.02\n",
       "20181126   0.02\n",
       "20181102   0.02\n",
       "20181220   0.02\n",
       "Name: fda_dt, dtype: float64"
      ]
     },
     "execution_count": 177,
     "metadata": {},
     "output_type": "execute_result"
    }
   ],
   "source": [
    "demo.fda_dt.value_counts(normalize=True).head(20)"
   ]
  },
  {
   "cell_type": "markdown",
   "metadata": {},
   "source": [
    "No missing values, consistent with FDA number."
   ]
  },
  {
   "cell_type": "markdown",
   "metadata": {},
   "source": [
    "##### rept_cod  \n",
    "\n",
    "From documentation:  \n",
    "\n",
    "> Code for the type of report submitted (See table below)\n",
    "> \n",
    "> | CODE | MEANING_TEXT\n",
    "| ---- | ---------------\n",
    "| EXP  | Expedited (15-Day)\n",
    "| PER  | Periodic (Non-Expedited)\n",
    "| DIR  | Direct\n",
    ">\n",
    "> Expedited (15-day) and Periodic (Non-Expedited) reports are from manufacturers; \"Direct\" reports are voluntarily\n",
    "submitted to the FDA by non-manufacturers.\n",
    "\n",
    "\n",
    "\n"
   ]
  },
  {
   "cell_type": "code",
   "execution_count": 129,
   "metadata": {},
   "outputs": [
    {
     "data": {
      "text/plain": [
       "count     394066\n",
       "unique         3\n",
       "top          EXP\n",
       "freq      204438\n",
       "Name: rept_cod, dtype: object"
      ]
     },
     "execution_count": 129,
     "metadata": {},
     "output_type": "execute_result"
    }
   ],
   "source": [
    "demo.rept_cod.describe()"
   ]
  },
  {
   "cell_type": "code",
   "execution_count": 130,
   "metadata": {},
   "outputs": [
    {
     "data": {
      "text/plain": [
       "EXP    204438\n",
       "PER    166157\n",
       "DIR     23471\n",
       "Name: rept_cod, dtype: int64"
      ]
     },
     "execution_count": 130,
     "metadata": {},
     "output_type": "execute_result"
    }
   ],
   "source": [
    "demo.rept_cod.value_counts()"
   ]
  },
  {
   "cell_type": "code",
   "execution_count": 131,
   "metadata": {},
   "outputs": [
    {
     "data": {
      "text/plain": [
       "EXP   0.52\n",
       "PER   0.42\n",
       "DIR   0.06\n",
       "Name: rept_cod, dtype: float64"
      ]
     },
     "execution_count": 131,
     "metadata": {},
     "output_type": "execute_result"
    }
   ],
   "source": [
    "demo.rept_cod.value_counts(normalize=True)"
   ]
  },
  {
   "cell_type": "markdown",
   "metadata": {},
   "source": [
    "No missing values."
   ]
  },
  {
   "cell_type": "markdown",
   "metadata": {},
   "source": [
    "##### auth_num  \n",
    "\n",
    "From documentation:  \n",
    "\n",
    "> Regulatory Authority’s case report number, when available.  \n",
    "> \\* New tag added in 2014Q3 extract."
   ]
  },
  {
   "cell_type": "code",
   "execution_count": 132,
   "metadata": {},
   "outputs": [
    {
     "data": {
      "text/plain": [
       "count     20168\n",
       "unique    15597\n",
       "top        0000\n",
       "freq         14\n",
       "Name: auth_num, dtype: object"
      ]
     },
     "execution_count": 132,
     "metadata": {},
     "output_type": "execute_result"
    }
   ],
   "source": [
    "demo.auth_num.describe()"
   ]
  },
  {
   "cell_type": "code",
   "execution_count": 133,
   "metadata": {},
   "outputs": [
    {
     "data": {
      "text/plain": [
       "NaN                                                  373898\n",
       "0000                                                     14\n",
       "00                                                       11\n",
       "DE-CADRBFARM-2018025631                                  10\n",
       "GB-MHRA-EYC 00190348                                      9\n",
       "FR-AFSSAPS-TS20180923                                     8\n",
       "FR-AFSSAPS-CN20182166                                     8\n",
       "GB-MHRA-EYC 00188736                                      7\n",
       "GB-MHRA-ADR 22496422                                      7\n",
       "FR-AFSSAPS-AM20180734                                     7\n",
       "GB-MHRA-MIDB-95BC6E56-49F4-47C0-BD11-9D2E1A9707AE         7\n",
       "IT-MINISAL02-502630                                       7\n",
       "DE-BFARM-18013879                                         7\n",
       "FR-AFSSAPS-PV20180920                                     7\n",
       "FR-AFSSAPS-RN20181277                                     7\n",
       "FR-AFSSAPS-NT20181672                                     7\n",
       "FR-AFSSAPS-RN20181400                                     7\n",
       "FR-AFSSAPS-TS20181006                                     7\n",
       "FR-AFSSAPS-MP20182074                                     6\n",
       "GB-MHRA-ADR 24357577                                      6\n",
       "FR-AFSSAPS-RE20171657                                     6\n",
       "ES-AEMPS-403259                                           6\n",
       "NO-NOMAADVRE-PASRAPP-2018-0004423                         6\n",
       "GB-MHRA-ADR 24276291                                      6\n",
       "FR-AFSSAPS-TS20181075                                     6\n",
       "                                                      ...  \n",
       "FR-AFSSAPS-LY20181568                                     1\n",
       "FR-AFSSAPS-PC20180986                                     1\n",
       "463758                                                    1\n",
       "SE-MPA-2017-005777                                        1\n",
       "IT-MINISAL02-502104                                       1\n",
       "FR-AFSSAPS-GR20182180                                     1\n",
       "IE-HPRA-2018-039924                                       1\n",
       "FR-AFSSAPS-MP20182066                                     1\n",
       "GB-MHRA-TPP11324834C5867610YC1535805503047                1\n",
       "IT-MINISAL02-505050                                       1\n",
       "CZ-EMA-DD-20180717-KHAREEVHP-111759                       1\n",
       "DE-BFARM-10091759                                         1\n",
       "IT-MINISAL02-510091                                       1\n",
       "IT-MINISAL02-503493                                       1\n",
       "FR-AFSSAPS-CF20180257                                     1\n",
       "FR-AFSSAPS-PO20181017                                     1\n",
       "CZ-CZSUKL-18005407                                        1\n",
       "IT-MINISAL02-457146                                       1\n",
       "HR-HALMED-2018-03516                                      1\n",
       "ES-AEMPS-363730                                           1\n",
       "ES-AEMPS-320497                                           1\n",
       "FR-AFSSAPS-MA20182138                                     1\n",
       "ES-PFIZER INC-2018496570                                  1\n",
       "IT-MINISAL02-504397                                       1\n",
       "FR-AFSSAPS-TS20180105                                     1\n",
       "Name: auth_num, Length: 15598, dtype: int64"
      ]
     },
     "execution_count": 133,
     "metadata": {},
     "output_type": "execute_result"
    }
   ],
   "source": [
    "demo.auth_num.value_counts(dropna=False)"
   ]
  },
  {
   "cell_type": "code",
   "execution_count": 178,
   "metadata": {},
   "outputs": [
    {
     "data": {
      "text/plain": [
       "NaN                       0.95\n",
       "0000                      0.00\n",
       "00                        0.00\n",
       "DE-CADRBFARM-2018025631   0.00\n",
       "GB-MHRA-EYC 00190348      0.00\n",
       "FR-AFSSAPS-TS20180923     0.00\n",
       "FR-AFSSAPS-CN20182166     0.00\n",
       "GB-MHRA-EYC 00188736      0.00\n",
       "GB-MHRA-ADR 22496422      0.00\n",
       "FR-AFSSAPS-AM20180734     0.00\n",
       "Name: auth_num, dtype: float64"
      ]
     },
     "execution_count": 178,
     "metadata": {},
     "output_type": "execute_result"
    }
   ],
   "source": [
    "demo.auth_num.value_counts(normalize=True, dropna=False).head(10)"
   ]
  },
  {
   "cell_type": "markdown",
   "metadata": {},
   "source": [
    "Mostly missing values, with a couple of other values (like `00` ) that may be placeholders/defaults for missing values. "
   ]
  },
  {
   "cell_type": "markdown",
   "metadata": {},
   "source": [
    "##### mfr_num  \n",
    "\n",
    "From documentation:  \n",
    "\n",
    "> Manufacturer's unique report identifier."
   ]
  },
  {
   "cell_type": "code",
   "execution_count": 135,
   "metadata": {},
   "outputs": [
    {
     "data": {
      "text/plain": [
       "count               370595\n",
       "unique              370595\n",
       "top       PHJP2018JP021151\n",
       "freq                     1\n",
       "Name: mfr_num, dtype: object"
      ]
     },
     "execution_count": 135,
     "metadata": {},
     "output_type": "execute_result"
    }
   ],
   "source": [
    "demo.mfr_num.describe()"
   ]
  },
  {
   "cell_type": "code",
   "execution_count": 136,
   "metadata": {},
   "outputs": [
    {
     "data": {
      "text/plain": [
       "NaN                                                          23471\n",
       "US-ROCHE-2112065                                                 1\n",
       "PHHO2018CA011677                                                 1\n",
       "CL-PROVELL PHARMACEUTICALS-2056832                               1\n",
       "US-IGSA-SR10006388                                               1\n",
       "CN-ROCHE-2208075                                                 1\n",
       "PH-B.I. PHARMACEUTICALS,INC./RIDGEFIELD-2018-BI-049837           1\n",
       "US-AMGEN-USASP2018185967                                         1\n",
       "CA-ROCHE-2190755                                                 1\n",
       "PHHY2016IT042284                                                 1\n",
       "US-DSJP-DSU-2015-134280                                          1\n",
       "JP-BRISTOL-MYERS SQUIBB COMPANY-BMS-2018-033906                  1\n",
       "US-ENDO PHARMACEUTICALS INC-2017-006027                          1\n",
       "AU-GLAXOSMITHKLINE-AU2017GSK189294                               1\n",
       "JP-TEVA-201803_00001484                                          1\n",
       "GB-MYLANLABS-2018M1033191                                        1\n",
       "GB-ROCHE-1745069                                                 1\n",
       "FR-AXELLIA-002058                                                1\n",
       "US-AMGEN-USASL2018123116                                         1\n",
       "ES-ABBVIE-18P-144-2574070-00                                     1\n",
       "GB-ALKEM LABORATORIES LIMITED-US-ALKEM-2018-10797                1\n",
       "GB-TAKEDA-2017TJP026321                                          1\n",
       "ES-AUROBINDO-AUR-APL-2018-016782                                 1\n",
       "US-PFIZER INC-2017068616                                         1\n",
       "US-ELI_LILLY_AND_COMPANY-US201810005774                          1\n",
       "                                                             ...  \n",
       "JP-EISAI MEDICAL RESEARCH-EC-2018-043835                         1\n",
       "US-UCBSA-2018036796                                              1\n",
       "GB-TEVA-2018-GB-989310                                           1\n",
       "US-AMGEN-USASP2018164419                                         1\n",
       "AR-AMGEN-ARGSP2018169757                                         1\n",
       "PHHY2018CA113013                                                 1\n",
       "US-BAUSCH-BL-2018-031608                                         1\n",
       "US-AMGEN-USASP2018062926                                         1\n",
       "CZ-APOTEX-2018AP024000                                           1\n",
       "US-JNJFOC-20160302497                                            1\n",
       "JP-BAYER-2018-201864                                             1\n",
       "US-JNJFOC-20181221844                                            1\n",
       "DE-BIOGEN-2018BI00530293                                         1\n",
       "US-ELI_LILLY_AND_COMPANY-US201809010368                          1\n",
       "US-RECKITT BENCKISER HEALTHCARE INT LIMITED-RB-83333-2018        1\n",
       "CA-PFIZER INC-2018127858                                         1\n",
       "PHEH2018US051092                                                 1\n",
       "US-PFIZER INC-2018448153                                         1\n",
       "BR-LUPIN PHARMACEUTICALS INC.-2018-02774                         1\n",
       "US-JNJFOC-20181015781                                            1\n",
       "US-NODEN PHARMA DAC-NOD-2017-000109                              1\n",
       "JP-GLAXOSMITHKLINE-JP2018JPN170706                               1\n",
       "HU-ALLERGAN-1850828US                                            1\n",
       "PHEH2018US041451                                                 1\n",
       "JP-MYLANLABS-2018M1081711                                        1\n",
       "Name: mfr_num, Length: 370596, dtype: int64"
      ]
     },
     "execution_count": 136,
     "metadata": {},
     "output_type": "execute_result"
    }
   ],
   "source": [
    "demo.mfr_num.value_counts(dropna=False)"
   ]
  },
  {
   "cell_type": "code",
   "execution_count": 179,
   "metadata": {},
   "outputs": [
    {
     "data": {
      "text/plain": [
       "NaN                                                      0.06\n",
       "US-ROCHE-2112065                                         0.00\n",
       "PHHO2018CA011677                                         0.00\n",
       "CL-PROVELL PHARMACEUTICALS-2056832                       0.00\n",
       "US-IGSA-SR10006388                                       0.00\n",
       "CN-ROCHE-2208075                                         0.00\n",
       "PH-B.I. PHARMACEUTICALS,INC./RIDGEFIELD-2018-BI-049837   0.00\n",
       "US-AMGEN-USASP2018185967                                 0.00\n",
       "CA-ROCHE-2190755                                         0.00\n",
       "PHHY2016IT042284                                         0.00\n",
       "Name: mfr_num, dtype: float64"
      ]
     },
     "execution_count": 179,
     "metadata": {},
     "output_type": "execute_result"
    }
   ],
   "source": [
    "demo.mfr_num.value_counts(normalize=True, dropna=False).head(10)"
   ]
  },
  {
   "cell_type": "markdown",
   "metadata": {},
   "source": [
    "6% of values are missing, and the missing values count is consistent with the FDA number. The non-missing values are unique, as expected."
   ]
  },
  {
   "cell_type": "markdown",
   "metadata": {},
   "source": [
    "##### mfr_sndr  \n",
    "\n",
    "From documentation:  \n",
    "\n",
    "> Coded name of manufacturer sending report; if not found, then verbatim name of organization sending report."
   ]
  },
  {
   "cell_type": "code",
   "execution_count": 139,
   "metadata": {},
   "outputs": [
    {
     "data": {
      "text/plain": [
       "count     394065\n",
       "unique       471\n",
       "top       PFIZER\n",
       "freq       35409\n",
       "Name: mfr_sndr, dtype: object"
      ]
     },
     "execution_count": 139,
     "metadata": {},
     "output_type": "execute_result"
    }
   ],
   "source": [
    "demo.mfr_sndr.describe()"
   ]
  },
  {
   "cell_type": "code",
   "execution_count": 140,
   "metadata": {},
   "outputs": [
    {
     "data": {
      "text/plain": [
       "PFIZER                               35409\n",
       "AMGEN                                30828\n",
       "NOVARTIS                             25360\n",
       "FDA-CTU                              23470\n",
       "SANOFI AVENTIS                       18107\n",
       "JANSSEN                              14866\n",
       "CELGENE                              13511\n",
       "BRISTOL MYERS SQUIBB                 13442\n",
       "TEVA                                 12871\n",
       "ABBVIE                               11719\n",
       "ROCHE                                11304\n",
       "GLAXOSMITHKLINE                       9406\n",
       "SANDOZ                                9030\n",
       "MYLAN                                 7967\n",
       "ELI LILLY AND CO                      7273\n",
       "BIOGEN                                7030\n",
       "ASTRAZENECA                           6940\n",
       "MERCK                                 6872\n",
       "BAYER                                 6671\n",
       "AUROBINDO                             6130\n",
       "BOEHRINGER INGELHEIM                  4651\n",
       "GILEAD                                4591\n",
       "TAKEDA                                4040\n",
       "ACTELION                              3553\n",
       "JOHNSON AND JOHNSON                   3377\n",
       "                                     ...  \n",
       "GRAVITI PHARMACEUTICALS                  1\n",
       "GALEN                                    1\n",
       "YUNG SHIN PHARMACEUTICAL                 1\n",
       "SUVEN LIFE SCIENCES                      1\n",
       "ACCESS                                   1\n",
       "IONIS PHARMACEUTICALS                    1\n",
       "PHARMA RESEARCH SOFTWARE SOLUTION        1\n",
       "SHILPA MEDICARE                          1\n",
       "IGI LABORATORIES                         1\n",
       "GEMINI                                   1\n",
       "WESTWARD                                 1\n",
       "DANCO                                    1\n",
       "XIROMED                                  1\n",
       "LA JOLLA PHARMACEUTICAL COMPANY          1\n",
       "ORIT LAB                                 1\n",
       "PRAGMA PHARMACEUTICALS                   1\n",
       "HARRIS                                   1\n",
       "TARGET                                   1\n",
       "UMEDICA LABS                             1\n",
       "MANNKIND                                 1\n",
       "AAA PHARMA                               1\n",
       "TIME CAPS                                1\n",
       "KAMADA BIOPHARMACEUTICALS                1\n",
       "APRECIA PHARMACEUTICALS                  1\n",
       "NaN                                      1\n",
       "Name: mfr_sndr, Length: 472, dtype: int64"
      ]
     },
     "execution_count": 140,
     "metadata": {},
     "output_type": "execute_result"
    }
   ],
   "source": [
    "demo.mfr_sndr.value_counts(dropna=False)"
   ]
  },
  {
   "cell_type": "code",
   "execution_count": 180,
   "metadata": {},
   "outputs": [
    {
     "data": {
      "text/plain": [
       "PFIZER                 0.09\n",
       "AMGEN                  0.08\n",
       "NOVARTIS               0.06\n",
       "FDA-CTU                0.06\n",
       "SANOFI AVENTIS         0.05\n",
       "JANSSEN                0.04\n",
       "CELGENE                0.03\n",
       "BRISTOL MYERS SQUIBB   0.03\n",
       "TEVA                   0.03\n",
       "ABBVIE                 0.03\n",
       "ROCHE                  0.03\n",
       "GLAXOSMITHKLINE        0.02\n",
       "SANDOZ                 0.02\n",
       "MYLAN                  0.02\n",
       "ELI LILLY AND CO       0.02\n",
       "BIOGEN                 0.02\n",
       "ASTRAZENECA            0.02\n",
       "MERCK                  0.02\n",
       "BAYER                  0.02\n",
       "AUROBINDO              0.02\n",
       "Name: mfr_sndr, dtype: float64"
      ]
     },
     "execution_count": 180,
     "metadata": {},
     "output_type": "execute_result"
    }
   ],
   "source": [
    "demo.mfr_sndr.value_counts(normalize=True, dropna=False).head(20)"
   ]
  },
  {
   "cell_type": "code",
   "execution_count": 155,
   "metadata": {},
   "outputs": [
    {
     "data": {
      "text/plain": [
       "1"
      ]
     },
     "execution_count": 155,
     "metadata": {},
     "output_type": "execute_result"
    }
   ],
   "source": [
    "# count missing values\n",
    "demo.mfr_sndr.isna().sum()"
   ]
  },
  {
   "cell_type": "code",
   "execution_count": 156,
   "metadata": {},
   "outputs": [
    {
     "data": {
      "text/html": [
       "<div>\n",
       "<style scoped>\n",
       "    .dataframe tbody tr th:only-of-type {\n",
       "        vertical-align: middle;\n",
       "    }\n",
       "\n",
       "    .dataframe tbody tr th {\n",
       "        vertical-align: top;\n",
       "    }\n",
       "\n",
       "    .dataframe thead th {\n",
       "        text-align: right;\n",
       "    }\n",
       "</style>\n",
       "<table border=\"1\" class=\"dataframe\">\n",
       "  <thead>\n",
       "    <tr style=\"text-align: right;\">\n",
       "      <th></th>\n",
       "      <th>primaryid</th>\n",
       "      <th>caseid</th>\n",
       "      <th>caseversion</th>\n",
       "      <th>i_f_code</th>\n",
       "      <th>event_dt</th>\n",
       "      <th>mfr_dt</th>\n",
       "      <th>init_fda_dt</th>\n",
       "      <th>fda_dt</th>\n",
       "      <th>rept_cod</th>\n",
       "      <th>auth_num</th>\n",
       "      <th>mfr_num</th>\n",
       "      <th>mfr_sndr</th>\n",
       "      <th>lit_ref</th>\n",
       "      <th>age</th>\n",
       "      <th>age_cod</th>\n",
       "      <th>age_grp</th>\n",
       "      <th>sex</th>\n",
       "      <th>e_sub</th>\n",
       "      <th>wt</th>\n",
       "      <th>wt_cod</th>\n",
       "      <th>rept_dt</th>\n",
       "      <th>to_mfr</th>\n",
       "      <th>occp_cod</th>\n",
       "      <th>reporter_country</th>\n",
       "      <th>occr_country</th>\n",
       "    </tr>\n",
       "  </thead>\n",
       "  <tbody>\n",
       "    <tr>\n",
       "      <th>203873</th>\n",
       "      <td>155751552</td>\n",
       "      <td>15575155</td>\n",
       "      <td>2</td>\n",
       "      <td>F</td>\n",
       "      <td>NaN</td>\n",
       "      <td>NaN</td>\n",
       "      <td>20181026</td>\n",
       "      <td>20181026</td>\n",
       "      <td>DIR</td>\n",
       "      <td>NaN</td>\n",
       "      <td>NaN</td>\n",
       "      <td>NaN</td>\n",
       "      <td>NaN</td>\n",
       "      <td>71.00</td>\n",
       "      <td>YR</td>\n",
       "      <td>NaN</td>\n",
       "      <td>M</td>\n",
       "      <td>N</td>\n",
       "      <td>nan</td>\n",
       "      <td>NaN</td>\n",
       "      <td>20181025</td>\n",
       "      <td>N</td>\n",
       "      <td>OT</td>\n",
       "      <td>US</td>\n",
       "      <td>US</td>\n",
       "    </tr>\n",
       "  </tbody>\n",
       "</table>\n",
       "</div>"
      ],
      "text/plain": [
       "        primaryid    caseid  caseversion i_f_code event_dt mfr_dt init_fda_dt  \\\n",
       "203873  155751552  15575155            2        F      NaN    NaN    20181026   \n",
       "\n",
       "          fda_dt rept_cod auth_num mfr_num mfr_sndr lit_ref   age age_cod  \\\n",
       "203873  20181026      DIR      NaN     NaN      NaN     NaN 71.00      YR   \n",
       "\n",
       "       age_grp sex e_sub  wt wt_cod   rept_dt to_mfr occp_cod  \\\n",
       "203873     NaN   M     N nan    NaN  20181025      N       OT   \n",
       "\n",
       "       reporter_country occr_country  \n",
       "203873               US           US  "
      ]
     },
     "execution_count": 156,
     "metadata": {},
     "output_type": "execute_result"
    }
   ],
   "source": [
    "demo[demo.mfr_sndr.isna()]"
   ]
  },
  {
   "cell_type": "markdown",
   "metadata": {},
   "source": [
    "One missing value, consistent with the FDA number."
   ]
  },
  {
   "cell_type": "markdown",
   "metadata": {},
   "source": [
    "##### lit_ref  \n",
    "\n",
    "From documentation:  \n",
    "\n",
    "> Literature Reference information, when available; populated with last 500 characters if >500 characters are available.\n",
    ">\n",
    "> \\* New tag added in 2014Q3 extract."
   ]
  },
  {
   "cell_type": "code",
   "execution_count": 157,
   "metadata": {},
   "outputs": [
    {
     "data": {
      "text/plain": [
       "count                                                 23441\n",
       "unique                                                17759\n",
       "top       STACEY R, VERA T, MORGAN T, JORDAN J, WHITLOCK...\n",
       "freq                                                     79\n",
       "Name: lit_ref, dtype: object"
      ]
     },
     "execution_count": 157,
     "metadata": {},
     "output_type": "execute_result"
    }
   ],
   "source": [
    "demo.lit_ref.describe()"
   ]
  },
  {
   "cell_type": "code",
   "execution_count": 160,
   "metadata": {
    "scrolled": true
   },
   "outputs": [
    {
     "data": {
      "text/plain": [
       "NaN                                                                                                                                                                                                                                                                                                                                                                                                                                                                370625\n",
       "STACEY R, VERA T, MORGAN T, JORDAN J, WHITLOCK M, HALL M, VASU S, HAMILTON C, KITZMAN D, HUNDLEY W. ASYMPTOMATIC MYOCARDIAL ISCHEMIA FORECASTS ADVERSE EVENTS IN CARDIOVASCULAR MAGNETIC RESONANCE DOBUTAMINE STRESS TESTING OF HIGH-RISK MIDDLE-AGED AND ELDERLY INDIVIDUALS. JOURNAL OF CARDIOVASCULAR MAGNETIC RESONANCE. 2018;20(75):1-11.                                                                                                                         79\n",
       "DOI: 10.4081/NI.2018.7469#. LAPMAG A, LERTSINUDOM S, CHAIYAKAM A, SAWANYAWISUTH K, TIAMKAO S. CLINICAL OUTCOMES OF INTRAVENOUS LEVETIRACETAM TREATMENT IN PATIENTS WITH RENAL IMPAIRMENT. NEUROLOGY INTERNATIONAL. 2018;10(3):7469                                                                                                                                                                                                                                     71\n",
       "GLEESON M, PECKITT C, TO YM, EDWARDS L, OATES J, WOTHERSPOON A, ET AL.. CHOP VERSUS GEM-P IN PREVIOUSLY UNTREATED PATIENTS WITH PERIPHERAL T-CELL LYMPHOMA (CHEMO-T): A PHASE 2, MULTICENTRE, RANDOMISED, OPEN-LABEL TRIAL.. LANCET HAEMATOL. 2018;5(5):E190-E200                                                                                                                                                                                                      70\n",
       "NOT APPLICABLE                                                                                                                                                                                                                                                                                                                                                                                                                                                         61\n",
       "BISHOP-FREEMAN SC, HENSEL EM, FEASTER MS, WINECKER RE. DEGRADATION OF BUPROPION: IMPLICATIONS FOR INTERPRETATION OF POSTMORTEM CASE DATA. DOI: 10.1093/JAT/BKY058. JOURNAL OF ANALYTICAL TOXICOLOGY. 2018;42:525-536                                                                                                                                                                                                                                                   53\n",
       "GUMMIN, D.. 2016 ANNUAL REPORT OF THE AMERICAN ASSOCIATION OF POISON CONTROL CENTERS^ NATIONAL POISON DATA SYSTEM (NPDS): 34TH ANNUAL REPORT. CLINICAL TOXICOLOGY. 2017;55 (10):1072-1252                                                                                                                                                                                                                                                                              48\n",
       "STRUGOV V, STADNIK E, VIRTS Y, ANDREEVA T, ZARITSKEY A. IMPACT OF AGE AND COMORBIDITIES ON THE EFFICACY OF FC AND FCR REGIMENS IN CHRONIC LYMPHOCYTIC LEUKEMIA. ANN-HEMATOL 2018;97(11):2153-2161.                                                                                                                                                                                                                                                                     45\n",
       "DALKILIC E, COSKUN BN, YAGIZ B, TUFAN AN, ERMURAT S, PEHLIVAN Y. METHOTREXATE INTOXICATION: BEYOND THE ADVERSE EVENTS. INT-J-RHEUM-DISEASES 2018;21(8):1557-1562.                                                                                                                                                                                                                                                                                                      40\n",
       "JABEEN SA, GADDAMANUGU P, CHERIAN A, MRIDULA KR, KUMAR DU, MEENA AK. LEVETRIACETAM-ASSOCIATED PSYCHOGENIC NON-EPILEPTIC SEIZURES: A HIDDEN PARADOX. J POPUL THER CLIN PHARMACOL. 2018;25(2):E1-E11                                                                                                                                                                                                                                                                     38\n",
       "BROWN PR, SADIQ O, WEICK A, LENHART A, ELBATTA M, FERNANDEZ C ET AL.. ACUTE KIDNEY INJURY IN PATIENTS UNDERGOING CHRONIC HEPATITIS C VIRUS TREATMENT WITH LEDIPASVIR/SOFOSBUVIR. HEPATOLOGY COMMUNICATIONS. 2018;2(10):1172-1178/DOI10.1002/HEP4.1243                                                                                                                                                                                                                  38\n",
       "FARRUGIA LA, RHYEE SH, CAMPLEMAN SL, JUDGE B, KAO L, PIZON A, ET AL. THE TOXICOLOGY INVESTIGATORS CONSORTIUM CASE REGISTRY-THE 2017 ANNUAL REPORT. J-MED-TOXICOL. 2018;14(3):182-211                                                                                                                                                                                                                                                                                   37\n",
       "NGAI IM, VAN ARSDALE A, GOVINDAPPAGARI S, ET AL.. SKIN PREPARATION FOR PREVENTION OF SURGICAL SITE INFECTION AFTER CESAREAN DELIVERY A RANDOMIZED CONTROLLED TRIAL. OBSTET GYNECOL. 2015;126(6):1251-1257                                                                                                                                                                                                                                                              36\n",
       "COLE JB, ARENS AM, LAES JR, KLEIN LR, BANGH SA, OLIVES TD. HIGH DOSE INSULIN FOR BETA-BLOCKER AND CALCIUM CHANNEL-BLOCKER POISONING. AM-J-EMERG-MED 2018;36(10):1817-1824.                                                                                                                                                                                                                                                                                             35\n",
       "ALQUDAH A, MCKINLEY MC, MCNALLY R, GRAHAM U, ET AL.. RISK OF PRE-ECLAMPSIA IN WOMEN TAKING METFORMIN: A SYSTEMATIC REVIEW AND META-ANALYSIS. DIABETIC MEDICINE. 2018;35(2):160-172                                                                                                                                                                                                                                                                                     34\n",
       "RODDA LN, VOLK JA, MOFFAT E, WILLIAMS CM, LYNCH KL, WU AHB. EVALUATION OF INTRAOSSEOUS FLUID AS AN ALTERNATIVE BIOLOGICAL SPECIMEN IN POSTMORTEM TOXICOLOGY. J-ANAL-TOXICOL 2018;42(3):163-169.                                                                                                                                                                                                                                                                        33\n",
       "COLE J. HIGH DOSE INSULIN FOR BETA-BLOCKER AND CALCIUM CHANNEL-BLOCKER POISONING.                                                                                                                                                                                                                                                                                                                                                                                      33\n",
       "BISHOP-FREEMAN SC, HENSEL EM, FEASTER MS, WINECKER RE. DEGRADATION OF BUPROPION: IMPLICATIONS FOR INTERPRETATION OF POSTMORTEM CASE DATA. JOURNAL OF ANALYTICAL TOXICOLOGY. 2018;42(8):525-36                                                                                                                                                                                                                                                                          32\n",
       "BENESIC A, ROTTER I, DRAGOI D, WEBER S, BUCHHOLTZ M-L, GERBES AL. DEVELOPMENT AND VALIDATION OF A TEST TO IDENTIFY DRUGS THAT CAUSE IDIOSYNCRATIC DRUG-INDUCED LIVER INJURY. CLIN-GASTROENTEROL-HEPATOL 2018;16(9):1488-1494 E5.                                                                                                                                                                                                                                       30\n",
       "CARTER JD, LADHANI A, RICCA LR, VALERIANO J, VASEY FB. A SAFETY ASSESSMENT OF TUMOR NECROSIS FACTOR ANTAGONISTS DURING PREGNANCY: A REVIEW OF THE FOOD AND DRUG ADMINISTRATION DATABASE. JOURNAL OF RHEUMATOLOGY. 2009;36 (3):635-41                                                                                                                                                                                                                                   28\n",
       "FARRUGIA LA, RHYEE SH, CAMPLEMAN SL, JUDGE B, KAO L, PIZON A, ET AL. THE TOXICOLOGY INVESTIGATORS CONSORTIUM CASE REGISTRY-THE 2017 ANNUAL REPORT. J-MED-TOXICOL 2018;14(3):182-211.                                                                                                                                                                                                                                                                                   28\n",
       "DADABHAI S, GADAMA1 L, CHAMANGA R, KAWALAZIRA R, KATUMBR C, DULA D, SINGINJL I, DEGNAN L, KAMANGA M, TAHA T. PREGNANCY OUTCOMES IN THE ERA OF UNIVERSAL HAART IN AFRICA (THE POISE STUDY). IAS-USA TOPICS IN ANTIVIRAL MEDICINE. 2018;UNK:372. DOI:DOI: 10.1097/QAI.0000000000001875                                                                                                                                                                                   25\n",
       "HOHL M, BADKE K, ZHAO A, WICKHAM ME, WOO SA, SIVILOTTI MLA, PERRY JJ. PROSPECTIVE VALIDATION OF CLINICAL CRITERIA TO IDENTIFY EMERGENCY DEPARTMENT PATIENTS AT HIGH RISK FOR ADVERSE DRUG EVENTS. DOI: 10.1111/ACEM.13407. ACADEMIC EMERGENCY MEDICINE. 2018;25 (9):1015-1027                                                                                                                                                                                          24\n",
       "KUMAR B, STROUSE J, SWEE M, LENERT P, SUNEJA M. HYDRALAZINE-ASSOCIATED VASCULITIS: OVERLAPPING FEATURES OF DRUG-INDUCED LUPUS AND VASCULITIS. SEMIN-ARTHRITIS-RHEUM 2018;48(2):283-287.                                                                                                                                                                                                                                                                                24\n",
       "BRAWERMAN GM AND DOLINSKY VW.. THERAPIES FOR GESTATIONAL DIABETES AND THEIR IMPLICATIONS FOR MATERNAL AND OFFSPRING HEALTH: EVIDENCE FROM HUMAN AND ANIMAL STUDIES. PHARMACOLOGICAL RESEARCH.. 2018;1-22                                                                                                                                                                                                                                                               24\n",
       "                                                                                                                                                                                                                                                                                                                                                                                                                                                                    ...  \n",
       "REACTIONS WEEKLY-SPRINGER VOLUME 1724, ISSUE 1, P319 - OCTOBER 20, 2018 - SALBUTAMOL - STEVENS JOHNSON SYNDROME: CASE REPORT. SHARIFF, A., ET AL. STEVENS JOHNSON SYNDROME SECONDARY TO ISOLATED ALBUTEROL USE.                                                                                                                                                                                                                                                         1\n",
       "ANTELMI E., PIZZA F., VANDI S., FERRI R., LIGUORI R., PLAZZI G.. MOVEMENT DISORDERS DURING SLEEP IN CHILDREN WITH NARCOLEPSY TYPE-1 AFTER TREATMENT WITH SODIUM OXYBATE. 4TH CONGRESS OF THE EUROPEAN ACADEMY OF NEUROLOGY, (EAN). EUROPEAN JOURNAL OF NEUROLOGY. 2018;25:571                                                                                                                                                                                           1\n",
       "DEMIRAL Y. EMERGENCY DEPARTMENT VISITS CAUSED BY ADVERSE DRUG REACTIONS: RESULTS OF A TURKISH UNIVERSITY HOSPITAL.. TURKISH JOURNAL OF MEDICAL SCIENCES. 2016;46:945-52                                                                                                                                                                                                                                                                                                 1\n",
       "HARA T, YOSHIKAWA T, GOTO H, SAWADA M, YAMADA T, FUKUNO K, KASAHARA S, SHIBATA Y, MATSUMOTO T, MABUCHI R, NAKAMURA N, NAKAMURA H, NINOMIYA S, KITAGAWA J, KANEMURA N, NANNYA Y, KATSUMURA N, TAKAHASHI T,  KITO Y, TAKAMI T,  MIYAZAKI T ET AL R-THP-COP VERSUS R-CHOP IN PATIENTS YOUNGER THAN 70 YEARS WITH UNTREATED DIFFUSE LARGE B CELL LYMPHOMA: A RANDOMIZED, OPEN-LABEL, NONINFERIORITY PHASE 3 TRIAL . HEMATOLOGICAL ONCOLOGY 2018 OCT;36 (4):638-644.         1\n",
       "BATES J, ALLEN C, JOHNSON P.POSTERIOR REVERSIBLE ENCEPHALOPATHY SYNDROME SECONDARY TO ACUTE KIDNEY INJURY IN A CHILD RECEIVING VANCOMYCIN AND PIPERACILLIN/TAZOBACTAM..PEDIATRIC CRITICAL CARE MEDICINE.2018;19(6):175.                                                                                                                                                                                                                                                 1\n",
       "A. KIOUMI. BOOK OF ABSTRACTS OF SCIENTIFIC EVENT ORGANIZED BY LYMPHOPROLIFERATIVE DISEASES? DEPARTMENT, ACADEMY OF BLOOD DONATION. MACEDONIA-THRACE. 2018                                                                                                                                                                                                                                                                                                               1\n",
       "ARSHAD M, JAVED N, BEKHIT M. INTRACTABLE HYPEREMESIS GRAVIDARUM IN A PATIENT WITH TYPE 1 DIABETES. BMJ CASE REPORTS. 2017;1-4.                                                                                                                                                                                                                                                                                                                                          1\n",
       "LUPESCU IC, LUPESCU IG, DULAMEA AO.. ESTABLISHING THE CORRECT MANAGEMENT IN A PATIENT WITH MULTIPLE CRYPTOGENIC STROKES: ANTIPLATELET VS ANTICOAGULANT THERAPY.. ROMANIAN JOURNAL OF NEUROLOGY/REVISTA ROMANA DE NEUROLOGIE.. 2017;16(3):116-8                                                                                                                                                                                                                          1\n",
       "IESATO A, OBA T, ONO K, WATANABE T, ITO T, KANAI T. CASE OF PAINLESS THYROIDITIS THAT DEVELOPED DURING ADJUVANT CHEMOTHERAPY FOR BREAST CANCER. INTERNATIONAL CANCER CONFERENCE JOURNAL. 2017 OCT 01;6(4):184-187.                                                                                                                                                                                                                                                      1\n",
       "FAVIA G. MEDICATION-RELATED OSTEONECROSIS OF THE JAW AFTER ONCE-A-YEAR INTRAVENOUS ZOLEDRONIC ACID INFUSION FOR OSTEOPOROSIS: REPORT OF EIGHT CASES. QUINTESS-INT. 2016;47(5):433-440.                                                                                                                                                                                                                                                                                  1\n",
       "GUENTHER M, SULISTIO M, KHAN D. A CHALLENGING CASE OF DRESS WITH MYOCARDITIS. ANN ALLERGY ASTHMA IMMUNOL. 2018;121 (SUPPL)(5):S69                                                                                                                                                                                                                                                                                                                                       1\n",
       "SILVA J. ALLOGENEIC HEMATOPOIETIC STEM CELL TRANSPLANTATION FOR SEVERE REFRACTORY JUVENILE IDIOPATHIC ARTHRITIS.. BLOOD ADVANCES 2018;2(7):777-786.                                                                                                                                                                                                                                                                                                                     1\n",
       "OKUDAIRA A, KADONO T, ONODA K, ET AL.. A CASE OF CLASSIC KAPOSI^S SARCOMAS EXACERBATED WITH TREATMENT OF BEHCETS DISEASE. RINSHO DERMA. 2018 SEP 01;60 (10):1651-1654.                                                                                                                                                                                                                                                                                                  1\n",
       "KUNK PR, MOCK J, DEVITT ME, PALKIMAS S, SEN J, PORTELL CA, ET AL. MAJOR BLEEDING WITH IBRUTINIB: MORE THAN EXPECTED. BLOOD 58TH ANNUAL MEETING OF AMERICAN SOCIETY OF HEMATOLOGY, ASH 2016 2016;128 (22). MOCK J, KUNK PR, PALKIMAS S, SEN JM, DEVITT M, HORTON B, ET AL. RISK OF MAJOR BLEEDING WITH IBRUTINIB. CLINICAL LYMPHOMA, MYELOMA AND LEUKEMIA NOV-2018;18(11):755-761.                                                                                       1\n",
       "GRIGNANO E.; MEKINIAN A.; FAIN O.; DUBOURG O.; DHOTE R.. DRAMATIC EFFICACY OF INTRAVENOUS IMMUNOGLOBULINS IN DYSAUTONOMIC NEUROSARCOIDOSIS. JOURNAL OF CLINICAL NEUROSCIENCE.. 2013;20 (12):(PP 1807-1808)                                                                                                                                                                                                                                                              1\n",
       "KUTLU A, KARABACAK E, AYDIN  E, OZTURK  S, BOZKURT  B. A PATIENTS WITH STEROIDS AND ANTIHISTMINIC DRUG ALLERGY AND NEWLY OCCURRED CHRONIC URTICARIA ANGIOEDEMA: WHAT ABOUT OMALIZUMAB?. HUMAN AND EXPERIMENTAL TOXICOLOGY AUG-2014;33(8):882-885.                                                                                                                                                                                                                       1\n",
       "MIKUSKOVA E.. DOES THE RENAL TOXICITY OF ANTIMYCOTICS CURRENTLY STILL REPRESENT HIGH RISK FOR A PATIENT?. KOMPENDIUM MEDICINY.. 2018;29-33                                                                                                                                                                                                                                                                                                                              1\n",
       "LOMBARDI C, COTTINI M, PASSALACQUA G. FATAL ASTHMA AFTER OMALIZUMAB AND CONTROLLER THERAPY DISCONTINUATION.. EUROPEAN ANNALS OF ALLERGY AND CLINICAL IMMUNOLOGY. 2018;50(5):235-236.                                                                                                                                                                                                                                                                                    1\n",
       "ERCELIK M, ATAOGLU O, GULHAN PY, AYTEKIN F, ELVERISLI MF, ESBAH O ET AL. PACLITAXEL ASSOCIATED LUNG TOXICITY IN A PATIENT WITH INVASIVE UROTHELIAL CARCINOMA. RESPIRATORY CASE REPORTS. 2018;7(3):154-7                                                                                                                                                                                                                                                                 1\n",
       "DAS K, SINGH S, KALRA B, AGRAWAL N. OESOPHAGEAL NARROWING DURING COMBINATION CHEMOTHERAPY IN EWING^S SARCOMA: IS VINCRISTINE A CULPRIT?. BMJ-CASE-REP 2018;:.                                                                                                                                                                                                                                                                                                           1\n",
       "OHBA K, ET AL. EXPERIENCE OF IMMUNO-RELATED ADVERSE EVENTS (IRAE) DUE TO NIVOLUMAB. A STUDY GROPE AGAINST RENAL CANCER.. 2018;48:S-4                                                                                                                                                                                                                                                                                                                                    1\n",
       "STEFANIKOVA Z, MISTRIK M, BATOROVA A. FOUR YEAR CONTINUATION OF TREATMENT RESPONSE IN A PATIENT WITH ADVANCED MYELOMA - A CASE REPORT. ONKOLOGIA-SUPPLEMENT. 2018;13(S3):4-7.                                                                                                                                                                                                                                                                                           1\n",
       "RYGIELSKI S,AL-SARIE M,SAID AHMED T,HERNANDEZ D. TACROLIMUS AND MYCOPHENOLATE MOFETIL INDUCED PULMONARY HYPERTENSION IN A KIDNEY TRANSPLANT PATIENT. AMERICAN JOURNAL OF RESPIRATORY AND CRITICAL CARE MEDICINE 2018;197.                                                                                                                                                                                                                                               1\n",
       "SINGH S, ROY H, SINGH G, KHANDELWAL A. EARLY POSTOPERATIVE CARBAMAZEPINE-INDUCED TETANY IN A PATIENT WITH TRIGEMINAL NEURALGIA. J-ANAESTHESIOL-CLIN-PHARMACOL 2018;34(3):405-406.                                                                                                                                                                                                                                                                                       1\n",
       "MAEDA, H.. METHOTREXATE-ASSOCIATED LYPHOPROLIIFERATIVE DISORDERS: REPORT OF A CASE WITH EXTERNAL AUDITORY CANAL ORIGIN. JOURNAL OF JAPAN SOCIETY OF IMMUNOLOGY + ALLERGOLOGY IN OTOLARYNGOLOGY. 2018;36(3):245-250                                                                                                                                                                                                                                                      1\n",
       "Name: lit_ref, Length: 17760, dtype: int64"
      ]
     },
     "execution_count": 160,
     "metadata": {},
     "output_type": "execute_result"
    }
   ],
   "source": [
    "demo.lit_ref.value_counts(dropna=False)"
   ]
  },
  {
   "cell_type": "code",
   "execution_count": 181,
   "metadata": {},
   "outputs": [
    {
     "data": {
      "text/plain": [
       "NaN                                                                                                                                                                                                                                                                                                                                              0.94\n",
       "STACEY R, VERA T, MORGAN T, JORDAN J, WHITLOCK M, HALL M, VASU S, HAMILTON C, KITZMAN D, HUNDLEY W. ASYMPTOMATIC MYOCARDIAL ISCHEMIA FORECASTS ADVERSE EVENTS IN CARDIOVASCULAR MAGNETIC RESONANCE DOBUTAMINE STRESS TESTING OF HIGH-RISK MIDDLE-AGED AND ELDERLY INDIVIDUALS. JOURNAL OF CARDIOVASCULAR MAGNETIC RESONANCE. 2018;20(75):1-11.   0.00\n",
       "DOI: 10.4081/NI.2018.7469#. LAPMAG A, LERTSINUDOM S, CHAIYAKAM A, SAWANYAWISUTH K, TIAMKAO S. CLINICAL OUTCOMES OF INTRAVENOUS LEVETIRACETAM TREATMENT IN PATIENTS WITH RENAL IMPAIRMENT. NEUROLOGY INTERNATIONAL. 2018;10(3):7469                                                                                                               0.00\n",
       "GLEESON M, PECKITT C, TO YM, EDWARDS L, OATES J, WOTHERSPOON A, ET AL.. CHOP VERSUS GEM-P IN PREVIOUSLY UNTREATED PATIENTS WITH PERIPHERAL T-CELL LYMPHOMA (CHEMO-T): A PHASE 2, MULTICENTRE, RANDOMISED, OPEN-LABEL TRIAL.. LANCET HAEMATOL. 2018;5(5):E190-E200                                                                                0.00\n",
       "NOT APPLICABLE                                                                                                                                                                                                                                                                                                                                   0.00\n",
       "BISHOP-FREEMAN SC, HENSEL EM, FEASTER MS, WINECKER RE. DEGRADATION OF BUPROPION: IMPLICATIONS FOR INTERPRETATION OF POSTMORTEM CASE DATA. DOI: 10.1093/JAT/BKY058. JOURNAL OF ANALYTICAL TOXICOLOGY. 2018;42:525-536                                                                                                                             0.00\n",
       "GUMMIN, D.. 2016 ANNUAL REPORT OF THE AMERICAN ASSOCIATION OF POISON CONTROL CENTERS^ NATIONAL POISON DATA SYSTEM (NPDS): 34TH ANNUAL REPORT. CLINICAL TOXICOLOGY. 2017;55 (10):1072-1252                                                                                                                                                        0.00\n",
       "STRUGOV V, STADNIK E, VIRTS Y, ANDREEVA T, ZARITSKEY A. IMPACT OF AGE AND COMORBIDITIES ON THE EFFICACY OF FC AND FCR REGIMENS IN CHRONIC LYMPHOCYTIC LEUKEMIA. ANN-HEMATOL 2018;97(11):2153-2161.                                                                                                                                               0.00\n",
       "DALKILIC E, COSKUN BN, YAGIZ B, TUFAN AN, ERMURAT S, PEHLIVAN Y. METHOTREXATE INTOXICATION: BEYOND THE ADVERSE EVENTS. INT-J-RHEUM-DISEASES 2018;21(8):1557-1562.                                                                                                                                                                                0.00\n",
       "JABEEN SA, GADDAMANUGU P, CHERIAN A, MRIDULA KR, KUMAR DU, MEENA AK. LEVETRIACETAM-ASSOCIATED PSYCHOGENIC NON-EPILEPTIC SEIZURES: A HIDDEN PARADOX. J POPUL THER CLIN PHARMACOL. 2018;25(2):E1-E11                                                                                                                                               0.00\n",
       "Name: lit_ref, dtype: float64"
      ]
     },
     "execution_count": 181,
     "metadata": {},
     "output_type": "execute_result"
    }
   ],
   "source": [
    "demo.lit_ref.value_counts(normalize=True, dropna=False).head(10)"
   ]
  },
  {
   "cell_type": "markdown",
   "metadata": {},
   "source": [
    "94% of the values are missing."
   ]
  },
  {
   "cell_type": "markdown",
   "metadata": {},
   "source": [
    "##### age  \n",
    "\n",
    "From documentation:  \n",
    "\n",
    "> Numeric value of patient's age at event."
   ]
  },
  {
   "cell_type": "code",
   "execution_count": 162,
   "metadata": {},
   "outputs": [
    {
     "data": {
      "text/plain": [
       "count   235444.00\n",
       "mean       200.03\n",
       "std       1843.75\n",
       "min        -10.00\n",
       "25%         45.00\n",
       "50%         60.00\n",
       "75%         71.00\n",
       "max      34926.00\n",
       "Name: age, dtype: float64"
      ]
     },
     "execution_count": 162,
     "metadata": {},
     "output_type": "execute_result"
    }
   ],
   "source": [
    "demo.age.describe()"
   ]
  },
  {
   "cell_type": "code",
   "execution_count": 163,
   "metadata": {},
   "outputs": [
    {
     "data": {
      "text/plain": [
       "nan         158622\n",
       "70.00         5562\n",
       "65.00         5499\n",
       "63.00         5440\n",
       "60.00         5394\n",
       "68.00         5333\n",
       "64.00         5316\n",
       "62.00         5312\n",
       "67.00         5191\n",
       "69.00         5178\n",
       "61.00         5177\n",
       "66.00         5176\n",
       "71.00         5159\n",
       "59.00         4903\n",
       "58.00         4885\n",
       "56.00         4647\n",
       "57.00         4605\n",
       "55.00         4567\n",
       "72.00         4561\n",
       "75.00         4526\n",
       "74.00         4404\n",
       "73.00         4400\n",
       "54.00         4260\n",
       "76.00         3869\n",
       "53.00         3831\n",
       "             ...  \n",
       "25851.00         1\n",
       "25835.00         1\n",
       "12911.00         1\n",
       "25647.00         1\n",
       "12825.00         1\n",
       "25656.00         1\n",
       "25658.00         1\n",
       "25660.00         1\n",
       "25662.00         1\n",
       "656.00           1\n",
       "25667.00         1\n",
       "25680.00         1\n",
       "25694.00         1\n",
       "25706.00         1\n",
       "25728.00         1\n",
       "25731.00         1\n",
       "25751.00         1\n",
       "805.00           1\n",
       "25771.00         1\n",
       "25787.00         1\n",
       "25812.00         1\n",
       "25815.00         1\n",
       "25817.00         1\n",
       "25821.00         1\n",
       "24309.00         1\n",
       "Name: age, Length: 1810, dtype: int64"
      ]
     },
     "execution_count": 163,
     "metadata": {},
     "output_type": "execute_result"
    }
   ],
   "source": [
    "demo.age.value_counts(dropna=False)"
   ]
  },
  {
   "cell_type": "code",
   "execution_count": 172,
   "metadata": {},
   "outputs": [
    {
     "data": {
      "text/plain": [
       "nan     0.40\n",
       "70.00   0.01\n",
       "65.00   0.01\n",
       "63.00   0.01\n",
       "60.00   0.01\n",
       "68.00   0.01\n",
       "64.00   0.01\n",
       "62.00   0.01\n",
       "67.00   0.01\n",
       "69.00   0.01\n",
       "61.00   0.01\n",
       "66.00   0.01\n",
       "71.00   0.01\n",
       "59.00   0.01\n",
       "58.00   0.01\n",
       "56.00   0.01\n",
       "57.00   0.01\n",
       "55.00   0.01\n",
       "72.00   0.01\n",
       "75.00   0.01\n",
       "Name: age, dtype: float64"
      ]
     },
     "execution_count": 172,
     "metadata": {},
     "output_type": "execute_result"
    }
   ],
   "source": [
    "demo.age.value_counts(normalize=True, dropna=False).head(20)"
   ]
  },
  {
   "cell_type": "code",
   "execution_count": 183,
   "metadata": {},
   "outputs": [
    {
     "data": {
      "text/html": [
       "<div>\n",
       "<style scoped>\n",
       "    .dataframe tbody tr th:only-of-type {\n",
       "        vertical-align: middle;\n",
       "    }\n",
       "\n",
       "    .dataframe tbody tr th {\n",
       "        vertical-align: top;\n",
       "    }\n",
       "\n",
       "    .dataframe thead th {\n",
       "        text-align: right;\n",
       "    }\n",
       "</style>\n",
       "<table border=\"1\" class=\"dataframe\">\n",
       "  <thead>\n",
       "    <tr style=\"text-align: right;\">\n",
       "      <th></th>\n",
       "      <th>primaryid</th>\n",
       "      <th>caseid</th>\n",
       "      <th>caseversion</th>\n",
       "      <th>i_f_code</th>\n",
       "      <th>event_dt</th>\n",
       "      <th>mfr_dt</th>\n",
       "      <th>init_fda_dt</th>\n",
       "      <th>fda_dt</th>\n",
       "      <th>rept_cod</th>\n",
       "      <th>auth_num</th>\n",
       "      <th>mfr_num</th>\n",
       "      <th>mfr_sndr</th>\n",
       "      <th>lit_ref</th>\n",
       "      <th>age</th>\n",
       "      <th>age_cod</th>\n",
       "      <th>age_grp</th>\n",
       "      <th>sex</th>\n",
       "      <th>e_sub</th>\n",
       "      <th>wt</th>\n",
       "      <th>wt_cod</th>\n",
       "      <th>rept_dt</th>\n",
       "      <th>to_mfr</th>\n",
       "      <th>occp_cod</th>\n",
       "      <th>reporter_country</th>\n",
       "      <th>occr_country</th>\n",
       "    </tr>\n",
       "  </thead>\n",
       "  <tbody>\n",
       "    <tr>\n",
       "      <th>263592</th>\n",
       "      <td>156388221</td>\n",
       "      <td>15638822</td>\n",
       "      <td>1</td>\n",
       "      <td>I</td>\n",
       "      <td>20180429</td>\n",
       "      <td>20180508</td>\n",
       "      <td>20181120</td>\n",
       "      <td>20181120</td>\n",
       "      <td>PER</td>\n",
       "      <td>NaN</td>\n",
       "      <td>US-PERRIGO-18US005100</td>\n",
       "      <td>PERRIGO</td>\n",
       "      <td>NaN</td>\n",
       "      <td>-10.00</td>\n",
       "      <td>YR</td>\n",
       "      <td>NaN</td>\n",
       "      <td>F</td>\n",
       "      <td>Y</td>\n",
       "      <td>77.98</td>\n",
       "      <td>KG</td>\n",
       "      <td>20181120</td>\n",
       "      <td>NaN</td>\n",
       "      <td>CN</td>\n",
       "      <td>US</td>\n",
       "      <td>US</td>\n",
       "    </tr>\n",
       "  </tbody>\n",
       "</table>\n",
       "</div>"
      ],
      "text/plain": [
       "        primaryid    caseid  caseversion i_f_code  event_dt    mfr_dt  \\\n",
       "263592  156388221  15638822            1        I  20180429  20180508   \n",
       "\n",
       "       init_fda_dt    fda_dt rept_cod auth_num                mfr_num  \\\n",
       "263592    20181120  20181120      PER      NaN  US-PERRIGO-18US005100   \n",
       "\n",
       "       mfr_sndr lit_ref    age age_cod age_grp sex e_sub    wt wt_cod  \\\n",
       "263592  PERRIGO     NaN -10.00      YR     NaN   F     Y 77.98     KG   \n",
       "\n",
       "         rept_dt to_mfr occp_cod reporter_country occr_country  \n",
       "263592  20181120    NaN       CN               US           US  "
      ]
     },
     "execution_count": 183,
     "metadata": {},
     "output_type": "execute_result"
    }
   ],
   "source": [
    "demo[demo.age < 0]"
   ]
  },
  {
   "cell_type": "code",
   "execution_count": 188,
   "metadata": {},
   "outputs": [
    {
     "data": {
      "text/plain": [
       "2011"
      ]
     },
     "execution_count": 188,
     "metadata": {},
     "output_type": "execute_result"
    }
   ],
   "source": [
    "len(demo[demo.age > 100])"
   ]
  },
  {
   "cell_type": "code",
   "execution_count": 189,
   "metadata": {},
   "outputs": [
    {
     "data": {
      "text/html": [
       "<div>\n",
       "<style scoped>\n",
       "    .dataframe tbody tr th:only-of-type {\n",
       "        vertical-align: middle;\n",
       "    }\n",
       "\n",
       "    .dataframe tbody tr th {\n",
       "        vertical-align: top;\n",
       "    }\n",
       "\n",
       "    .dataframe thead th {\n",
       "        text-align: right;\n",
       "    }\n",
       "</style>\n",
       "<table border=\"1\" class=\"dataframe\">\n",
       "  <thead>\n",
       "    <tr style=\"text-align: right;\">\n",
       "      <th></th>\n",
       "      <th>primaryid</th>\n",
       "      <th>caseid</th>\n",
       "      <th>caseversion</th>\n",
       "      <th>i_f_code</th>\n",
       "      <th>event_dt</th>\n",
       "      <th>mfr_dt</th>\n",
       "      <th>init_fda_dt</th>\n",
       "      <th>fda_dt</th>\n",
       "      <th>rept_cod</th>\n",
       "      <th>auth_num</th>\n",
       "      <th>mfr_num</th>\n",
       "      <th>mfr_sndr</th>\n",
       "      <th>lit_ref</th>\n",
       "      <th>age</th>\n",
       "      <th>age_cod</th>\n",
       "      <th>age_grp</th>\n",
       "      <th>sex</th>\n",
       "      <th>e_sub</th>\n",
       "      <th>wt</th>\n",
       "      <th>wt_cod</th>\n",
       "      <th>rept_dt</th>\n",
       "      <th>to_mfr</th>\n",
       "      <th>occp_cod</th>\n",
       "      <th>reporter_country</th>\n",
       "      <th>occr_country</th>\n",
       "    </tr>\n",
       "  </thead>\n",
       "  <tbody>\n",
       "    <tr>\n",
       "      <th>532</th>\n",
       "      <td>104248582</td>\n",
       "      <td>10424858</td>\n",
       "      <td>2</td>\n",
       "      <td>F</td>\n",
       "      <td>201407</td>\n",
       "      <td>20181107</td>\n",
       "      <td>20140902</td>\n",
       "      <td>20181115</td>\n",
       "      <td>EXP</td>\n",
       "      <td>NaN</td>\n",
       "      <td>US-ASTRAZENECA-2014SE63425</td>\n",
       "      <td>ASTRAZENECA</td>\n",
       "      <td>NaN</td>\n",
       "      <td>552.00</td>\n",
       "      <td>MON</td>\n",
       "      <td>NaN</td>\n",
       "      <td>M</td>\n",
       "      <td>Y</td>\n",
       "      <td>79.40</td>\n",
       "      <td>KG</td>\n",
       "      <td>20181115</td>\n",
       "      <td>NaN</td>\n",
       "      <td>NaN</td>\n",
       "      <td>US</td>\n",
       "      <td>US</td>\n",
       "    </tr>\n",
       "    <tr>\n",
       "      <th>655</th>\n",
       "      <td>1050904010</td>\n",
       "      <td>10509040</td>\n",
       "      <td>10</td>\n",
       "      <td>F</td>\n",
       "      <td>2014</td>\n",
       "      <td>20181030</td>\n",
       "      <td>20141009</td>\n",
       "      <td>20181107</td>\n",
       "      <td>EXP</td>\n",
       "      <td>NaN</td>\n",
       "      <td>US-ASTRAZENECA-2014SE69488</td>\n",
       "      <td>ASTRAZENECA</td>\n",
       "      <td>NaN</td>\n",
       "      <td>801.00</td>\n",
       "      <td>MON</td>\n",
       "      <td>NaN</td>\n",
       "      <td>F</td>\n",
       "      <td>Y</td>\n",
       "      <td>50.30</td>\n",
       "      <td>KG</td>\n",
       "      <td>20181107</td>\n",
       "      <td>NaN</td>\n",
       "      <td>NaN</td>\n",
       "      <td>US</td>\n",
       "      <td>US</td>\n",
       "    </tr>\n",
       "    <tr>\n",
       "      <th>1075</th>\n",
       "      <td>107543802</td>\n",
       "      <td>10754380</td>\n",
       "      <td>2</td>\n",
       "      <td>F</td>\n",
       "      <td>201501</td>\n",
       "      <td>20181031</td>\n",
       "      <td>20150202</td>\n",
       "      <td>20181112</td>\n",
       "      <td>PER</td>\n",
       "      <td>NaN</td>\n",
       "      <td>US-ASTRAZENECA-2015SE07497</td>\n",
       "      <td>ASTRAZENECA</td>\n",
       "      <td>NaN</td>\n",
       "      <td>1023.00</td>\n",
       "      <td>MON</td>\n",
       "      <td>NaN</td>\n",
       "      <td>M</td>\n",
       "      <td>Y</td>\n",
       "      <td>65.80</td>\n",
       "      <td>KG</td>\n",
       "      <td>20181112</td>\n",
       "      <td>NaN</td>\n",
       "      <td>NaN</td>\n",
       "      <td>US</td>\n",
       "      <td>US</td>\n",
       "    </tr>\n",
       "    <tr>\n",
       "      <th>1211</th>\n",
       "      <td>108765514</td>\n",
       "      <td>10876551</td>\n",
       "      <td>4</td>\n",
       "      <td>F</td>\n",
       "      <td>20130401</td>\n",
       "      <td>20180919</td>\n",
       "      <td>20150301</td>\n",
       "      <td>20181019</td>\n",
       "      <td>PER</td>\n",
       "      <td>NaN</td>\n",
       "      <td>US-ASTRAZENECA-2013SE23016</td>\n",
       "      <td>ASTRAZENECA</td>\n",
       "      <td>NaN</td>\n",
       "      <td>25245.00</td>\n",
       "      <td>DY</td>\n",
       "      <td>NaN</td>\n",
       "      <td>F</td>\n",
       "      <td>Y</td>\n",
       "      <td>101.20</td>\n",
       "      <td>KG</td>\n",
       "      <td>20181019</td>\n",
       "      <td>NaN</td>\n",
       "      <td>NaN</td>\n",
       "      <td>US</td>\n",
       "      <td>US</td>\n",
       "    </tr>\n",
       "    <tr>\n",
       "      <th>1337</th>\n",
       "      <td>109705173</td>\n",
       "      <td>10970517</td>\n",
       "      <td>3</td>\n",
       "      <td>F</td>\n",
       "      <td>201411</td>\n",
       "      <td>20181119</td>\n",
       "      <td>20150331</td>\n",
       "      <td>20181122</td>\n",
       "      <td>EXP</td>\n",
       "      <td>NaN</td>\n",
       "      <td>US-ASTRAZENECA-2015SE28983</td>\n",
       "      <td>ASTRAZENECA</td>\n",
       "      <td>NaN</td>\n",
       "      <td>764.00</td>\n",
       "      <td>MON</td>\n",
       "      <td>NaN</td>\n",
       "      <td>F</td>\n",
       "      <td>Y</td>\n",
       "      <td>93.00</td>\n",
       "      <td>KG</td>\n",
       "      <td>20181122</td>\n",
       "      <td>NaN</td>\n",
       "      <td>NaN</td>\n",
       "      <td>US</td>\n",
       "      <td>US</td>\n",
       "    </tr>\n",
       "  </tbody>\n",
       "</table>\n",
       "</div>"
      ],
      "text/plain": [
       "       primaryid    caseid  caseversion i_f_code  event_dt    mfr_dt  \\\n",
       "532    104248582  10424858            2        F    201407  20181107   \n",
       "655   1050904010  10509040           10        F      2014  20181030   \n",
       "1075   107543802  10754380            2        F    201501  20181031   \n",
       "1211   108765514  10876551            4        F  20130401  20180919   \n",
       "1337   109705173  10970517            3        F    201411  20181119   \n",
       "\n",
       "     init_fda_dt    fda_dt rept_cod auth_num                     mfr_num  \\\n",
       "532     20140902  20181115      EXP      NaN  US-ASTRAZENECA-2014SE63425   \n",
       "655     20141009  20181107      EXP      NaN  US-ASTRAZENECA-2014SE69488   \n",
       "1075    20150202  20181112      PER      NaN  US-ASTRAZENECA-2015SE07497   \n",
       "1211    20150301  20181019      PER      NaN  US-ASTRAZENECA-2013SE23016   \n",
       "1337    20150331  20181122      EXP      NaN  US-ASTRAZENECA-2015SE28983   \n",
       "\n",
       "         mfr_sndr lit_ref      age age_cod age_grp sex e_sub     wt wt_cod  \\\n",
       "532   ASTRAZENECA     NaN   552.00     MON     NaN   M     Y  79.40     KG   \n",
       "655   ASTRAZENECA     NaN   801.00     MON     NaN   F     Y  50.30     KG   \n",
       "1075  ASTRAZENECA     NaN  1023.00     MON     NaN   M     Y  65.80     KG   \n",
       "1211  ASTRAZENECA     NaN 25245.00      DY     NaN   F     Y 101.20     KG   \n",
       "1337  ASTRAZENECA     NaN   764.00     MON     NaN   F     Y  93.00     KG   \n",
       "\n",
       "       rept_dt to_mfr occp_cod reporter_country occr_country  \n",
       "532   20181115    NaN      NaN               US           US  \n",
       "655   20181107    NaN      NaN               US           US  \n",
       "1075  20181112    NaN      NaN               US           US  \n",
       "1211  20181019    NaN      NaN               US           US  \n",
       "1337  20181122    NaN      NaN               US           US  "
      ]
     },
     "execution_count": 189,
     "metadata": {},
     "output_type": "execute_result"
    }
   ],
   "source": [
    "demo[demo.age > 100].head()"
   ]
  },
  {
   "cell_type": "markdown",
   "metadata": {},
   "source": [
    "Age is missing in 40% of the records. There is one record with a negative age value, which will need to be cleaned. Most of the greater than 100 age values are coded in some other increment than a year, e.g. a month or a day.  \n",
    "\n",
    "The missing values count is consistent with the FDA number."
   ]
  },
  {
   "cell_type": "markdown",
   "metadata": {},
   "source": [
    "##### age_cod  \n",
    "\n",
    "From documentation:  \n",
    "\n",
    "> Unit abbreviation for patient's age (See table below)  \n",
    ">\n",
    "> | CODE      | MEANING_TEXT\n",
    "| ----      | ------------\n",
    "| DEC       | DECADE\n",
    "| YR        | YEAR\n",
    "| MON       | MONTH\n",
    "| WK        | WEEK\n",
    "| DY        | DAY\n",
    "| HR        | HOUR"
   ]
  },
  {
   "cell_type": "code",
   "execution_count": 190,
   "metadata": {},
   "outputs": [
    {
     "data": {
      "text/plain": [
       "count     235452\n",
       "unique         6\n",
       "top           YR\n",
       "freq      230226\n",
       "Name: age_cod, dtype: object"
      ]
     },
     "execution_count": 190,
     "metadata": {},
     "output_type": "execute_result"
    }
   ],
   "source": [
    "demo.age_cod.describe()"
   ]
  },
  {
   "cell_type": "code",
   "execution_count": 191,
   "metadata": {},
   "outputs": [
    {
     "data": {
      "text/plain": [
       "YR     230226\n",
       "NaN    158614\n",
       "DY       1935\n",
       "DEC      1618\n",
       "MON      1536\n",
       "WK        127\n",
       "HR         10\n",
       "Name: age_cod, dtype: int64"
      ]
     },
     "execution_count": 191,
     "metadata": {},
     "output_type": "execute_result"
    }
   ],
   "source": [
    "demo.age_cod.value_counts(dropna=False)"
   ]
  },
  {
   "cell_type": "code",
   "execution_count": 192,
   "metadata": {},
   "outputs": [
    {
     "data": {
      "text/plain": [
       "YR    0.58\n",
       "NaN   0.40\n",
       "DY    0.00\n",
       "DEC   0.00\n",
       "MON   0.00\n",
       "WK    0.00\n",
       "HR    0.00\n",
       "Name: age_cod, dtype: float64"
      ]
     },
     "execution_count": 192,
     "metadata": {},
     "output_type": "execute_result"
    }
   ],
   "source": [
    "demo.age_cod.value_counts(normalize=True, dropna=False)"
   ]
  },
  {
   "cell_type": "code",
   "execution_count": 207,
   "metadata": {},
   "outputs": [
    {
     "data": {
      "text/html": [
       "<div>\n",
       "<style scoped>\n",
       "    .dataframe tbody tr th:only-of-type {\n",
       "        vertical-align: middle;\n",
       "    }\n",
       "\n",
       "    .dataframe tbody tr th {\n",
       "        vertical-align: top;\n",
       "    }\n",
       "\n",
       "    .dataframe thead th {\n",
       "        text-align: right;\n",
       "    }\n",
       "</style>\n",
       "<table border=\"1\" class=\"dataframe\">\n",
       "  <thead>\n",
       "    <tr style=\"text-align: right;\">\n",
       "      <th></th>\n",
       "      <th>primaryid</th>\n",
       "      <th>caseid</th>\n",
       "      <th>caseversion</th>\n",
       "      <th>i_f_code</th>\n",
       "      <th>event_dt</th>\n",
       "      <th>mfr_dt</th>\n",
       "      <th>init_fda_dt</th>\n",
       "      <th>fda_dt</th>\n",
       "      <th>rept_cod</th>\n",
       "      <th>auth_num</th>\n",
       "      <th>mfr_num</th>\n",
       "      <th>mfr_sndr</th>\n",
       "      <th>lit_ref</th>\n",
       "      <th>age</th>\n",
       "      <th>age_cod</th>\n",
       "      <th>age_grp</th>\n",
       "      <th>sex</th>\n",
       "      <th>e_sub</th>\n",
       "      <th>wt</th>\n",
       "      <th>wt_cod</th>\n",
       "      <th>rept_dt</th>\n",
       "      <th>to_mfr</th>\n",
       "      <th>occp_cod</th>\n",
       "      <th>reporter_country</th>\n",
       "      <th>occr_country</th>\n",
       "    </tr>\n",
       "  </thead>\n",
       "  <tbody>\n",
       "    <tr>\n",
       "      <th>119358</th>\n",
       "      <td>154870241</td>\n",
       "      <td>15487024</td>\n",
       "      <td>1</td>\n",
       "      <td>I</td>\n",
       "      <td>NaN</td>\n",
       "      <td>NaN</td>\n",
       "      <td>20181010</td>\n",
       "      <td>20181010</td>\n",
       "      <td>DIR</td>\n",
       "      <td>NaN</td>\n",
       "      <td>NaN</td>\n",
       "      <td>FDA-CTU</td>\n",
       "      <td>NaN</td>\n",
       "      <td>nan</td>\n",
       "      <td>YR</td>\n",
       "      <td>NaN</td>\n",
       "      <td>F</td>\n",
       "      <td>N</td>\n",
       "      <td>20.87</td>\n",
       "      <td>KG</td>\n",
       "      <td>20181010</td>\n",
       "      <td>N</td>\n",
       "      <td>CN</td>\n",
       "      <td>US</td>\n",
       "      <td>US</td>\n",
       "    </tr>\n",
       "    <tr>\n",
       "      <th>200400</th>\n",
       "      <td>155714611</td>\n",
       "      <td>15571461</td>\n",
       "      <td>1</td>\n",
       "      <td>I</td>\n",
       "      <td>20181016</td>\n",
       "      <td>NaN</td>\n",
       "      <td>20181030</td>\n",
       "      <td>20181030</td>\n",
       "      <td>DIR</td>\n",
       "      <td>NaN</td>\n",
       "      <td>NaN</td>\n",
       "      <td>FDA-CTU</td>\n",
       "      <td>NaN</td>\n",
       "      <td>nan</td>\n",
       "      <td>WK</td>\n",
       "      <td>NaN</td>\n",
       "      <td>M</td>\n",
       "      <td>N</td>\n",
       "      <td>3.13</td>\n",
       "      <td>KG</td>\n",
       "      <td>20181030</td>\n",
       "      <td>N</td>\n",
       "      <td>MD</td>\n",
       "      <td>US</td>\n",
       "      <td>US</td>\n",
       "    </tr>\n",
       "    <tr>\n",
       "      <th>234374</th>\n",
       "      <td>156076701</td>\n",
       "      <td>15607670</td>\n",
       "      <td>1</td>\n",
       "      <td>I</td>\n",
       "      <td>NaN</td>\n",
       "      <td>NaN</td>\n",
       "      <td>20181112</td>\n",
       "      <td>20181112</td>\n",
       "      <td>DIR</td>\n",
       "      <td>NaN</td>\n",
       "      <td>NaN</td>\n",
       "      <td>FDA-CTU</td>\n",
       "      <td>NaN</td>\n",
       "      <td>nan</td>\n",
       "      <td>YR</td>\n",
       "      <td>NaN</td>\n",
       "      <td>F</td>\n",
       "      <td>N</td>\n",
       "      <td>nan</td>\n",
       "      <td>NaN</td>\n",
       "      <td>20181112</td>\n",
       "      <td>N</td>\n",
       "      <td>NaN</td>\n",
       "      <td>US</td>\n",
       "      <td>US</td>\n",
       "    </tr>\n",
       "    <tr>\n",
       "      <th>281552</th>\n",
       "      <td>156581371</td>\n",
       "      <td>15658137</td>\n",
       "      <td>1</td>\n",
       "      <td>I</td>\n",
       "      <td>NaN</td>\n",
       "      <td>NaN</td>\n",
       "      <td>20181115</td>\n",
       "      <td>20181115</td>\n",
       "      <td>DIR</td>\n",
       "      <td>NaN</td>\n",
       "      <td>NaN</td>\n",
       "      <td>FDA-CTU</td>\n",
       "      <td>NaN</td>\n",
       "      <td>nan</td>\n",
       "      <td>DY</td>\n",
       "      <td>NaN</td>\n",
       "      <td>F</td>\n",
       "      <td>N</td>\n",
       "      <td>54.43</td>\n",
       "      <td>KG</td>\n",
       "      <td>20181114</td>\n",
       "      <td>N</td>\n",
       "      <td>OT</td>\n",
       "      <td>US</td>\n",
       "      <td>US</td>\n",
       "    </tr>\n",
       "    <tr>\n",
       "      <th>318373</th>\n",
       "      <td>156982451</td>\n",
       "      <td>15698245</td>\n",
       "      <td>1</td>\n",
       "      <td>I</td>\n",
       "      <td>20181109</td>\n",
       "      <td>NaN</td>\n",
       "      <td>20181126</td>\n",
       "      <td>20181126</td>\n",
       "      <td>DIR</td>\n",
       "      <td>NaN</td>\n",
       "      <td>NaN</td>\n",
       "      <td>FDA-CTU</td>\n",
       "      <td>NaN</td>\n",
       "      <td>nan</td>\n",
       "      <td>YR</td>\n",
       "      <td>NaN</td>\n",
       "      <td>M</td>\n",
       "      <td>N</td>\n",
       "      <td>nan</td>\n",
       "      <td>NaN</td>\n",
       "      <td>20181120</td>\n",
       "      <td>N</td>\n",
       "      <td>OT</td>\n",
       "      <td>US</td>\n",
       "      <td>US</td>\n",
       "    </tr>\n",
       "    <tr>\n",
       "      <th>322785</th>\n",
       "      <td>157031521</td>\n",
       "      <td>15703152</td>\n",
       "      <td>1</td>\n",
       "      <td>I</td>\n",
       "      <td>20180918</td>\n",
       "      <td>NaN</td>\n",
       "      <td>20181130</td>\n",
       "      <td>20181130</td>\n",
       "      <td>DIR</td>\n",
       "      <td>NaN</td>\n",
       "      <td>NaN</td>\n",
       "      <td>FDA-CTU</td>\n",
       "      <td>NaN</td>\n",
       "      <td>nan</td>\n",
       "      <td>YR</td>\n",
       "      <td>NaN</td>\n",
       "      <td>M</td>\n",
       "      <td>N</td>\n",
       "      <td>nan</td>\n",
       "      <td>NaN</td>\n",
       "      <td>20181130</td>\n",
       "      <td>N</td>\n",
       "      <td>PH</td>\n",
       "      <td>US</td>\n",
       "      <td>US</td>\n",
       "    </tr>\n",
       "    <tr>\n",
       "      <th>332043</th>\n",
       "      <td>157133731</td>\n",
       "      <td>15713373</td>\n",
       "      <td>1</td>\n",
       "      <td>I</td>\n",
       "      <td>20180524</td>\n",
       "      <td>NaN</td>\n",
       "      <td>20181129</td>\n",
       "      <td>20181129</td>\n",
       "      <td>DIR</td>\n",
       "      <td>NaN</td>\n",
       "      <td>NaN</td>\n",
       "      <td>FDA-CTU</td>\n",
       "      <td>NaN</td>\n",
       "      <td>nan</td>\n",
       "      <td>YR</td>\n",
       "      <td>NaN</td>\n",
       "      <td>NaN</td>\n",
       "      <td>N</td>\n",
       "      <td>85.55</td>\n",
       "      <td>KG</td>\n",
       "      <td>20180822</td>\n",
       "      <td>N</td>\n",
       "      <td>PH</td>\n",
       "      <td>US</td>\n",
       "      <td>US</td>\n",
       "    </tr>\n",
       "    <tr>\n",
       "      <th>382724</th>\n",
       "      <td>157711891</td>\n",
       "      <td>15771189</td>\n",
       "      <td>1</td>\n",
       "      <td>I</td>\n",
       "      <td>NaN</td>\n",
       "      <td>NaN</td>\n",
       "      <td>20181227</td>\n",
       "      <td>20181227</td>\n",
       "      <td>DIR</td>\n",
       "      <td>NaN</td>\n",
       "      <td>NaN</td>\n",
       "      <td>FDA-CTU</td>\n",
       "      <td>NaN</td>\n",
       "      <td>nan</td>\n",
       "      <td>YR</td>\n",
       "      <td>NaN</td>\n",
       "      <td>F</td>\n",
       "      <td>N</td>\n",
       "      <td>11.00</td>\n",
       "      <td>KG</td>\n",
       "      <td>20181227</td>\n",
       "      <td>N</td>\n",
       "      <td>NaN</td>\n",
       "      <td>US</td>\n",
       "      <td>US</td>\n",
       "    </tr>\n",
       "  </tbody>\n",
       "</table>\n",
       "</div>"
      ],
      "text/plain": [
       "        primaryid    caseid  caseversion i_f_code  event_dt mfr_dt  \\\n",
       "119358  154870241  15487024            1        I       NaN    NaN   \n",
       "200400  155714611  15571461            1        I  20181016    NaN   \n",
       "234374  156076701  15607670            1        I       NaN    NaN   \n",
       "281552  156581371  15658137            1        I       NaN    NaN   \n",
       "318373  156982451  15698245            1        I  20181109    NaN   \n",
       "322785  157031521  15703152            1        I  20180918    NaN   \n",
       "332043  157133731  15713373            1        I  20180524    NaN   \n",
       "382724  157711891  15771189            1        I       NaN    NaN   \n",
       "\n",
       "       init_fda_dt    fda_dt rept_cod auth_num mfr_num mfr_sndr lit_ref  age  \\\n",
       "119358    20181010  20181010      DIR      NaN     NaN  FDA-CTU     NaN  nan   \n",
       "200400    20181030  20181030      DIR      NaN     NaN  FDA-CTU     NaN  nan   \n",
       "234374    20181112  20181112      DIR      NaN     NaN  FDA-CTU     NaN  nan   \n",
       "281552    20181115  20181115      DIR      NaN     NaN  FDA-CTU     NaN  nan   \n",
       "318373    20181126  20181126      DIR      NaN     NaN  FDA-CTU     NaN  nan   \n",
       "322785    20181130  20181130      DIR      NaN     NaN  FDA-CTU     NaN  nan   \n",
       "332043    20181129  20181129      DIR      NaN     NaN  FDA-CTU     NaN  nan   \n",
       "382724    20181227  20181227      DIR      NaN     NaN  FDA-CTU     NaN  nan   \n",
       "\n",
       "       age_cod age_grp  sex e_sub    wt wt_cod   rept_dt to_mfr occp_cod  \\\n",
       "119358      YR     NaN    F     N 20.87     KG  20181010      N       CN   \n",
       "200400      WK     NaN    M     N  3.13     KG  20181030      N       MD   \n",
       "234374      YR     NaN    F     N   nan    NaN  20181112      N      NaN   \n",
       "281552      DY     NaN    F     N 54.43     KG  20181114      N       OT   \n",
       "318373      YR     NaN    M     N   nan    NaN  20181120      N       OT   \n",
       "322785      YR     NaN    M     N   nan    NaN  20181130      N       PH   \n",
       "332043      YR     NaN  NaN     N 85.55     KG  20180822      N       PH   \n",
       "382724      YR     NaN    F     N 11.00     KG  20181227      N      NaN   \n",
       "\n",
       "       reporter_country occr_country  \n",
       "119358               US           US  \n",
       "200400               US           US  \n",
       "234374               US           US  \n",
       "281552               US           US  \n",
       "318373               US           US  \n",
       "322785               US           US  \n",
       "332043               US           US  \n",
       "382724               US           US  "
      ]
     },
     "execution_count": 207,
     "metadata": {},
     "output_type": "execute_result"
    }
   ],
   "source": [
    "demo[(demo.age.isna()) & (demo.age_cod.notna())]"
   ]
  },
  {
   "cell_type": "code",
   "execution_count": 208,
   "metadata": {},
   "outputs": [
    {
     "data": {
      "text/plain": [
       "8"
      ]
     },
     "execution_count": 208,
     "metadata": {},
     "output_type": "execute_result"
    }
   ],
   "source": [
    "len(demo[(demo.age.isna()) & (demo.age_cod.notna())])"
   ]
  },
  {
   "cell_type": "code",
   "execution_count": 209,
   "metadata": {},
   "outputs": [
    {
     "data": {
      "text/html": [
       "<div>\n",
       "<style scoped>\n",
       "    .dataframe tbody tr th:only-of-type {\n",
       "        vertical-align: middle;\n",
       "    }\n",
       "\n",
       "    .dataframe tbody tr th {\n",
       "        vertical-align: top;\n",
       "    }\n",
       "\n",
       "    .dataframe thead th {\n",
       "        text-align: right;\n",
       "    }\n",
       "</style>\n",
       "<table border=\"1\" class=\"dataframe\">\n",
       "  <thead>\n",
       "    <tr style=\"text-align: right;\">\n",
       "      <th></th>\n",
       "      <th>primaryid</th>\n",
       "      <th>caseid</th>\n",
       "      <th>caseversion</th>\n",
       "      <th>i_f_code</th>\n",
       "      <th>event_dt</th>\n",
       "      <th>mfr_dt</th>\n",
       "      <th>init_fda_dt</th>\n",
       "      <th>fda_dt</th>\n",
       "      <th>rept_cod</th>\n",
       "      <th>auth_num</th>\n",
       "      <th>mfr_num</th>\n",
       "      <th>mfr_sndr</th>\n",
       "      <th>lit_ref</th>\n",
       "      <th>age</th>\n",
       "      <th>age_cod</th>\n",
       "      <th>age_grp</th>\n",
       "      <th>sex</th>\n",
       "      <th>e_sub</th>\n",
       "      <th>wt</th>\n",
       "      <th>wt_cod</th>\n",
       "      <th>rept_dt</th>\n",
       "      <th>to_mfr</th>\n",
       "      <th>occp_cod</th>\n",
       "      <th>reporter_country</th>\n",
       "      <th>occr_country</th>\n",
       "    </tr>\n",
       "  </thead>\n",
       "  <tbody>\n",
       "  </tbody>\n",
       "</table>\n",
       "</div>"
      ],
      "text/plain": [
       "Empty DataFrame\n",
       "Columns: [primaryid, caseid, caseversion, i_f_code, event_dt, mfr_dt, init_fda_dt, fda_dt, rept_cod, auth_num, mfr_num, mfr_sndr, lit_ref, age, age_cod, age_grp, sex, e_sub, wt, wt_cod, rept_dt, to_mfr, occp_cod, reporter_country, occr_country]\n",
       "Index: []"
      ]
     },
     "execution_count": 209,
     "metadata": {},
     "output_type": "execute_result"
    }
   ],
   "source": [
    "demo[(demo.age.notna()) & (demo.age_cod.isna())]"
   ]
  },
  {
   "cell_type": "markdown",
   "metadata": {},
   "source": [
    "This field is missing in 40% of the records, which matches the 40% of the records with missing age. Of the non-missing values, most of them are in years.  \n",
    "\n",
    "The missing values count is consistent with the FDA number."
   ]
  },
  {
   "cell_type": "markdown",
   "metadata": {},
   "source": [
    "##### age_grp  \n",
    "\n",
    "From documentation:  \n",
    "\n",
    "> Patient Age Group code as follows, when available:\n",
    ">\n",
    "> | CODE   | MEANING_TEXT\n",
    "| ----   | ------------\n",
    "|  N     |  Neonate\n",
    "|  I     |  Infant\n",
    "|  C     |  Child\n",
    "|  T     |  Adolescent\n",
    "|  A     |  Adult\n",
    "|  E     |  Elderly\n",
    ">\n",
    "> \\* New tag added in 2014Q3 extract."
   ]
  },
  {
   "cell_type": "code",
   "execution_count": 210,
   "metadata": {},
   "outputs": [
    {
     "data": {
      "text/plain": [
       "count     80189\n",
       "unique        6\n",
       "top           A\n",
       "freq      48200\n",
       "Name: age_grp, dtype: object"
      ]
     },
     "execution_count": 210,
     "metadata": {},
     "output_type": "execute_result"
    }
   ],
   "source": [
    "demo.age_grp.describe()"
   ]
  },
  {
   "cell_type": "code",
   "execution_count": 211,
   "metadata": {},
   "outputs": [
    {
     "data": {
      "text/plain": [
       "NaN    313877\n",
       "A       48200\n",
       "E       27869\n",
       "C        1547\n",
       "T        1129\n",
       "N         916\n",
       "I         528\n",
       "Name: age_grp, dtype: int64"
      ]
     },
     "execution_count": 211,
     "metadata": {},
     "output_type": "execute_result"
    }
   ],
   "source": [
    "demo.age_grp.value_counts(dropna=False)"
   ]
  },
  {
   "cell_type": "code",
   "execution_count": 212,
   "metadata": {},
   "outputs": [
    {
     "data": {
      "text/plain": [
       "NaN   0.80\n",
       "A     0.12\n",
       "E     0.07\n",
       "C     0.00\n",
       "T     0.00\n",
       "N     0.00\n",
       "I     0.00\n",
       "Name: age_grp, dtype: float64"
      ]
     },
     "execution_count": 212,
     "metadata": {},
     "output_type": "execute_result"
    }
   ],
   "source": [
    "demo.age_grp.value_counts(normalize=True, dropna=False)"
   ]
  },
  {
   "cell_type": "markdown",
   "metadata": {},
   "source": [
    "80% of the values are missing, compared to the 40% missing age values. The missing value counts are consistent with the FDA number."
   ]
  },
  {
   "cell_type": "markdown",
   "metadata": {},
   "source": [
    "##### sex  \n",
    "\n",
    "From documentation:  \n",
    "\n",
    "> Code for patient's sex (See table below)  \n",
    ">\n",
    "> | CODE      | MEANING_TEXT\n",
    "| ----      | ------------\n",
    "| UNK       | Unknown\n",
    "| M         | Male\n",
    "| F | Female"
   ]
  },
  {
   "cell_type": "code",
   "execution_count": 213,
   "metadata": {},
   "outputs": [
    {
     "data": {
      "text/plain": [
       "count     347760\n",
       "unique         3\n",
       "top            F\n",
       "freq      212580\n",
       "Name: sex, dtype: object"
      ]
     },
     "execution_count": 213,
     "metadata": {},
     "output_type": "execute_result"
    }
   ],
   "source": [
    "demo.sex.describe()"
   ]
  },
  {
   "cell_type": "code",
   "execution_count": 214,
   "metadata": {},
   "outputs": [
    {
     "data": {
      "text/plain": [
       "F      212580\n",
       "M      135150\n",
       "NaN     46306\n",
       "UNK        30\n",
       "Name: sex, dtype: int64"
      ]
     },
     "execution_count": 214,
     "metadata": {},
     "output_type": "execute_result"
    }
   ],
   "source": [
    "demo.sex.value_counts(dropna=False)"
   ]
  },
  {
   "cell_type": "code",
   "execution_count": 215,
   "metadata": {},
   "outputs": [
    {
     "data": {
      "text/plain": [
       "F     0.54\n",
       "M     0.34\n",
       "NaN   0.12\n",
       "UNK   0.00\n",
       "Name: sex, dtype: float64"
      ]
     },
     "execution_count": 215,
     "metadata": {},
     "output_type": "execute_result"
    }
   ],
   "source": [
    "demo.sex.value_counts(normalize=True, dropna=False)"
   ]
  },
  {
   "cell_type": "markdown",
   "metadata": {},
   "source": [
    "12% missing values. The frequency counts and percentages are consistent with the FDA numbers."
   ]
  },
  {
   "cell_type": "markdown",
   "metadata": {},
   "source": [
    "##### e_sub  \n",
    "\n",
    "From documentation:  \n",
    "\n",
    "> Whether (Y/N) this report was submitted under the electronic submissions procedure for manufacturers."
   ]
  },
  {
   "cell_type": "code",
   "execution_count": 216,
   "metadata": {},
   "outputs": [
    {
     "data": {
      "text/plain": [
       "count     394066\n",
       "unique         2\n",
       "top            Y\n",
       "freq      370587\n",
       "Name: e_sub, dtype: object"
      ]
     },
     "execution_count": 216,
     "metadata": {},
     "output_type": "execute_result"
    }
   ],
   "source": [
    "demo.e_sub.describe()"
   ]
  },
  {
   "cell_type": "code",
   "execution_count": 218,
   "metadata": {},
   "outputs": [
    {
     "data": {
      "text/plain": [
       "Y    370587\n",
       "N     23479\n",
       "Name: e_sub, dtype: int64"
      ]
     },
     "execution_count": 218,
     "metadata": {},
     "output_type": "execute_result"
    }
   ],
   "source": [
    "demo.e_sub.value_counts(dropna=False)"
   ]
  },
  {
   "cell_type": "code",
   "execution_count": 219,
   "metadata": {},
   "outputs": [
    {
     "data": {
      "text/plain": [
       "Y   0.94\n",
       "N   0.06\n",
       "Name: e_sub, dtype: float64"
      ]
     },
     "execution_count": 219,
     "metadata": {},
     "output_type": "execute_result"
    }
   ],
   "source": [
    "demo.e_sub.value_counts(normalize=True, dropna=False)"
   ]
  },
  {
   "cell_type": "markdown",
   "metadata": {},
   "source": [
    "No missing values. The frequency counts are consistent with the FDA numbers."
   ]
  },
  {
   "cell_type": "markdown",
   "metadata": {},
   "source": [
    "##### wt  \n",
    "\n",
    "From documentation:  \n",
    "\n",
    "> Numeric value of patient's weight."
   ]
  },
  {
   "cell_type": "code",
   "execution_count": 220,
   "metadata": {},
   "outputs": [
    {
     "data": {
      "text/plain": [
       "count   81142.00\n",
       "mean       75.17\n",
       "std        29.24\n",
       "min         0.00\n",
       "25%        59.87\n",
       "50%        72.58\n",
       "75%        88.45\n",
       "max      2890.00\n",
       "Name: wt, dtype: float64"
      ]
     },
     "execution_count": 220,
     "metadata": {},
     "output_type": "execute_result"
    }
   ],
   "source": [
    "demo.wt.describe()"
   ]
  },
  {
   "cell_type": "code",
   "execution_count": 221,
   "metadata": {},
   "outputs": [
    {
     "data": {
      "text/plain": [
       "nan       312924\n",
       "70.00       1404\n",
       "60.00       1343\n",
       "65.00       1094\n",
       "68.00       1039\n",
       "80.00        990\n",
       "75.00        949\n",
       "90.00        844\n",
       "63.00        834\n",
       "72.00        803\n",
       "50.00        802\n",
       "73.00        741\n",
       "64.00        726\n",
       "55.00        707\n",
       "62.00        699\n",
       "82.00        685\n",
       "58.00        674\n",
       "54.00        657\n",
       "59.00        652\n",
       "74.00        648\n",
       "85.00        635\n",
       "57.00        617\n",
       "67.00        613\n",
       "61.00        610\n",
       "77.00        608\n",
       "           ...  \n",
       "83.07          1\n",
       "26.45          1\n",
       "165.60         1\n",
       "3.06           1\n",
       "23.80          1\n",
       "158.75         1\n",
       "121.05         1\n",
       "66.33          1\n",
       "204.30         1\n",
       "92.89          1\n",
       "433.00         1\n",
       "74.37          1\n",
       "40.65          1\n",
       "14.05          1\n",
       "8.16           1\n",
       "69.48          1\n",
       "1.74           1\n",
       "48.18          1\n",
       "56.29          1\n",
       "5.27           1\n",
       "22.80          1\n",
       "22.25          1\n",
       "1.67           1\n",
       "46.81          1\n",
       "54.11          1\n",
       "Name: wt, Length: 3961, dtype: int64"
      ]
     },
     "execution_count": 221,
     "metadata": {},
     "output_type": "execute_result"
    }
   ],
   "source": [
    "demo.wt.value_counts(dropna=False)"
   ]
  },
  {
   "cell_type": "code",
   "execution_count": 222,
   "metadata": {},
   "outputs": [
    {
     "data": {
      "text/plain": [
       "nan     0.79\n",
       "70.00   0.00\n",
       "60.00   0.00\n",
       "65.00   0.00\n",
       "68.00   0.00\n",
       "80.00   0.00\n",
       "75.00   0.00\n",
       "90.00   0.00\n",
       "63.00   0.00\n",
       "72.00   0.00\n",
       "50.00   0.00\n",
       "73.00   0.00\n",
       "64.00   0.00\n",
       "55.00   0.00\n",
       "62.00   0.00\n",
       "82.00   0.00\n",
       "58.00   0.00\n",
       "54.00   0.00\n",
       "59.00   0.00\n",
       "74.00   0.00\n",
       "Name: wt, dtype: float64"
      ]
     },
     "execution_count": 222,
     "metadata": {},
     "output_type": "execute_result"
    }
   ],
   "source": [
    "demo.wt.value_counts(normalize=True, dropna=False).head(20)"
   ]
  },
  {
   "cell_type": "markdown",
   "metadata": {},
   "source": [
    "79% missing values. Missing value counts are consistent with the FDA number."
   ]
  },
  {
   "cell_type": "markdown",
   "metadata": {},
   "source": [
    "##### wt_cod  \n",
    "\n",
    "From documentation:  \n",
    "\n",
    "> Unit abbreviation for patient's weight (See table below)  \n",
    ">\n",
    "> | CODE     | MEANING_TEXT\n",
    "| ----     | ------------\n",
    "| KG       |  Kilograms\n",
    "| LBS      |  Pounds\n",
    "| GMS |  Grams"
   ]
  },
  {
   "cell_type": "code",
   "execution_count": 223,
   "metadata": {},
   "outputs": [
    {
     "data": {
      "text/plain": [
       "count     81142\n",
       "unique        2\n",
       "top          KG\n",
       "freq      80809\n",
       "Name: wt_cod, dtype: object"
      ]
     },
     "execution_count": 223,
     "metadata": {},
     "output_type": "execute_result"
    }
   ],
   "source": [
    "demo.wt_cod.describe()"
   ]
  },
  {
   "cell_type": "code",
   "execution_count": 224,
   "metadata": {},
   "outputs": [
    {
     "data": {
      "text/plain": [
       "NaN    312924\n",
       "KG      80809\n",
       "LBS       333\n",
       "Name: wt_cod, dtype: int64"
      ]
     },
     "execution_count": 224,
     "metadata": {},
     "output_type": "execute_result"
    }
   ],
   "source": [
    "demo.wt_cod.value_counts(dropna=False)"
   ]
  },
  {
   "cell_type": "code",
   "execution_count": 225,
   "metadata": {},
   "outputs": [
    {
     "data": {
      "text/plain": [
       "NaN   0.79\n",
       "KG    0.21\n",
       "LBS   0.00\n",
       "Name: wt_cod, dtype: float64"
      ]
     },
     "execution_count": 225,
     "metadata": {},
     "output_type": "execute_result"
    }
   ],
   "source": [
    "demo.wt_cod.value_counts(normalize=True, dropna=False)"
   ]
  },
  {
   "cell_type": "markdown",
   "metadata": {},
   "source": [
    "79% missing values, consistent with the 79% missing weight values.  \n",
    "Missing value counts are consistent with the FDA number."
   ]
  },
  {
   "cell_type": "markdown",
   "metadata": {},
   "source": [
    "##### rept_dt  \n",
    "\n",
    "From documentation:  \n",
    "\n",
    "> Date report was sent (YYYYMMDD format). If a complete date is not available, a partial date is provided. "
   ]
  },
  {
   "cell_type": "code",
   "execution_count": 226,
   "metadata": {},
   "outputs": [
    {
     "data": {
      "text/plain": [
       "count       393749\n",
       "unique         351\n",
       "top       20181016\n",
       "freq         11312\n",
       "Name: rept_dt, dtype: object"
      ]
     },
     "execution_count": 226,
     "metadata": {},
     "output_type": "execute_result"
    }
   ],
   "source": [
    "demo.rept_dt.describe()"
   ]
  },
  {
   "cell_type": "code",
   "execution_count": 227,
   "metadata": {},
   "outputs": [
    {
     "data": {
      "text/plain": [
       "20181016    11312\n",
       "20181017     9311\n",
       "20181015     7918\n",
       "20181018     7689\n",
       "20181120     7604\n",
       "20181217     7069\n",
       "20181129     7004\n",
       "20181227     6808\n",
       "20181218     6571\n",
       "20181219     6562\n",
       "20181128     6405\n",
       "20181221     6287\n",
       "20181220     6227\n",
       "20181228     6179\n",
       "20181206     6070\n",
       "20181116     6034\n",
       "20181210     5996\n",
       "20181213     5937\n",
       "20181205     5916\n",
       "20181113     5889\n",
       "20181102     5810\n",
       "20181029     5755\n",
       "20181126     5716\n",
       "20181011     5679\n",
       "20181010     5628\n",
       "            ...  \n",
       "20171101        1\n",
       "20180505        1\n",
       "20180210        1\n",
       "20170302        1\n",
       "20180405        1\n",
       "20180323        1\n",
       "20170921        1\n",
       "20180225        1\n",
       "20170928        1\n",
       "20180408        1\n",
       "20180707        1\n",
       "20151015        1\n",
       "20180617        1\n",
       "20170614        1\n",
       "20180401        1\n",
       "20160121        1\n",
       "20180208        1\n",
       "20170711        1\n",
       "20180415        1\n",
       "20161121        1\n",
       "20150608        1\n",
       "20180511        1\n",
       "20180313        1\n",
       "20161006        1\n",
       "20180708        1\n",
       "Name: rept_dt, Length: 352, dtype: int64"
      ]
     },
     "execution_count": 227,
     "metadata": {},
     "output_type": "execute_result"
    }
   ],
   "source": [
    "demo.rept_dt.value_counts(dropna=False)"
   ]
  },
  {
   "cell_type": "code",
   "execution_count": 229,
   "metadata": {},
   "outputs": [
    {
     "data": {
      "text/plain": [
       "20181016   0.03\n",
       "20181017   0.02\n",
       "20181015   0.02\n",
       "20181018   0.02\n",
       "20181120   0.02\n",
       "20181217   0.02\n",
       "20181129   0.02\n",
       "20181227   0.02\n",
       "20181218   0.02\n",
       "20181219   0.02\n",
       "Name: rept_dt, dtype: float64"
      ]
     },
     "execution_count": 229,
     "metadata": {},
     "output_type": "execute_result"
    }
   ],
   "source": [
    "demo.rept_dt.value_counts(normalize=True, dropna=False).head(10)"
   ]
  },
  {
   "cell_type": "code",
   "execution_count": 230,
   "metadata": {},
   "outputs": [
    {
     "data": {
      "text/plain": [
       "317"
      ]
     },
     "execution_count": 230,
     "metadata": {},
     "output_type": "execute_result"
    }
   ],
   "source": [
    "# missing values count\n",
    "demo.rept_dt.isna().sum()"
   ]
  },
  {
   "cell_type": "code",
   "execution_count": 232,
   "metadata": {},
   "outputs": [
    {
     "data": {
      "text/plain": [
       "0.0008044337750529099"
      ]
     },
     "execution_count": 232,
     "metadata": {},
     "output_type": "execute_result"
    }
   ],
   "source": [
    "demo.rept_dt.isna().sum()/demo.primaryid.count()"
   ]
  },
  {
   "cell_type": "code",
   "execution_count": 233,
   "metadata": {},
   "outputs": [
    {
     "data": {
      "text/html": [
       "<div>\n",
       "<style scoped>\n",
       "    .dataframe tbody tr th:only-of-type {\n",
       "        vertical-align: middle;\n",
       "    }\n",
       "\n",
       "    .dataframe tbody tr th {\n",
       "        vertical-align: top;\n",
       "    }\n",
       "\n",
       "    .dataframe thead th {\n",
       "        text-align: right;\n",
       "    }\n",
       "</style>\n",
       "<table border=\"1\" class=\"dataframe\">\n",
       "  <thead>\n",
       "    <tr style=\"text-align: right;\">\n",
       "      <th></th>\n",
       "      <th>primaryid</th>\n",
       "      <th>caseid</th>\n",
       "      <th>caseversion</th>\n",
       "      <th>i_f_code</th>\n",
       "      <th>event_dt</th>\n",
       "      <th>mfr_dt</th>\n",
       "      <th>init_fda_dt</th>\n",
       "      <th>fda_dt</th>\n",
       "      <th>rept_cod</th>\n",
       "      <th>auth_num</th>\n",
       "      <th>mfr_num</th>\n",
       "      <th>mfr_sndr</th>\n",
       "      <th>lit_ref</th>\n",
       "      <th>age</th>\n",
       "      <th>age_cod</th>\n",
       "      <th>age_grp</th>\n",
       "      <th>sex</th>\n",
       "      <th>e_sub</th>\n",
       "      <th>wt</th>\n",
       "      <th>wt_cod</th>\n",
       "      <th>rept_dt</th>\n",
       "      <th>to_mfr</th>\n",
       "      <th>occp_cod</th>\n",
       "      <th>reporter_country</th>\n",
       "      <th>occr_country</th>\n",
       "    </tr>\n",
       "  </thead>\n",
       "  <tbody>\n",
       "    <tr>\n",
       "      <th>20427</th>\n",
       "      <td>142482596</td>\n",
       "      <td>14248259</td>\n",
       "      <td>6</td>\n",
       "      <td>F</td>\n",
       "      <td>2017</td>\n",
       "      <td>20181023</td>\n",
       "      <td>20171204</td>\n",
       "      <td>20181029</td>\n",
       "      <td>EXP</td>\n",
       "      <td>FR-002147023-PHHY2017FR176929</td>\n",
       "      <td>PHHY2017FR176929</td>\n",
       "      <td>NOVARTIS</td>\n",
       "      <td>NaN</td>\n",
       "      <td>78.00</td>\n",
       "      <td>YR</td>\n",
       "      <td>NaN</td>\n",
       "      <td>F</td>\n",
       "      <td>Y</td>\n",
       "      <td>80.00</td>\n",
       "      <td>KG</td>\n",
       "      <td>NaN</td>\n",
       "      <td>NaN</td>\n",
       "      <td>OT</td>\n",
       "      <td>FR</td>\n",
       "      <td>FR</td>\n",
       "    </tr>\n",
       "    <tr>\n",
       "      <th>42888</th>\n",
       "      <td>150317284</td>\n",
       "      <td>15031728</td>\n",
       "      <td>4</td>\n",
       "      <td>F</td>\n",
       "      <td>20170306</td>\n",
       "      <td>20180722</td>\n",
       "      <td>20180619</td>\n",
       "      <td>20180727</td>\n",
       "      <td>EXP</td>\n",
       "      <td>NaN</td>\n",
       "      <td>PHHY2018FR024978</td>\n",
       "      <td>NOVARTIS</td>\n",
       "      <td>NaN</td>\n",
       "      <td>68.00</td>\n",
       "      <td>YR</td>\n",
       "      <td>NaN</td>\n",
       "      <td>M</td>\n",
       "      <td>Y</td>\n",
       "      <td>96.00</td>\n",
       "      <td>KG</td>\n",
       "      <td>NaN</td>\n",
       "      <td>NaN</td>\n",
       "      <td>OT</td>\n",
       "      <td>FR</td>\n",
       "      <td>FR</td>\n",
       "    </tr>\n",
       "    <tr>\n",
       "      <th>54684</th>\n",
       "      <td>152340061</td>\n",
       "      <td>15234006</td>\n",
       "      <td>1</td>\n",
       "      <td>I</td>\n",
       "      <td>NaN</td>\n",
       "      <td>20180606</td>\n",
       "      <td>20180802</td>\n",
       "      <td>20180802</td>\n",
       "      <td>EXP</td>\n",
       "      <td>NaN</td>\n",
       "      <td>PHHY2018ES063808</td>\n",
       "      <td>SANDOZ</td>\n",
       "      <td>NaN</td>\n",
       "      <td>nan</td>\n",
       "      <td>NaN</td>\n",
       "      <td>A</td>\n",
       "      <td>F</td>\n",
       "      <td>Y</td>\n",
       "      <td>nan</td>\n",
       "      <td>NaN</td>\n",
       "      <td>NaN</td>\n",
       "      <td>NaN</td>\n",
       "      <td>OT</td>\n",
       "      <td>ES</td>\n",
       "      <td>ES</td>\n",
       "    </tr>\n",
       "    <tr>\n",
       "      <th>54685</th>\n",
       "      <td>152340091</td>\n",
       "      <td>15234009</td>\n",
       "      <td>1</td>\n",
       "      <td>I</td>\n",
       "      <td>20180217</td>\n",
       "      <td>20180601</td>\n",
       "      <td>20180802</td>\n",
       "      <td>20180802</td>\n",
       "      <td>EXP</td>\n",
       "      <td>NaN</td>\n",
       "      <td>PHHY2018GB063683</td>\n",
       "      <td>SANDOZ</td>\n",
       "      <td>NaN</td>\n",
       "      <td>51.00</td>\n",
       "      <td>YR</td>\n",
       "      <td>NaN</td>\n",
       "      <td>M</td>\n",
       "      <td>Y</td>\n",
       "      <td>82.55</td>\n",
       "      <td>KG</td>\n",
       "      <td>NaN</td>\n",
       "      <td>NaN</td>\n",
       "      <td>OT</td>\n",
       "      <td>GB</td>\n",
       "      <td>GB</td>\n",
       "    </tr>\n",
       "    <tr>\n",
       "      <th>54707</th>\n",
       "      <td>152341871</td>\n",
       "      <td>15234187</td>\n",
       "      <td>1</td>\n",
       "      <td>I</td>\n",
       "      <td>20160123</td>\n",
       "      <td>20180724</td>\n",
       "      <td>20180802</td>\n",
       "      <td>20180802</td>\n",
       "      <td>EXP</td>\n",
       "      <td>FR-AFSSAPS-ST20181059</td>\n",
       "      <td>FR-TEVA-2018-FR-932970</td>\n",
       "      <td>TEVA</td>\n",
       "      <td>NaN</td>\n",
       "      <td>75.00</td>\n",
       "      <td>YR</td>\n",
       "      <td>NaN</td>\n",
       "      <td>F</td>\n",
       "      <td>Y</td>\n",
       "      <td>nan</td>\n",
       "      <td>NaN</td>\n",
       "      <td>NaN</td>\n",
       "      <td>NaN</td>\n",
       "      <td>MD</td>\n",
       "      <td>FR</td>\n",
       "      <td>FR</td>\n",
       "    </tr>\n",
       "    <tr>\n",
       "      <th>63135</th>\n",
       "      <td>153133691</td>\n",
       "      <td>15313369</td>\n",
       "      <td>1</td>\n",
       "      <td>I</td>\n",
       "      <td>201807</td>\n",
       "      <td>20180814</td>\n",
       "      <td>20180823</td>\n",
       "      <td>20180823</td>\n",
       "      <td>PER</td>\n",
       "      <td>NaN</td>\n",
       "      <td>US-TEVA-2018-US-945214</td>\n",
       "      <td>TEVA</td>\n",
       "      <td>NaN</td>\n",
       "      <td>nan</td>\n",
       "      <td>NaN</td>\n",
       "      <td>NaN</td>\n",
       "      <td>F</td>\n",
       "      <td>Y</td>\n",
       "      <td>nan</td>\n",
       "      <td>NaN</td>\n",
       "      <td>NaN</td>\n",
       "      <td>NaN</td>\n",
       "      <td>CN</td>\n",
       "      <td>US</td>\n",
       "      <td>US</td>\n",
       "    </tr>\n",
       "    <tr>\n",
       "      <th>64324</th>\n",
       "      <td>153236361</td>\n",
       "      <td>15323636</td>\n",
       "      <td>1</td>\n",
       "      <td>I</td>\n",
       "      <td>20180806</td>\n",
       "      <td>20180817</td>\n",
       "      <td>20180827</td>\n",
       "      <td>20180827</td>\n",
       "      <td>EXP</td>\n",
       "      <td>NaN</td>\n",
       "      <td>PHHY2018DE078420</td>\n",
       "      <td>SANDOZ</td>\n",
       "      <td>NaN</td>\n",
       "      <td>29.00</td>\n",
       "      <td>YR</td>\n",
       "      <td>NaN</td>\n",
       "      <td>M</td>\n",
       "      <td>Y</td>\n",
       "      <td>nan</td>\n",
       "      <td>NaN</td>\n",
       "      <td>NaN</td>\n",
       "      <td>NaN</td>\n",
       "      <td>CN</td>\n",
       "      <td>DE</td>\n",
       "      <td>DE</td>\n",
       "    </tr>\n",
       "    <tr>\n",
       "      <th>66091</th>\n",
       "      <td>153364721</td>\n",
       "      <td>15336472</td>\n",
       "      <td>1</td>\n",
       "      <td>I</td>\n",
       "      <td>20180623</td>\n",
       "      <td>20180819</td>\n",
       "      <td>20180830</td>\n",
       "      <td>20180830</td>\n",
       "      <td>EXP</td>\n",
       "      <td>NaN</td>\n",
       "      <td>PHHY2018FR081625</td>\n",
       "      <td>SANDOZ</td>\n",
       "      <td>NaN</td>\n",
       "      <td>73.00</td>\n",
       "      <td>YR</td>\n",
       "      <td>NaN</td>\n",
       "      <td>F</td>\n",
       "      <td>Y</td>\n",
       "      <td>82.00</td>\n",
       "      <td>KG</td>\n",
       "      <td>NaN</td>\n",
       "      <td>NaN</td>\n",
       "      <td>OT</td>\n",
       "      <td>FR</td>\n",
       "      <td>FR</td>\n",
       "    </tr>\n",
       "    <tr>\n",
       "      <th>83914</th>\n",
       "      <td>154488013</td>\n",
       "      <td>15448801</td>\n",
       "      <td>3</td>\n",
       "      <td>F</td>\n",
       "      <td>199606</td>\n",
       "      <td>20180925</td>\n",
       "      <td>20180929</td>\n",
       "      <td>20180929</td>\n",
       "      <td>EXP</td>\n",
       "      <td>NaN</td>\n",
       "      <td>PHHY2018AT111525</td>\n",
       "      <td>NOVARTIS</td>\n",
       "      <td>NaN</td>\n",
       "      <td>67.00</td>\n",
       "      <td>YR</td>\n",
       "      <td>NaN</td>\n",
       "      <td>M</td>\n",
       "      <td>Y</td>\n",
       "      <td>nan</td>\n",
       "      <td>NaN</td>\n",
       "      <td>NaN</td>\n",
       "      <td>NaN</td>\n",
       "      <td>OT</td>\n",
       "      <td>AT</td>\n",
       "      <td>AT</td>\n",
       "    </tr>\n",
       "    <tr>\n",
       "      <th>92411</th>\n",
       "      <td>154587971</td>\n",
       "      <td>15458797</td>\n",
       "      <td>1</td>\n",
       "      <td>I</td>\n",
       "      <td>NaN</td>\n",
       "      <td>NaN</td>\n",
       "      <td>20181001</td>\n",
       "      <td>20181001</td>\n",
       "      <td>DIR</td>\n",
       "      <td>NaN</td>\n",
       "      <td>NaN</td>\n",
       "      <td>FDA-CTU</td>\n",
       "      <td>NaN</td>\n",
       "      <td>64.00</td>\n",
       "      <td>YR</td>\n",
       "      <td>NaN</td>\n",
       "      <td>F</td>\n",
       "      <td>N</td>\n",
       "      <td>89.81</td>\n",
       "      <td>KG</td>\n",
       "      <td>NaN</td>\n",
       "      <td>N</td>\n",
       "      <td>CN</td>\n",
       "      <td>US</td>\n",
       "      <td>US</td>\n",
       "    </tr>\n",
       "    <tr>\n",
       "      <th>92518</th>\n",
       "      <td>154589161</td>\n",
       "      <td>15458916</td>\n",
       "      <td>1</td>\n",
       "      <td>I</td>\n",
       "      <td>NaN</td>\n",
       "      <td>NaN</td>\n",
       "      <td>20181002</td>\n",
       "      <td>20181002</td>\n",
       "      <td>DIR</td>\n",
       "      <td>NaN</td>\n",
       "      <td>NaN</td>\n",
       "      <td>FDA-CTU</td>\n",
       "      <td>NaN</td>\n",
       "      <td>56.00</td>\n",
       "      <td>YR</td>\n",
       "      <td>NaN</td>\n",
       "      <td>F</td>\n",
       "      <td>N</td>\n",
       "      <td>132.00</td>\n",
       "      <td>LBS</td>\n",
       "      <td>NaN</td>\n",
       "      <td>N</td>\n",
       "      <td>OT</td>\n",
       "      <td>US</td>\n",
       "      <td>US</td>\n",
       "    </tr>\n",
       "    <tr>\n",
       "      <th>92577</th>\n",
       "      <td>154589851</td>\n",
       "      <td>15458985</td>\n",
       "      <td>1</td>\n",
       "      <td>I</td>\n",
       "      <td>NaN</td>\n",
       "      <td>NaN</td>\n",
       "      <td>20181001</td>\n",
       "      <td>20181001</td>\n",
       "      <td>DIR</td>\n",
       "      <td>NaN</td>\n",
       "      <td>NaN</td>\n",
       "      <td>FDA-CTU</td>\n",
       "      <td>NaN</td>\n",
       "      <td>57.00</td>\n",
       "      <td>YR</td>\n",
       "      <td>NaN</td>\n",
       "      <td>F</td>\n",
       "      <td>N</td>\n",
       "      <td>61.69</td>\n",
       "      <td>KG</td>\n",
       "      <td>NaN</td>\n",
       "      <td>N</td>\n",
       "      <td>CN</td>\n",
       "      <td>US</td>\n",
       "      <td>US</td>\n",
       "    </tr>\n",
       "    <tr>\n",
       "      <th>92635</th>\n",
       "      <td>154590521</td>\n",
       "      <td>15459052</td>\n",
       "      <td>1</td>\n",
       "      <td>I</td>\n",
       "      <td>201805</td>\n",
       "      <td>NaN</td>\n",
       "      <td>20181001</td>\n",
       "      <td>20181001</td>\n",
       "      <td>DIR</td>\n",
       "      <td>NaN</td>\n",
       "      <td>NaN</td>\n",
       "      <td>FDA-CTU</td>\n",
       "      <td>NaN</td>\n",
       "      <td>56.00</td>\n",
       "      <td>YR</td>\n",
       "      <td>NaN</td>\n",
       "      <td>F</td>\n",
       "      <td>N</td>\n",
       "      <td>45.36</td>\n",
       "      <td>KG</td>\n",
       "      <td>NaN</td>\n",
       "      <td>N</td>\n",
       "      <td>CN</td>\n",
       "      <td>US</td>\n",
       "      <td>US</td>\n",
       "    </tr>\n",
       "    <tr>\n",
       "      <th>92755</th>\n",
       "      <td>154591941</td>\n",
       "      <td>15459194</td>\n",
       "      <td>1</td>\n",
       "      <td>I</td>\n",
       "      <td>NaN</td>\n",
       "      <td>NaN</td>\n",
       "      <td>20181002</td>\n",
       "      <td>20181002</td>\n",
       "      <td>DIR</td>\n",
       "      <td>NaN</td>\n",
       "      <td>NaN</td>\n",
       "      <td>FDA-CTU</td>\n",
       "      <td>NaN</td>\n",
       "      <td>56.00</td>\n",
       "      <td>YR</td>\n",
       "      <td>NaN</td>\n",
       "      <td>M</td>\n",
       "      <td>N</td>\n",
       "      <td>nan</td>\n",
       "      <td>NaN</td>\n",
       "      <td>NaN</td>\n",
       "      <td>Y</td>\n",
       "      <td>MD</td>\n",
       "      <td>US</td>\n",
       "      <td>US</td>\n",
       "    </tr>\n",
       "    <tr>\n",
       "      <th>96496</th>\n",
       "      <td>154632151</td>\n",
       "      <td>15463215</td>\n",
       "      <td>1</td>\n",
       "      <td>I</td>\n",
       "      <td>20180605</td>\n",
       "      <td>NaN</td>\n",
       "      <td>20181001</td>\n",
       "      <td>20181001</td>\n",
       "      <td>DIR</td>\n",
       "      <td>NaN</td>\n",
       "      <td>NaN</td>\n",
       "      <td>FDA-CTU</td>\n",
       "      <td>NaN</td>\n",
       "      <td>73.00</td>\n",
       "      <td>YR</td>\n",
       "      <td>NaN</td>\n",
       "      <td>M</td>\n",
       "      <td>N</td>\n",
       "      <td>87.09</td>\n",
       "      <td>KG</td>\n",
       "      <td>NaN</td>\n",
       "      <td>N</td>\n",
       "      <td>CN</td>\n",
       "      <td>US</td>\n",
       "      <td>US</td>\n",
       "    </tr>\n",
       "    <tr>\n",
       "      <th>100455</th>\n",
       "      <td>154673081</td>\n",
       "      <td>15467308</td>\n",
       "      <td>1</td>\n",
       "      <td>I</td>\n",
       "      <td>NaN</td>\n",
       "      <td>20180922</td>\n",
       "      <td>20181005</td>\n",
       "      <td>20181005</td>\n",
       "      <td>EXP</td>\n",
       "      <td>NaN</td>\n",
       "      <td>IT-IBIGEN-2018.04926</td>\n",
       "      <td>ISTITUTO BICHIMICO ITALIANO GIOVANNI LORENZINI...</td>\n",
       "      <td>LO RE V, PETRIDIS I, ZIVKOVI C S, BURGIO G, MU...</td>\n",
       "      <td>61.00</td>\n",
       "      <td>YR</td>\n",
       "      <td>NaN</td>\n",
       "      <td>F</td>\n",
       "      <td>Y</td>\n",
       "      <td>nan</td>\n",
       "      <td>NaN</td>\n",
       "      <td>NaN</td>\n",
       "      <td>NaN</td>\n",
       "      <td>MD</td>\n",
       "      <td>IT</td>\n",
       "      <td>IT</td>\n",
       "    </tr>\n",
       "    <tr>\n",
       "      <th>102364</th>\n",
       "      <td>154692841</td>\n",
       "      <td>15469284</td>\n",
       "      <td>1</td>\n",
       "      <td>I</td>\n",
       "      <td>NaN</td>\n",
       "      <td>NaN</td>\n",
       "      <td>20181001</td>\n",
       "      <td>20181001</td>\n",
       "      <td>DIR</td>\n",
       "      <td>NaN</td>\n",
       "      <td>NaN</td>\n",
       "      <td>FDA-CTU</td>\n",
       "      <td>NaN</td>\n",
       "      <td>47.00</td>\n",
       "      <td>YR</td>\n",
       "      <td>NaN</td>\n",
       "      <td>F</td>\n",
       "      <td>N</td>\n",
       "      <td>41.73</td>\n",
       "      <td>KG</td>\n",
       "      <td>NaN</td>\n",
       "      <td>N</td>\n",
       "      <td>OT</td>\n",
       "      <td>US</td>\n",
       "      <td>US</td>\n",
       "    </tr>\n",
       "    <tr>\n",
       "      <th>109581</th>\n",
       "      <td>154768131</td>\n",
       "      <td>15476813</td>\n",
       "      <td>1</td>\n",
       "      <td>I</td>\n",
       "      <td>201806</td>\n",
       "      <td>NaN</td>\n",
       "      <td>20181001</td>\n",
       "      <td>20181001</td>\n",
       "      <td>DIR</td>\n",
       "      <td>NaN</td>\n",
       "      <td>NaN</td>\n",
       "      <td>FDA-CTU</td>\n",
       "      <td>NaN</td>\n",
       "      <td>63.00</td>\n",
       "      <td>YR</td>\n",
       "      <td>NaN</td>\n",
       "      <td>F</td>\n",
       "      <td>N</td>\n",
       "      <td>108.86</td>\n",
       "      <td>KG</td>\n",
       "      <td>NaN</td>\n",
       "      <td>N</td>\n",
       "      <td>CN</td>\n",
       "      <td>US</td>\n",
       "      <td>US</td>\n",
       "    </tr>\n",
       "    <tr>\n",
       "      <th>111575</th>\n",
       "      <td>154788841</td>\n",
       "      <td>15478884</td>\n",
       "      <td>1</td>\n",
       "      <td>I</td>\n",
       "      <td>20180615</td>\n",
       "      <td>NaN</td>\n",
       "      <td>20181003</td>\n",
       "      <td>20181003</td>\n",
       "      <td>DIR</td>\n",
       "      <td>NaN</td>\n",
       "      <td>NaN</td>\n",
       "      <td>FDA-CTU</td>\n",
       "      <td>NaN</td>\n",
       "      <td>70.00</td>\n",
       "      <td>YR</td>\n",
       "      <td>NaN</td>\n",
       "      <td>F</td>\n",
       "      <td>N</td>\n",
       "      <td>108.86</td>\n",
       "      <td>KG</td>\n",
       "      <td>NaN</td>\n",
       "      <td>N</td>\n",
       "      <td>CN</td>\n",
       "      <td>US</td>\n",
       "      <td>US</td>\n",
       "    </tr>\n",
       "    <tr>\n",
       "      <th>111854</th>\n",
       "      <td>154791721</td>\n",
       "      <td>15479172</td>\n",
       "      <td>1</td>\n",
       "      <td>I</td>\n",
       "      <td>20180909</td>\n",
       "      <td>NaN</td>\n",
       "      <td>20181003</td>\n",
       "      <td>20181003</td>\n",
       "      <td>DIR</td>\n",
       "      <td>NaN</td>\n",
       "      <td>NaN</td>\n",
       "      <td>FDA-CTU</td>\n",
       "      <td>NaN</td>\n",
       "      <td>83.00</td>\n",
       "      <td>YR</td>\n",
       "      <td>NaN</td>\n",
       "      <td>M</td>\n",
       "      <td>N</td>\n",
       "      <td>85.73</td>\n",
       "      <td>KG</td>\n",
       "      <td>NaN</td>\n",
       "      <td>N</td>\n",
       "      <td>CN</td>\n",
       "      <td>US</td>\n",
       "      <td>US</td>\n",
       "    </tr>\n",
       "  </tbody>\n",
       "</table>\n",
       "</div>"
      ],
      "text/plain": [
       "        primaryid    caseid  caseversion i_f_code  event_dt    mfr_dt  \\\n",
       "20427   142482596  14248259            6        F      2017  20181023   \n",
       "42888   150317284  15031728            4        F  20170306  20180722   \n",
       "54684   152340061  15234006            1        I       NaN  20180606   \n",
       "54685   152340091  15234009            1        I  20180217  20180601   \n",
       "54707   152341871  15234187            1        I  20160123  20180724   \n",
       "63135   153133691  15313369            1        I    201807  20180814   \n",
       "64324   153236361  15323636            1        I  20180806  20180817   \n",
       "66091   153364721  15336472            1        I  20180623  20180819   \n",
       "83914   154488013  15448801            3        F    199606  20180925   \n",
       "92411   154587971  15458797            1        I       NaN       NaN   \n",
       "92518   154589161  15458916            1        I       NaN       NaN   \n",
       "92577   154589851  15458985            1        I       NaN       NaN   \n",
       "92635   154590521  15459052            1        I    201805       NaN   \n",
       "92755   154591941  15459194            1        I       NaN       NaN   \n",
       "96496   154632151  15463215            1        I  20180605       NaN   \n",
       "100455  154673081  15467308            1        I       NaN  20180922   \n",
       "102364  154692841  15469284            1        I       NaN       NaN   \n",
       "109581  154768131  15476813            1        I    201806       NaN   \n",
       "111575  154788841  15478884            1        I  20180615       NaN   \n",
       "111854  154791721  15479172            1        I  20180909       NaN   \n",
       "\n",
       "       init_fda_dt    fda_dt rept_cod                       auth_num  \\\n",
       "20427     20171204  20181029      EXP  FR-002147023-PHHY2017FR176929   \n",
       "42888     20180619  20180727      EXP                            NaN   \n",
       "54684     20180802  20180802      EXP                            NaN   \n",
       "54685     20180802  20180802      EXP                            NaN   \n",
       "54707     20180802  20180802      EXP          FR-AFSSAPS-ST20181059   \n",
       "63135     20180823  20180823      PER                            NaN   \n",
       "64324     20180827  20180827      EXP                            NaN   \n",
       "66091     20180830  20180830      EXP                            NaN   \n",
       "83914     20180929  20180929      EXP                            NaN   \n",
       "92411     20181001  20181001      DIR                            NaN   \n",
       "92518     20181002  20181002      DIR                            NaN   \n",
       "92577     20181001  20181001      DIR                            NaN   \n",
       "92635     20181001  20181001      DIR                            NaN   \n",
       "92755     20181002  20181002      DIR                            NaN   \n",
       "96496     20181001  20181001      DIR                            NaN   \n",
       "100455    20181005  20181005      EXP                            NaN   \n",
       "102364    20181001  20181001      DIR                            NaN   \n",
       "109581    20181001  20181001      DIR                            NaN   \n",
       "111575    20181003  20181003      DIR                            NaN   \n",
       "111854    20181003  20181003      DIR                            NaN   \n",
       "\n",
       "                       mfr_num  \\\n",
       "20427         PHHY2017FR176929   \n",
       "42888         PHHY2018FR024978   \n",
       "54684         PHHY2018ES063808   \n",
       "54685         PHHY2018GB063683   \n",
       "54707   FR-TEVA-2018-FR-932970   \n",
       "63135   US-TEVA-2018-US-945214   \n",
       "64324         PHHY2018DE078420   \n",
       "66091         PHHY2018FR081625   \n",
       "83914         PHHY2018AT111525   \n",
       "92411                      NaN   \n",
       "92518                      NaN   \n",
       "92577                      NaN   \n",
       "92635                      NaN   \n",
       "92755                      NaN   \n",
       "96496                      NaN   \n",
       "100455    IT-IBIGEN-2018.04926   \n",
       "102364                     NaN   \n",
       "109581                     NaN   \n",
       "111575                     NaN   \n",
       "111854                     NaN   \n",
       "\n",
       "                                                 mfr_sndr  \\\n",
       "20427                                            NOVARTIS   \n",
       "42888                                            NOVARTIS   \n",
       "54684                                              SANDOZ   \n",
       "54685                                              SANDOZ   \n",
       "54707                                                TEVA   \n",
       "63135                                                TEVA   \n",
       "64324                                              SANDOZ   \n",
       "66091                                              SANDOZ   \n",
       "83914                                            NOVARTIS   \n",
       "92411                                             FDA-CTU   \n",
       "92518                                             FDA-CTU   \n",
       "92577                                             FDA-CTU   \n",
       "92635                                             FDA-CTU   \n",
       "92755                                             FDA-CTU   \n",
       "96496                                             FDA-CTU   \n",
       "100455  ISTITUTO BICHIMICO ITALIANO GIOVANNI LORENZINI...   \n",
       "102364                                            FDA-CTU   \n",
       "109581                                            FDA-CTU   \n",
       "111575                                            FDA-CTU   \n",
       "111854                                            FDA-CTU   \n",
       "\n",
       "                                                  lit_ref   age age_cod  \\\n",
       "20427                                                 NaN 78.00      YR   \n",
       "42888                                                 NaN 68.00      YR   \n",
       "54684                                                 NaN   nan     NaN   \n",
       "54685                                                 NaN 51.00      YR   \n",
       "54707                                                 NaN 75.00      YR   \n",
       "63135                                                 NaN   nan     NaN   \n",
       "64324                                                 NaN 29.00      YR   \n",
       "66091                                                 NaN 73.00      YR   \n",
       "83914                                                 NaN 67.00      YR   \n",
       "92411                                                 NaN 64.00      YR   \n",
       "92518                                                 NaN 56.00      YR   \n",
       "92577                                                 NaN 57.00      YR   \n",
       "92635                                                 NaN 56.00      YR   \n",
       "92755                                                 NaN 56.00      YR   \n",
       "96496                                                 NaN 73.00      YR   \n",
       "100455  LO RE V, PETRIDIS I, ZIVKOVI C S, BURGIO G, MU... 61.00      YR   \n",
       "102364                                                NaN 47.00      YR   \n",
       "109581                                                NaN 63.00      YR   \n",
       "111575                                                NaN 70.00      YR   \n",
       "111854                                                NaN 83.00      YR   \n",
       "\n",
       "       age_grp sex e_sub     wt wt_cod rept_dt to_mfr occp_cod  \\\n",
       "20427      NaN   F     Y  80.00     KG     NaN    NaN       OT   \n",
       "42888      NaN   M     Y  96.00     KG     NaN    NaN       OT   \n",
       "54684        A   F     Y    nan    NaN     NaN    NaN       OT   \n",
       "54685      NaN   M     Y  82.55     KG     NaN    NaN       OT   \n",
       "54707      NaN   F     Y    nan    NaN     NaN    NaN       MD   \n",
       "63135      NaN   F     Y    nan    NaN     NaN    NaN       CN   \n",
       "64324      NaN   M     Y    nan    NaN     NaN    NaN       CN   \n",
       "66091      NaN   F     Y  82.00     KG     NaN    NaN       OT   \n",
       "83914      NaN   M     Y    nan    NaN     NaN    NaN       OT   \n",
       "92411      NaN   F     N  89.81     KG     NaN      N       CN   \n",
       "92518      NaN   F     N 132.00    LBS     NaN      N       OT   \n",
       "92577      NaN   F     N  61.69     KG     NaN      N       CN   \n",
       "92635      NaN   F     N  45.36     KG     NaN      N       CN   \n",
       "92755      NaN   M     N    nan    NaN     NaN      Y       MD   \n",
       "96496      NaN   M     N  87.09     KG     NaN      N       CN   \n",
       "100455     NaN   F     Y    nan    NaN     NaN    NaN       MD   \n",
       "102364     NaN   F     N  41.73     KG     NaN      N       OT   \n",
       "109581     NaN   F     N 108.86     KG     NaN      N       CN   \n",
       "111575     NaN   F     N 108.86     KG     NaN      N       CN   \n",
       "111854     NaN   M     N  85.73     KG     NaN      N       CN   \n",
       "\n",
       "       reporter_country occr_country  \n",
       "20427                FR           FR  \n",
       "42888                FR           FR  \n",
       "54684                ES           ES  \n",
       "54685                GB           GB  \n",
       "54707                FR           FR  \n",
       "63135                US           US  \n",
       "64324                DE           DE  \n",
       "66091                FR           FR  \n",
       "83914                AT           AT  \n",
       "92411                US           US  \n",
       "92518                US           US  \n",
       "92577                US           US  \n",
       "92635                US           US  \n",
       "92755                US           US  \n",
       "96496                US           US  \n",
       "100455               IT           IT  \n",
       "102364               US           US  \n",
       "109581               US           US  \n",
       "111575               US           US  \n",
       "111854               US           US  "
      ]
     },
     "execution_count": 233,
     "metadata": {},
     "output_type": "execute_result"
    }
   ],
   "source": [
    "demo[demo.rept_dt.isna()].head(20)"
   ]
  },
  {
   "cell_type": "markdown",
   "metadata": {},
   "source": [
    "Less than 1% of missing values. Missing values count is consistent with the FDA number."
   ]
  },
  {
   "cell_type": "markdown",
   "metadata": {},
   "source": [
    "##### to_mfr  \n",
    "\n",
    "From documentation:  \n",
    "\n",
    "> Whether (Y/N) voluntary reporter also notified manufacturer (blank for manufacturer reports)."
   ]
  },
  {
   "cell_type": "code",
   "execution_count": 234,
   "metadata": {},
   "outputs": [
    {
     "data": {
      "text/plain": [
       "count     23479\n",
       "unique        3\n",
       "top           N\n",
       "freq      22175\n",
       "Name: to_mfr, dtype: object"
      ]
     },
     "execution_count": 234,
     "metadata": {},
     "output_type": "execute_result"
    }
   ],
   "source": [
    "demo.to_mfr.describe()"
   ]
  },
  {
   "cell_type": "code",
   "execution_count": 235,
   "metadata": {},
   "outputs": [
    {
     "data": {
      "text/plain": [
       "NaN    370587\n",
       "N       22175\n",
       "Y        1303\n",
       "U           1\n",
       "Name: to_mfr, dtype: int64"
      ]
     },
     "execution_count": 235,
     "metadata": {},
     "output_type": "execute_result"
    }
   ],
   "source": [
    "demo.to_mfr.value_counts(dropna=False)"
   ]
  },
  {
   "cell_type": "code",
   "execution_count": 236,
   "metadata": {
    "scrolled": true
   },
   "outputs": [
    {
     "data": {
      "text/plain": [
       "NaN   0.94\n",
       "N     0.06\n",
       "Y     0.00\n",
       "U     0.00\n",
       "Name: to_mfr, dtype: float64"
      ]
     },
     "execution_count": 236,
     "metadata": {},
     "output_type": "execute_result"
    }
   ],
   "source": [
    "demo.to_mfr.value_counts(normalize=True, dropna=False)"
   ]
  },
  {
   "cell_type": "code",
   "execution_count": 237,
   "metadata": {},
   "outputs": [
    {
     "data": {
      "text/html": [
       "<div>\n",
       "<style scoped>\n",
       "    .dataframe tbody tr th:only-of-type {\n",
       "        vertical-align: middle;\n",
       "    }\n",
       "\n",
       "    .dataframe tbody tr th {\n",
       "        vertical-align: top;\n",
       "    }\n",
       "\n",
       "    .dataframe thead th {\n",
       "        text-align: right;\n",
       "    }\n",
       "</style>\n",
       "<table border=\"1\" class=\"dataframe\">\n",
       "  <thead>\n",
       "    <tr style=\"text-align: right;\">\n",
       "      <th></th>\n",
       "      <th>primaryid</th>\n",
       "      <th>caseid</th>\n",
       "      <th>caseversion</th>\n",
       "      <th>i_f_code</th>\n",
       "      <th>event_dt</th>\n",
       "      <th>mfr_dt</th>\n",
       "      <th>init_fda_dt</th>\n",
       "      <th>fda_dt</th>\n",
       "      <th>rept_cod</th>\n",
       "      <th>auth_num</th>\n",
       "      <th>mfr_num</th>\n",
       "      <th>mfr_sndr</th>\n",
       "      <th>lit_ref</th>\n",
       "      <th>age</th>\n",
       "      <th>age_cod</th>\n",
       "      <th>age_grp</th>\n",
       "      <th>sex</th>\n",
       "      <th>e_sub</th>\n",
       "      <th>wt</th>\n",
       "      <th>wt_cod</th>\n",
       "      <th>rept_dt</th>\n",
       "      <th>to_mfr</th>\n",
       "      <th>occp_cod</th>\n",
       "      <th>reporter_country</th>\n",
       "      <th>occr_country</th>\n",
       "    </tr>\n",
       "  </thead>\n",
       "  <tbody>\n",
       "    <tr>\n",
       "      <th>390524</th>\n",
       "      <td>158228921</td>\n",
       "      <td>15822892</td>\n",
       "      <td>1</td>\n",
       "      <td>I</td>\n",
       "      <td>20181204</td>\n",
       "      <td>NaN</td>\n",
       "      <td>20181217</td>\n",
       "      <td>20181217</td>\n",
       "      <td>DIR</td>\n",
       "      <td>NaN</td>\n",
       "      <td>NaN</td>\n",
       "      <td>FDA-CTU</td>\n",
       "      <td>NaN</td>\n",
       "      <td>1.00</td>\n",
       "      <td>DY</td>\n",
       "      <td>NaN</td>\n",
       "      <td>M</td>\n",
       "      <td>N</td>\n",
       "      <td>nan</td>\n",
       "      <td>NaN</td>\n",
       "      <td>20181213</td>\n",
       "      <td>U</td>\n",
       "      <td>OT</td>\n",
       "      <td>US</td>\n",
       "      <td>US</td>\n",
       "    </tr>\n",
       "  </tbody>\n",
       "</table>\n",
       "</div>"
      ],
      "text/plain": [
       "        primaryid    caseid  caseversion i_f_code  event_dt mfr_dt  \\\n",
       "390524  158228921  15822892            1        I  20181204    NaN   \n",
       "\n",
       "       init_fda_dt    fda_dt rept_cod auth_num mfr_num mfr_sndr lit_ref  age  \\\n",
       "390524    20181217  20181217      DIR      NaN     NaN  FDA-CTU     NaN 1.00   \n",
       "\n",
       "       age_cod age_grp sex e_sub  wt wt_cod   rept_dt to_mfr occp_cod  \\\n",
       "390524      DY     NaN   M     N nan    NaN  20181213      U       OT   \n",
       "\n",
       "       reporter_country occr_country  \n",
       "390524               US           US  "
      ]
     },
     "execution_count": 237,
     "metadata": {},
     "output_type": "execute_result"
    }
   ],
   "source": [
    "demo[demo.to_mfr == \"U\"]"
   ]
  },
  {
   "cell_type": "markdown",
   "metadata": {},
   "source": [
    "94% of the values are missing. The Y, N and missing value counts match the FDA numbers, but the U value with a count of 1 is not present in the FDA numbers in the accompanying pdf file. The record with this value is displayed above."
   ]
  },
  {
   "cell_type": "markdown",
   "metadata": {},
   "source": [
    "##### occp_cod  \n",
    "\n",
    "From documentation:  \n",
    "\n",
    "> Abbreviation for the reporter's type of occupation in the latest version of a case.\n",
    ">\n",
    "> | CODE      | MEANING_TEXT\n",
    "| ----      | ------------\n",
    "| MD        | Physician\n",
    "| PH        | Pharmacist\n",
    "| OT        | Other health-professional\n",
    "| LW        | Lawyer\n",
    "| CN | Consumer"
   ]
  },
  {
   "cell_type": "code",
   "execution_count": 238,
   "metadata": {},
   "outputs": [
    {
     "data": {
      "text/plain": [
       "count     387070\n",
       "unique         5\n",
       "top           CN\n",
       "freq      168973\n",
       "Name: occp_cod, dtype: object"
      ]
     },
     "execution_count": 238,
     "metadata": {},
     "output_type": "execute_result"
    }
   ],
   "source": [
    "demo.occp_cod.describe()"
   ]
  },
  {
   "cell_type": "code",
   "execution_count": 239,
   "metadata": {},
   "outputs": [
    {
     "data": {
      "text/plain": [
       "CN     168973\n",
       "MD      99246\n",
       "OT      80654\n",
       "PH      31766\n",
       "NaN      6996\n",
       "LW       6431\n",
       "Name: occp_cod, dtype: int64"
      ]
     },
     "execution_count": 239,
     "metadata": {},
     "output_type": "execute_result"
    }
   ],
   "source": [
    "demo.occp_cod.value_counts(dropna=False)"
   ]
  },
  {
   "cell_type": "code",
   "execution_count": 240,
   "metadata": {},
   "outputs": [
    {
     "data": {
      "text/plain": [
       "CN    0.43\n",
       "MD    0.25\n",
       "OT    0.20\n",
       "PH    0.08\n",
       "NaN   0.02\n",
       "LW    0.02\n",
       "Name: occp_cod, dtype: float64"
      ]
     },
     "execution_count": 240,
     "metadata": {},
     "output_type": "execute_result"
    }
   ],
   "source": [
    "demo.occp_cod.value_counts(normalize=True, dropna=False)"
   ]
  },
  {
   "cell_type": "markdown",
   "metadata": {},
   "source": [
    "There are 2% missing values. The frequency counts are consistent with the FDA numbers."
   ]
  },
  {
   "cell_type": "markdown",
   "metadata": {},
   "source": [
    "##### reporter_country  \n",
    "\n",
    "ISO country codes can be found here: https://www.iso.org/obp/ui/#search/code/  \n",
    "\n",
    "\n",
    "From documentation:  \n",
    "\n",
    "> The country of the reporter in the latest version of a case.\n",
    ">\n",
    "> \\* Note: the links to the country codes in the documentation don't really work.\n",
    "\n",
    "   "
   ]
  },
  {
   "cell_type": "code",
   "execution_count": 241,
   "metadata": {},
   "outputs": [
    {
     "data": {
      "text/plain": [
       "count     394066\n",
       "unique       160\n",
       "top           US\n",
       "freq      249968\n",
       "Name: reporter_country, dtype: object"
      ]
     },
     "execution_count": 241,
     "metadata": {},
     "output_type": "execute_result"
    }
   ],
   "source": [
    "demo.reporter_country.describe()"
   ]
  },
  {
   "cell_type": "code",
   "execution_count": 242,
   "metadata": {},
   "outputs": [
    {
     "data": {
      "text/plain": [
       "US                       249968\n",
       "CA                        16897\n",
       "GB                        16739\n",
       "FR                        15736\n",
       "JP                        15711\n",
       "COUNTRY NOT SPECIFIED     14719\n",
       "DE                        10502\n",
       "IT                         7833\n",
       "ES                         4681\n",
       "BR                         3454\n",
       "CN                         2883\n",
       "AU                         2787\n",
       "NL                         2455\n",
       "IN                         1889\n",
       "PT                         1694\n",
       "CO                         1619\n",
       "SE                         1462\n",
       "PL                         1349\n",
       "BE                         1272\n",
       "TR                         1086\n",
       "CH                         1065\n",
       "ZA                          994\n",
       "AR                          978\n",
       "GR                          962\n",
       "IL                          873\n",
       "                          ...  \n",
       "AX                            2\n",
       "ZW                            2\n",
       "KH                            2\n",
       "CI                            1\n",
       "BN                            1\n",
       "BQ                            1\n",
       "AZ                            1\n",
       "ML                            1\n",
       "BJ                            1\n",
       "JE                            1\n",
       "BM                            1\n",
       "UZ                            1\n",
       "HT                            1\n",
       "SN                            1\n",
       "AS                            1\n",
       "MC                            1\n",
       "BF                            1\n",
       "SY                            1\n",
       "FO                            1\n",
       "AQ                            1\n",
       "CD                            1\n",
       "BB                            1\n",
       "MQ                            1\n",
       "CW                            1\n",
       "GP                            1\n",
       "Name: reporter_country, Length: 160, dtype: int64"
      ]
     },
     "execution_count": 242,
     "metadata": {},
     "output_type": "execute_result"
    }
   ],
   "source": [
    "demo.reporter_country.value_counts(dropna=False)"
   ]
  },
  {
   "cell_type": "code",
   "execution_count": 243,
   "metadata": {},
   "outputs": [
    {
     "data": {
      "text/plain": [
       "US                      0.63\n",
       "CA                      0.04\n",
       "GB                      0.04\n",
       "FR                      0.04\n",
       "JP                      0.04\n",
       "COUNTRY NOT SPECIFIED   0.04\n",
       "DE                      0.03\n",
       "IT                      0.02\n",
       "ES                      0.01\n",
       "BR                      0.01\n",
       "CN                      0.01\n",
       "AU                      0.01\n",
       "NL                      0.01\n",
       "IN                      0.00\n",
       "PT                      0.00\n",
       "CO                      0.00\n",
       "SE                      0.00\n",
       "PL                      0.00\n",
       "BE                      0.00\n",
       "TR                      0.00\n",
       "Name: reporter_country, dtype: float64"
      ]
     },
     "execution_count": 243,
     "metadata": {},
     "output_type": "execute_result"
    }
   ],
   "source": [
    "demo.reporter_country.value_counts(normalize=True, dropna=False).head(20)"
   ]
  },
  {
   "cell_type": "markdown",
   "metadata": {},
   "source": [
    "There are no missing values, which is consistent with the FDA number.  \n",
    "However, about 4% of the case records have \"COUNTRY NOT SPECIFIED\" in this field."
   ]
  },
  {
   "cell_type": "markdown",
   "metadata": {},
   "source": [
    "##### occr_country  \n",
    "\n",
    "_From documentation:_  \n",
    "> The country where the event occurred."
   ]
  },
  {
   "cell_type": "code",
   "execution_count": 244,
   "metadata": {},
   "outputs": [
    {
     "data": {
      "text/plain": [
       "count     394053\n",
       "unique       163\n",
       "top           US\n",
       "freq      262062\n",
       "Name: occr_country, dtype: object"
      ]
     },
     "execution_count": 244,
     "metadata": {},
     "output_type": "execute_result"
    }
   ],
   "source": [
    "demo.occr_country.describe()"
   ]
  },
  {
   "cell_type": "code",
   "execution_count": 245,
   "metadata": {},
   "outputs": [
    {
     "data": {
      "text/plain": [
       "US    262062\n",
       "CA     17550\n",
       "FR     16969\n",
       "JP     15968\n",
       "GB     13561\n",
       "DE     10752\n",
       "IT      8315\n",
       "ES      4896\n",
       "BR      3873\n",
       "CN      2988\n",
       "AU      2850\n",
       "NL      2568\n",
       "CO      1962\n",
       "IN      1825\n",
       "PT      1795\n",
       "SE      1478\n",
       "PL      1432\n",
       "BE      1324\n",
       "TR      1124\n",
       "AR      1096\n",
       "ZA      1074\n",
       "CH      1048\n",
       "GR       999\n",
       "IL       914\n",
       "RU       897\n",
       "       ...  \n",
       "BM         1\n",
       "CW         1\n",
       "GW         1\n",
       "AS         1\n",
       "MC         1\n",
       "BQ         1\n",
       "KY         1\n",
       "CI         1\n",
       "SY         1\n",
       "WF         1\n",
       "AZ         1\n",
       "WS         1\n",
       "BN         1\n",
       "PF         1\n",
       "HT         1\n",
       "BB         1\n",
       "CD         1\n",
       "MQ         1\n",
       "AQ         1\n",
       "SZ         1\n",
       "RW         1\n",
       "MU         1\n",
       "UZ         1\n",
       "FO         1\n",
       "SN         1\n",
       "Name: occr_country, Length: 164, dtype: int64"
      ]
     },
     "execution_count": 245,
     "metadata": {},
     "output_type": "execute_result"
    }
   ],
   "source": [
    "demo.occr_country.value_counts(dropna=False)"
   ]
  },
  {
   "cell_type": "code",
   "execution_count": 246,
   "metadata": {},
   "outputs": [
    {
     "data": {
      "text/plain": [
       "US   0.67\n",
       "CA   0.04\n",
       "FR   0.04\n",
       "JP   0.04\n",
       "GB   0.03\n",
       "DE   0.03\n",
       "IT   0.02\n",
       "ES   0.01\n",
       "BR   0.01\n",
       "CN   0.01\n",
       "AU   0.01\n",
       "NL   0.01\n",
       "CO   0.00\n",
       "IN   0.00\n",
       "PT   0.00\n",
       "SE   0.00\n",
       "PL   0.00\n",
       "BE   0.00\n",
       "TR   0.00\n",
       "AR   0.00\n",
       "Name: occr_country, dtype: float64"
      ]
     },
     "execution_count": 246,
     "metadata": {},
     "output_type": "execute_result"
    }
   ],
   "source": [
    "demo.occr_country.value_counts(normalize=True, dropna=False).head(20)"
   ]
  },
  {
   "cell_type": "code",
   "execution_count": 247,
   "metadata": {},
   "outputs": [
    {
     "data": {
      "text/plain": [
       "13"
      ]
     },
     "execution_count": 247,
     "metadata": {},
     "output_type": "execute_result"
    }
   ],
   "source": [
    "# missing values count\n",
    "demo.occr_country.isna().sum()"
   ]
  },
  {
   "cell_type": "code",
   "execution_count": 254,
   "metadata": {},
   "outputs": [
    {
     "data": {
      "text/plain": [
       "2.00    394053\n",
       "nan         13\n",
       "Name: occr_country, dtype: int64"
      ]
     },
     "execution_count": 254,
     "metadata": {},
     "output_type": "execute_result"
    }
   ],
   "source": [
    "demo.occr_country.str.len().value_counts(dropna=False)"
   ]
  },
  {
   "cell_type": "markdown",
   "metadata": {},
   "source": [
    "There is less than 1% missing values. The missing values count is consistent with the FDA number."
   ]
  },
  {
   "cell_type": "markdown",
   "metadata": {},
   "source": [
    "##### Summary for DEMO ASCII file  \n",
    "\n",
    "The data is mostly consistent with the accompanying FDA missing value and frequency counts pdf.\n",
    "\n",
    "* **Data quality issues found:**  \n",
    "  - one record has a negative value in the `age` field  \n",
    "  - one record has a \"U\" categorical value in the `to_mfr` field, which wasn't listed in the FDA pdf  \n",
    "  - While the `reporter_country` field does not have null missing values, it does contain the value \"COUNTRY NOT SPECIFIED\", which indicates missing country values. About 4% of records have this value.\n",
    "  - some fields have low counts of non-missing values, which can be problematic for analyses  \n",
    "\n",
    "  \n",
    "* **Data cleaning steps to do:**  \n",
    "  - "
   ]
  },
  {
   "cell_type": "code",
   "execution_count": null,
   "metadata": {},
   "outputs": [],
   "source": []
  }
 ],
 "metadata": {
  "kernelspec": {
   "display_name": "Python 3",
   "language": "python",
   "name": "python3"
  },
  "language_info": {
   "codemirror_mode": {
    "name": "ipython",
    "version": 3
   },
   "file_extension": ".py",
   "mimetype": "text/x-python",
   "name": "python",
   "nbconvert_exporter": "python",
   "pygments_lexer": "ipython3",
   "version": "3.7.2"
  }
 },
 "nbformat": 4,
 "nbformat_minor": 2
}
